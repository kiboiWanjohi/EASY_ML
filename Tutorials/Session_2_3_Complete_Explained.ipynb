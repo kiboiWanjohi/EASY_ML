{
  "nbformat": 4,
  "nbformat_minor": 0,
  "metadata": {
    "colab": {
      "provenance": []
    },
    "kernelspec": {
      "name": "python3",
      "display_name": "Python 3"
    },
    "language_info": {
      "name": "python"
    }
  },
  "cells": [
    {
      "cell_type": "markdown",
      "source": [
        "---\n",
        "# Session 3\n",
        "\n",
        "---"
      ],
      "metadata": {
        "id": "P4ey80jOHYUt"
      }
    },
    {
      "cell_type": "markdown",
      "source": [
        "# Example a classification with MNIST dataset"
      ],
      "metadata": {
        "id": "TP_EOYILA2Mf"
      }
    },
    {
      "cell_type": "markdown",
      "source": [
        "## Task: Create a simple CNN model\n",
        "\n",
        "Create a CNN for training grayscale image of size 28 x 28 pixels, with :\n",
        "\n",
        "\n",
        "*   One 2D convolutionnal layer with 16 filters\n",
        "*   One 2D convolutionnal layer with 32 filters\n",
        "*   One MaxPooling layer with stride=2 and kernel=2\n",
        "*   One Dense layer of 128 neurons\n",
        "*   One Dense layer of 64 neurons\n",
        "*   One ouput layer with 10 output\n",
        "\n",
        "\n",
        "\n"
      ],
      "metadata": {
        "id": "CEUbHT8DAyE8"
      }
    },
    {
      "cell_type": "code",
      "source": [
        "import numpy as np # Import the numpy library for numerical operations\n",
        "\n",
        "import torch # Import the PyTorch library\n",
        "from torch import nn # Import the neural network module from PyTorch\n",
        "\n",
        "# Import torchvision\n",
        "import torchvision # Import the torchvision library, which provides access to datasets, models, and image transformations\n",
        "from torchvision import datasets # Import the datasets module from torchvision, which contains standard datasets like MNIST\n",
        "from torchvision.transforms import ToTensor, transforms # Import the ToTensor transform to convert PIL Images to PyTorch Tensors\n",
        "from torch.utils.data import Subset\n",
        "\n",
        "# Import matplotlib for visualization\n",
        "import matplotlib.pyplot as plt # Import the matplotlib.pyplot module for creating plots and visualizations"
      ],
      "metadata": {
        "id": "ti5nrd3ABOhR"
      },
      "execution_count": null,
      "outputs": []
    },
    {
      "cell_type": "code",
      "source": [
        "class SimpleCNN(nn.Module):\n",
        "    '''\n",
        "    class SimpleCNN(nn.Module): This line defines a new class SimpleCNN that inherits\n",
        "    from nn.Module. In PyTorch, nn.Module is the base class for all neural network modules.\n",
        "    Any custom neural network or layer must subclass nn.Module. This provides\n",
        "    the basic functionality for tracking parameters, submodules, and moving\n",
        "    data through the network.\n",
        "    '''\n",
        "\n",
        "    def __init__(self):\n",
        "        '''\n",
        "        This is the constructor method for the SimpleCNN class.\n",
        "        When you create an instance of SimpleCNN (e.g., model = SimpleCNN()),\n",
        "        this method is called. It's where you define all the layers (or sub-modules)\n",
        "        that your neural network will use.\n",
        "        '''\n",
        "        super(SimpleCNN, self).__init__()\n",
        "        '''\n",
        "        This line calls the constructor of the parent class (nn.Module).\n",
        "        It's crucial for proper initialization of the PyTorch module system.\n",
        "        '''\n",
        "        self.conv1 = nn.Conv2d(in_channels=1, out_channels=16, kernel_size=3, padding=1)\n",
        "        '''\n",
        "        nn.Conv2d: This creates a 2D convolutional layer. Convolutional layers are\n",
        "        fundamental to CNNs as they learn hierarchical features from spatial data like images.\n",
        "        They do this by applying a small filter (or kernel) across the input image\n",
        "\n",
        "        in_channels=1: Indicates the input is a single-channel image (like grayscale).\n",
        "        If it were an RGB image, in_channels would be 3. The input tensor for this layer\n",
        "        would have a shape (Batch_Size, 1, Height, Width).\n",
        "\n",
        "        out_channels=16: This layer will produce 16 different \"feature maps.\"\n",
        "        Each feature map is the result of a unique 3x3 filter sliding across the input.\n",
        "        The output tensor will have a shape (Batch_Size, 16, New_Height, New_Width).\n",
        "\n",
        "        The choice of 16 for out_channels is a design decision made by the person creating\n",
        "        the neural network, not a value mathematically derived from the MNIST dataset itself.\n",
        "        In summary, 16 is a hyperparameter chosen to provide sufficient learning capacity for\n",
        "        the initial feature extraction on MNIST images without being excessively complex or\n",
        "        computationally expensive. It's a common practice based on empirical success in similar\n",
        "        image classification tasks.\n",
        "\n",
        "        kernel_size=3: The filter (or kernel) that slides over the image is a\n",
        "        3x3 matrix of learnable weights. This small size allows it to detect local patterns.\n",
        "\n",
        "        padding=1: A padding of 1 pixel is added around the input image. This is\n",
        "        often used to ensure that the spatial dimensions (height and width) of the output feature\n",
        "        maps remain the same as the input when stride=1 and kernel_size is odd (like 3). Without\n",
        "        padding, the output dimensions would shrink with each convolution.\n",
        "\n",
        "        The output spatial dimension formula for nn.Conv2d is:\n",
        "        Output_Dim = floor((Input_Dim - Kernel_Size + 2 * Padding) / Stride) + 1\n",
        "        If Input_Dim = H, Kernel_Size = 3, Padding = 1, Stride = 1, then Output_Dim = floor((H - 3 + 2*1) / 1) + 1 = floor(H - 1) + 1 = H.\n",
        "        '''\n",
        "        self.relu1 = nn.ReLU()\n",
        "        '''\n",
        "        ReLU (Rectified Linear Unit) is an activation function. It introduces non-linearity into the network. Without non-linearities,\n",
        "        a deep network would just be a series of linear transformations, equivalent to a single linear transformation, limiting its\n",
        "        ability to learn complex patterns.\n",
        "        '''\n",
        "        self.conv2 = nn.Conv2d(in_channels=16, out_channels=32, kernel_size=3, padding=1)\n",
        "        '''\n",
        "        This is the second convolutional layer. It takes the 16 feature maps from conv1 as its input channels and learns 32 new filters to\n",
        "        produce 32 output feature maps. It extracts higher-level features based on the features detected by conv1.\n",
        "\n",
        "        self.conv2 acts as a feature extractor that builds upon the simpler features learned by self.conv1. It takes the 16 feature maps\n",
        "        from conv1 as its input and learns to combine them into 32 new, more complex feature maps, which are then passed on to subsequent\n",
        "        layers for further processing (in this case, pooling).\n",
        "        '''\n",
        "        # ReLU activation function after the second convolution.\n",
        "        self.relu2 = nn.ReLU()\n",
        "\n",
        "        self.pool = nn.MaxPool2d(kernel_size=2, stride=2)\n",
        "        '''\n",
        "        nn.MaxPool2d: This specifically creates a 2D max pooling operation. It slides a window (defined by kernel_size) over the input\n",
        "        feature map and, for each window, outputs the maximum value within that window.\n",
        "\n",
        "        kernel_size=2:This defines the size of the window (or filter) that slides over the feature map. In this case, it's a 2x2 window.\n",
        "        The pooling operation will consider every 2x2 block of pixels and select the largest value from that block.For a given 2x2 input\n",
        "        patch, only the maximum of the four values is retained.\n",
        "\n",
        "        stride=2:This defines how many pixels the pooling window moves at each step. A stride of 2 means that after processing one 2x2\n",
        "        block, the window shifts 2 pixels horizontally, and then 2 pixels vertically for the next row. Since the stride equals the kernel\n",
        "        size, the pooling windows are non-overlapping.\n",
        "\n",
        "        Because the stride is 2, and kernel_size is 2, the spatial dimensions (height and width) of the input feature map will be halved.\n",
        "\n",
        "        the tensor shape after self.pool will be [Batch_Size, 32, 14, 14]\n",
        "        '''\n",
        "\n",
        "        self.fc1 = nn.Linear(32 * 14 * 14, 128)\n",
        "        '''\n",
        "        This line defines the first fully connected (FC) layer, also known as a dense layer. Fully connected layers are typically used at the end\n",
        "        of a CNN after the convolutional and pooling layers have extracted and summarized high-level features from the input image. Their purpose\n",
        "        is to perform classification (or regression) based on these extracted features.\n",
        "\n",
        "        nn.Linear:This creates a linear transformation, which is the core operation of a fully connected layer. Mathematically, it performs a matrix\n",
        "        multiplication of the input vector with a weight matrix, and then adds a bias vector.\n",
        "        '''\n",
        "\n",
        "        self.fc2 = nn.Linear(128, 64)\n",
        "        '''\n",
        "        self.fc2 takes the 128 abstract features from the first fully connected layer and transforms them into an even more compressed, 64-element feature vector.\n",
        "        This 64-element vector represents a refined summary of the input image's characteristics, which is then passed to the final output layer for making\n",
        "        the classification decision. It acts as an additional hidden layer that refines the features before the final classification step.\n",
        "\n",
        "        nn.Linear: As before, this signifies a standard fully connected (or dense) layer, performing a linear transformation on its input.\n",
        "\n",
        "        128 (Input Features):This layer expects 128 input features (neurons). This number directly corresponds to the out_features of the\n",
        "        preceding self.fc1 layer. It means that self.fc2 takes the 128 high-level features generated by self.fc1 as its input.\n",
        "        The input tensor to self.fc2 will have a shape [Batch_Size, 128].\n",
        "        64 (Output Features):This defines the number of output features (neurons) that this layer will produce. This is another hyperparameter\n",
        "        chosen by the model designer. This layer further reduces the dimensionality of the feature representation from 128 down to 64. This\n",
        "        compression can help in learning more robust and discriminative features, and also reduces the number of parameters for the final output layer.\n",
        "        The output tensor from self.fc2 will have a shape [Batch_Size, 64].\n",
        "        '''\n",
        "\n",
        "        # Output layer, a fully connected layer with 64 input features and 10 output features (for 10 classes in MNIST).\n",
        "        self.out = nn.Linear(64, 10)\n",
        "\n",
        "    def forward(self, x):\n",
        "        # Define the forward pass of the network.\n",
        "        # Input x is the image tensor.\n",
        "        x = self.conv1(x) # Apply the first convolution.\n",
        "        x = self.relu1(x) # Apply the first ReLU activation.\n",
        "        x = self.conv2(x) # Apply the second convolution.\n",
        "        x = self.relu2(x) # Apply the second ReLU activation.\n",
        "        x = self.pool(x) # Apply the Max pooling layer.  Size:: [Batch_Size, 32, 14, 14]\n",
        "        x = torch.flatten(x, 1)\n",
        "        '''\n",
        "        We previously determined that the output of the self.pool layer has a shape of [Batch_Size, 32, 14, 14].\n",
        "        torch.flatten(x, 1) (which you have in your forward method) takes this 3D tensor (excluding the batch dimension) and reshapes it into a 1D vector.\n",
        "        Therefore, the number of elements in this flattened vector for each image is 32 channels * 14 height * 14 width = 6272.\n",
        "        This 6272 is the exact number of input features (in_features) for this nn.Linear layer.\n",
        "        '''\n",
        "        x = self.fc1(x) # Apply the first fully connected layer.\n",
        "        x = self.fc2(x) # Apply the second fully connected layer.\n",
        "        return self.out(x) # Apply the output layer and return the final output (raw scores for each class).\n"
      ],
      "metadata": {
        "id": "GbZWIIpNoZb9"
      },
      "execution_count": null,
      "outputs": []
    },
    {
      "cell_type": "code",
      "source": [
        "#!pip install torchviz\n",
        "#!pip install torchinfo\n"
      ],
      "metadata": {
        "colab": {
          "base_uri": "https://localhost:8080/"
        },
        "collapsed": true,
        "id": "UkKxh04Vg546",
        "outputId": "f92329c4-f822-47fd-9bb5-705211cde221"
      },
      "execution_count": null,
      "outputs": [
        {
          "output_type": "stream",
          "name": "stdout",
          "text": [
            "Requirement already satisfied: torchviz in /usr/local/lib/python3.11/dist-packages (0.0.3)\n",
            "Requirement already satisfied: torch in /usr/local/lib/python3.11/dist-packages (from torchviz) (2.6.0+cu124)\n",
            "Requirement already satisfied: graphviz in /usr/local/lib/python3.11/dist-packages (from torchviz) (0.21)\n",
            "Requirement already satisfied: filelock in /usr/local/lib/python3.11/dist-packages (from torch->torchviz) (3.18.0)\n",
            "Requirement already satisfied: typing-extensions>=4.10.0 in /usr/local/lib/python3.11/dist-packages (from torch->torchviz) (4.14.1)\n",
            "Requirement already satisfied: networkx in /usr/local/lib/python3.11/dist-packages (from torch->torchviz) (3.5)\n",
            "Requirement already satisfied: jinja2 in /usr/local/lib/python3.11/dist-packages (from torch->torchviz) (3.1.6)\n",
            "Requirement already satisfied: fsspec in /usr/local/lib/python3.11/dist-packages (from torch->torchviz) (2025.3.2)\n",
            "Requirement already satisfied: nvidia-cuda-nvrtc-cu12==12.4.127 in /usr/local/lib/python3.11/dist-packages (from torch->torchviz) (12.4.127)\n",
            "Requirement already satisfied: nvidia-cuda-runtime-cu12==12.4.127 in /usr/local/lib/python3.11/dist-packages (from torch->torchviz) (12.4.127)\n",
            "Requirement already satisfied: nvidia-cuda-cupti-cu12==12.4.127 in /usr/local/lib/python3.11/dist-packages (from torch->torchviz) (12.4.127)\n",
            "Requirement already satisfied: nvidia-cudnn-cu12==9.1.0.70 in /usr/local/lib/python3.11/dist-packages (from torch->torchviz) (9.1.0.70)\n",
            "Requirement already satisfied: nvidia-cublas-cu12==12.4.5.8 in /usr/local/lib/python3.11/dist-packages (from torch->torchviz) (12.4.5.8)\n",
            "Requirement already satisfied: nvidia-cufft-cu12==11.2.1.3 in /usr/local/lib/python3.11/dist-packages (from torch->torchviz) (11.2.1.3)\n",
            "Requirement already satisfied: nvidia-curand-cu12==10.3.5.147 in /usr/local/lib/python3.11/dist-packages (from torch->torchviz) (10.3.5.147)\n",
            "Requirement already satisfied: nvidia-cusolver-cu12==11.6.1.9 in /usr/local/lib/python3.11/dist-packages (from torch->torchviz) (11.6.1.9)\n",
            "Requirement already satisfied: nvidia-cusparse-cu12==12.3.1.170 in /usr/local/lib/python3.11/dist-packages (from torch->torchviz) (12.3.1.170)\n",
            "Requirement already satisfied: nvidia-cusparselt-cu12==0.6.2 in /usr/local/lib/python3.11/dist-packages (from torch->torchviz) (0.6.2)\n",
            "Requirement already satisfied: nvidia-nccl-cu12==2.21.5 in /usr/local/lib/python3.11/dist-packages (from torch->torchviz) (2.21.5)\n",
            "Requirement already satisfied: nvidia-nvtx-cu12==12.4.127 in /usr/local/lib/python3.11/dist-packages (from torch->torchviz) (12.4.127)\n",
            "Requirement already satisfied: nvidia-nvjitlink-cu12==12.4.127 in /usr/local/lib/python3.11/dist-packages (from torch->torchviz) (12.4.127)\n",
            "Requirement already satisfied: triton==3.2.0 in /usr/local/lib/python3.11/dist-packages (from torch->torchviz) (3.2.0)\n",
            "Requirement already satisfied: sympy==1.13.1 in /usr/local/lib/python3.11/dist-packages (from torch->torchviz) (1.13.1)\n",
            "Requirement already satisfied: mpmath<1.4,>=1.1.0 in /usr/local/lib/python3.11/dist-packages (from sympy==1.13.1->torch->torchviz) (1.3.0)\n",
            "Requirement already satisfied: MarkupSafe>=2.0 in /usr/local/lib/python3.11/dist-packages (from jinja2->torch->torchviz) (3.0.2)\n",
            "Requirement already satisfied: torchinfo in /usr/local/lib/python3.11/dist-packages (1.8.0)\n"
          ]
        }
      ]
    },
    {
      "cell_type": "code",
      "source": [
        "from torchinfo import summary\n",
        "# Setup model and device\n",
        "device = torch.device(\"cuda\" if torch.cuda.is_available() else \"cpu\")\n",
        "model = SimpleCNN().to(device)\n",
        "\n",
        "#  Print detailed model summary\n",
        "print(summary(\n",
        "    model,\n",
        "    input_size=(1, 1, 28, 28),     # Batch size 1, 1 channel, 28x28 input\n",
        "    col_names=[\"input_size\", \"output_size\", \"num_params\", \"kernel_size\", \"mult_adds\"],\n",
        "    col_width=28,\n",
        "    row_settings=[\"depth\", \"var_names\"],\n",
        "    device=device.type,\n",
        "    verbose=2\n",
        "))"
      ],
      "metadata": {
        "colab": {
          "base_uri": "https://localhost:8080/"
        },
        "id": "bI69Jh1YlAI2",
        "outputId": "62f2d583-44b7-473f-cf0f-790f2cfb3b18"
      },
      "execution_count": null,
      "outputs": [
        {
          "output_type": "stream",
          "name": "stdout",
          "text": [
            "====================================================================================================================================================================================\n",
            "Layer (type (var_name):depth-idx)        Input Shape                  Output Shape                 Param #                      Kernel Shape                 Mult-Adds\n",
            "====================================================================================================================================================================================\n",
            "SimpleCNN (SimpleCNN)                    [1, 1, 28, 28]               [1, 10]                      --                           --                           --\n",
            "├─Conv2d (conv1): 1-1                    [1, 1, 28, 28]               [1, 16, 28, 28]              160                          [3, 3]                       125,440\n",
            "│    └─weight                                                                                      ├─144                        [1, 16, 3, 3]\n",
            "│    └─bias                                                                                        └─16                         [16]\n",
            "├─ReLU (relu1): 1-2                      [1, 16, 28, 28]              [1, 16, 28, 28]              --                           --                           --\n",
            "├─Conv2d (conv2): 1-3                    [1, 16, 28, 28]              [1, 32, 28, 28]              4,640                        [3, 3]                       3,637,760\n",
            "│    └─weight                                                                                      ├─4,608                      [16, 32, 3, 3]\n",
            "│    └─bias                                                                                        └─32                         [32]\n",
            "├─ReLU (relu2): 1-4                      [1, 32, 28, 28]              [1, 32, 28, 28]              --                           --                           --\n",
            "├─MaxPool2d (pool): 1-5                  [1, 32, 28, 28]              [1, 32, 14, 14]              --                           2                            --\n",
            "├─Linear (fc1): 1-6                      [1, 6272]                    [1, 128]                     802,944                      --                           802,944\n",
            "│    └─weight                                                                                      ├─802,816                    [6272, 128]\n",
            "│    └─bias                                                                                        └─128                        [128]\n",
            "├─Linear (fc2): 1-7                      [1, 128]                     [1, 64]                      8,256                        --                           8,256\n",
            "│    └─weight                                                                                      ├─8,192                      [128, 64]\n",
            "│    └─bias                                                                                        └─64                         [64]\n",
            "├─Linear (out): 1-8                      [1, 64]                      [1, 10]                      650                          --                           650\n",
            "│    └─weight                                                                                      ├─640                        [64, 10]\n",
            "│    └─bias                                                                                        └─10                         [10]\n",
            "====================================================================================================================================================================================\n",
            "Total params: 816,650\n",
            "Trainable params: 816,650\n",
            "Non-trainable params: 0\n",
            "Total mult-adds (Units.MEGABYTES): 4.58\n",
            "====================================================================================================================================================================================\n",
            "Input size (MB): 0.00\n",
            "Forward/backward pass size (MB): 0.30\n",
            "Params size (MB): 3.27\n",
            "Estimated Total Size (MB): 3.57\n",
            "====================================================================================================================================================================================\n",
            "====================================================================================================================================================================================\n",
            "Layer (type (var_name):depth-idx)        Input Shape                  Output Shape                 Param #                      Kernel Shape                 Mult-Adds\n",
            "====================================================================================================================================================================================\n",
            "SimpleCNN (SimpleCNN)                    [1, 1, 28, 28]               [1, 10]                      --                           --                           --\n",
            "├─Conv2d (conv1): 1-1                    [1, 1, 28, 28]               [1, 16, 28, 28]              160                          [3, 3]                       125,440\n",
            "│    └─weight                                                                                      ├─144                        [1, 16, 3, 3]\n",
            "│    └─bias                                                                                        └─16                         [16]\n",
            "├─ReLU (relu1): 1-2                      [1, 16, 28, 28]              [1, 16, 28, 28]              --                           --                           --\n",
            "├─Conv2d (conv2): 1-3                    [1, 16, 28, 28]              [1, 32, 28, 28]              4,640                        [3, 3]                       3,637,760\n",
            "│    └─weight                                                                                      ├─4,608                      [16, 32, 3, 3]\n",
            "│    └─bias                                                                                        └─32                         [32]\n",
            "├─ReLU (relu2): 1-4                      [1, 32, 28, 28]              [1, 32, 28, 28]              --                           --                           --\n",
            "├─MaxPool2d (pool): 1-5                  [1, 32, 28, 28]              [1, 32, 14, 14]              --                           2                            --\n",
            "├─Linear (fc1): 1-6                      [1, 6272]                    [1, 128]                     802,944                      --                           802,944\n",
            "│    └─weight                                                                                      ├─802,816                    [6272, 128]\n",
            "│    └─bias                                                                                        └─128                        [128]\n",
            "├─Linear (fc2): 1-7                      [1, 128]                     [1, 64]                      8,256                        --                           8,256\n",
            "│    └─weight                                                                                      ├─8,192                      [128, 64]\n",
            "│    └─bias                                                                                        └─64                         [64]\n",
            "├─Linear (out): 1-8                      [1, 64]                      [1, 10]                      650                          --                           650\n",
            "│    └─weight                                                                                      ├─640                        [64, 10]\n",
            "│    └─bias                                                                                        └─10                         [10]\n",
            "====================================================================================================================================================================================\n",
            "Total params: 816,650\n",
            "Trainable params: 816,650\n",
            "Non-trainable params: 0\n",
            "Total mult-adds (Units.MEGABYTES): 4.58\n",
            "====================================================================================================================================================================================\n",
            "Input size (MB): 0.00\n",
            "Forward/backward pass size (MB): 0.30\n",
            "Params size (MB): 3.27\n",
            "Estimated Total Size (MB): 3.57\n",
            "====================================================================================================================================================================================\n"
          ]
        }
      ]
    },
    {
      "cell_type": "markdown",
      "source": [
        "## Load existing datasets : MNIST"
      ],
      "metadata": {
        "id": "5wYhpoYWn8V4"
      }
    },
    {
      "cell_type": "code",
      "source": [
        "# 1. Define transformation pipeline for images\n",
        "transform = transforms.Compose([\n",
        "    transforms.ToTensor()  # Converts PIL images to PyTorch tensors with values in [0.0, 1.0]\n",
        "])\n",
        "\n",
        "# 2. Load the MNIST training dataset\n",
        "train_data = datasets.MNIST(\n",
        "    root=\"data\",             # Folder where MNIST will be stored\n",
        "    train=True,              # Load the training split\n",
        "    download=True,           # Download if not already present\n",
        "    transform=transform,     # Apply image transformation (ToTensor)\n",
        "    target_transform=None    # No transformation on labels\n",
        ")\n",
        "\n",
        "# 3. Load the MNIST test dataset\n",
        "test_data = datasets.MNIST(\n",
        "    root=\"data\",\n",
        "    train=False,             # Load the test split\n",
        "    download=True,\n",
        "    transform=transform\n",
        ")\n",
        "\n",
        "# 4. Class labels in MNIST are digits 0 through 9\n",
        "class_names = train_data.classes  # This returns: ['0', '1', ..., '9']\n",
        "print(\"MNIST class names:\", class_names)\n",
        "\n",
        "# 5. Inspect dataset size and tensor shape\n",
        "print(f\"Number of training samples: {len(train_data)}\")\n",
        "print(f\"Number of test samples: {len(test_data)}\")\n",
        "\n",
        "# 6. Access and inspect a single training example\n",
        "image_tensor, label = train_data[0]  # Returns a tuple: (image, label)\n",
        "print(f\"Single image shape: {image_tensor.shape}  --> Format: [Channels, Height, Width]\")\n",
        "print(f\"Label for this image: {label}\")\n",
        "\n",
        "# 7. Visualize the first 10 unique digits from 0 to 9\n",
        "fig, axs = plt.subplots(1, 10, figsize=(16, 2))\n",
        "fig.suptitle(\"First Occurrence of Each Digit (0–9)\", fontsize=14)\n",
        "\n",
        "seen_digits = set()\n",
        "shown = 0\n",
        "\n",
        "# Loop through the dataset and plot the first instance of each class\n",
        "for idx, (img, lbl) in enumerate(train_data):\n",
        "    if lbl not in seen_digits:\n",
        "        axs[shown].imshow(img.squeeze(), cmap=\"gray\")\n",
        "        axs[shown].set_title(f\"Label: {lbl}\")\n",
        "        axs[shown].axis(\"off\")\n",
        "        seen_digits.add(lbl)\n",
        "        shown += 1\n",
        "    if shown == 10:\n",
        "        break\n",
        "\n",
        "plt.tight_layout()\n",
        "plt.show()\n"
      ],
      "metadata": {
        "id": "QkWXDo2un__U",
        "colab": {
          "base_uri": "https://localhost:8080/",
          "height": 282
        },
        "outputId": "cfe2e161-29e5-440b-8053-4ffb2e949915"
      },
      "execution_count": null,
      "outputs": [
        {
          "output_type": "stream",
          "name": "stdout",
          "text": [
            "MNIST class names: ['0 - zero', '1 - one', '2 - two', '3 - three', '4 - four', '5 - five', '6 - six', '7 - seven', '8 - eight', '9 - nine']\n",
            "Number of training samples: 60000\n",
            "Number of test samples: 10000\n",
            "Single image shape: torch.Size([1, 28, 28])  --> Format: [Channels, Height, Width]\n",
            "Label for this image: 5\n"
          ]
        },
        {
          "output_type": "display_data",
          "data": {
            "text/plain": [
              "<Figure size 1600x200 with 10 Axes>"
            ],
            "image/png": "[encoded data removed]"
          },
          "metadata": {}
        }
      ]
    },
    {
      "cell_type": "code",
      "source": [
        "# Select just a subset\n",
        "train_data = Subset(train_data, range(1000))\n",
        "test_data = Subset(test_data, range(250))"
      ],
      "metadata": {
        "id": "P16ZNCxTH1wt"
      },
      "execution_count": null,
      "outputs": []
    },
    {
      "cell_type": "markdown",
      "source": [
        "### Data Preparation\n",
        "\n",
        "The DataLoader helps load data into a model for training and for inference.\n",
        "\n",
        "It turns a large Dataset into a Python iterable of smaller chunks. These smaller chunks are called batches or mini-batches and can be set by the batch_size parameter.\n",
        "\n",
        "Because it's more computationally efficient.\n",
        "\n",
        "In an ideal world you could do the forward pass and backward pass across all of your data at once. But once you start using really large datasets, unless you've got infinite computing power, it's easier to break them up into batches. So it's more computationally efficient it's also gives your model more opportunities to improve.\n",
        "\n",
        "With mini-batches (small portions of the data), gradient descent is performed more often per epoch (once per mini-batch rather than once per epoch)."
      ],
      "metadata": {
        "id": "6eG8RfC4fjbJ"
      }
    },
    {
      "cell_type": "code",
      "source": [
        "from torch.utils.data import DataLoader # Import the DataLoader class from torch.utils.data\n",
        "\n",
        "# Setup the batch size hyperparameter\n",
        "BATCH_SIZE = 1024 # Define the number of samples per batch\n",
        "\n",
        "# Turn datasets into iterables (batches)\n",
        "train_dataloader = DataLoader(train_data, # Use the training dataset\n",
        "    batch_size=BATCH_SIZE, # Set the batch size for the training data\n",
        "    shuffle=True # Shuffle the data at the beginning of each epoch for better training\n",
        ")\n",
        "\n",
        "test_dataloader = DataLoader(test_data, # Use the test dataset\n",
        "    batch_size=BATCH_SIZE, # Set the batch size for the test data\n",
        "    shuffle=False # No need to shuffle test data for evaluation\n",
        ")\n",
        "\n",
        "# Let's check out what we've created\n",
        "print(f\"Dataloaders: {train_dataloader, test_dataloader}\") # Print the DataLoader objects\n",
        "print(f\"Length of train dataloader: {len(train_dataloader)} batches of {BATCH_SIZE}\") # Print the number of batches in the training DataLoader\n",
        "print(f\"Length of test dataloader: {len(test_dataloader)} batches of {BATCH_SIZE}\") # Print the number of batches in the test DataLoader"
      ],
      "metadata": {
        "id": "Adbe0sGJBFQ3",
        "colab": {
          "base_uri": "https://localhost:8080/"
        },
        "outputId": "e43d1856-d67d-4a73-ce3a-46c4470b925f"
      },
      "execution_count": null,
      "outputs": [
        {
          "output_type": "stream",
          "name": "stdout",
          "text": [
            "Dataloaders: (<torch.utils.data.dataloader.DataLoader object at 0x7bdfac6b7390>, <torch.utils.data.dataloader.DataLoader object at 0x7bdfb1abe210>)\n",
            "Length of train dataloader: 1 batches of 1024\n",
            "Length of test dataloader: 1 batches of 1024\n"
          ]
        }
      ]
    },
    {
      "cell_type": "code",
      "source": [
        "# 1. Check for GPU availability\n",
        "device = 'cuda' if torch.cuda.is_available() else 'cpu'\n",
        "print(f\"Using device: {device}\")"
      ],
      "metadata": {
        "colab": {
          "base_uri": "https://localhost:8080/"
        },
        "id": "3X03YBSRFmDM",
        "outputId": "89bff1d8-1274-4362-afa3-c5f7ced9e6ee"
      },
      "execution_count": null,
      "outputs": [
        {
          "output_type": "stream",
          "name": "stdout",
          "text": [
            "Using device: cpu\n"
          ]
        }
      ]
    },
    {
      "cell_type": "code",
      "source": [
        "# Get one batch\n",
        "images, labels = next(iter(train_dataloader)) # Get the next batch of images and labels from the training DataLoader\n",
        "\n",
        "print(images.shape) # Print the shape of the images tensor in the batch (Batch Size, Channels, Height, Width)"
      ],
      "metadata": {
        "colab": {
          "base_uri": "https://localhost:8080/"
        },
        "id": "UO7fqReZxWtH",
        "outputId": "4b2d9cc9-5390-411e-a940-f0047cf7d79d"
      },
      "execution_count": null,
      "outputs": [
        {
          "output_type": "stream",
          "name": "stdout",
          "text": [
            "torch.Size([1000, 1, 28, 28])\n"
          ]
        }
      ]
    },
    {
      "cell_type": "code",
      "source": [
        "# Instantiate model :\n",
        "model = SimpleCNN() # Create an instance of the SimpleCNN model defined earlier\n",
        "\n",
        "# Predictions\n",
        "with torch.inference_mode(): # Disable gradient calculation for inference\n",
        "    for data, labels in test_dataloader : # Iterate through batches in the test DataLoader\n",
        "        preds = model(data) # Pass the image data through the model to get predictions\n",
        "\n",
        "preds[0,:] # Print the predictions (logits) for the first image in the last batch"
      ],
      "metadata": {
        "colab": {
          "base_uri": "https://localhost:8080/"
        },
        "id": "u3xPITuLzrka",
        "outputId": "935376d4-0532-4c1c-c7b0-a64f5a73c4c1"
      },
      "execution_count": null,
      "outputs": [
        {
          "output_type": "execute_result",
          "data": {
            "text/plain": [
              "tensor([-0.0639, -0.0029,  0.0459, -0.0932, -0.0105, -0.1311, -0.0503,  0.1015,\n",
              "         0.1477, -0.0870])"
            ]
          },
          "metadata": {},
          "execution_count": 23
        }
      ]
    },
    {
      "cell_type": "code",
      "source": [
        "from sklearn.metrics import accuracy_score # Import the accuracy_score function from scikit-learn\n",
        "loss_fn = nn.CrossEntropyLoss() # Define the loss function as Cross-Entropy Loss, commonly used for classification\n",
        "optimizer = torch.optim.Adam(model.parameters(), lr=0.01) # Define the optimizer as Adam, with a learning rate of 0.01. It will update the model's parameters.\n",
        "\n",
        "\n",
        "# Training and testing loop\n",
        "epochs = 10 # Define the number of training epochs\n",
        "for epoch in range(epochs): # Loop through each epoch\n",
        "    for X_train, y_train in train_dataloader : # Iterate through batches of training data\n",
        "        model.train() # Set the model to training mode (enables dropout, batch normalization, etc.)\n",
        "        outputs = model(X_train) # Perform a forward pass to get model outputs (predictions)\n",
        "        loss = loss_fn(outputs, y_train) # Calculate the loss between the model outputs and the true labels\n",
        "\n",
        "        optimizer.zero_grad() # Zero the gradients of the optimizer\n",
        "        loss.backward() # Perform backpropagation to calculate gradients\n",
        "        optimizer.step() # Update the model's parameters based on the calculated gradients\n",
        "\n",
        "    model.eval() # Set the model to evaluation mode (disables dropout, batch normalization, etc.)\n",
        "    all_preds = [] # Initialize an empty list to store all predictions\n",
        "    all_labels = [] # Initialize an empty list to store all true labels\n",
        "    with torch.inference_mode(): # Disable gradient calculation for inference\n",
        "        for X_test, y_test in test_dataloader: # Iterate through batches of test data\n",
        "            test_preds = model(X_test) # Perform a forward pass to get model predictions on test data\n",
        "            test_pred_labels = torch.argmax(test_preds, dim=1) # Get the predicted class label by finding the index of the maximum logit\n",
        "\n",
        "            all_preds.append(test_pred_labels.cpu()) # Append the predicted labels to the list (move to CPU if on GPU)\n",
        "            all_labels.append(y_test.cpu()) # Append the true labels to the list (move to CPU if on GPU)\n",
        "\n",
        "    # Concaténer toutes les prédictions et labels\n",
        "    all_preds = torch.cat(all_preds) # Concatenate all predicted labels into a single tensor\n",
        "    all_labels = torch.cat(all_labels) # Concatenate all true labels into a single tensor\n",
        "    acc = accuracy_score(all_labels, all_preds) # Calculate the accuracy score\n",
        "    print(f\"Epoch {epoch+1}/{epochs} | Loss: {loss.item():.4f} | Test Accuracy: {acc:.4f}\") # Print the epoch number, training loss, and test accuracy"
      ],
      "metadata": {
        "colab": {
          "base_uri": "https://localhost:8080/"
        },
        "id": "dGG1iENphMeT",
        "outputId": "2f3c9034-98af-4bfa-a856-adb8481a8236"
      },
      "execution_count": null,
      "outputs": [
        {
          "output_type": "stream",
          "name": "stdout",
          "text": [
            "Epoch 1/10 | Loss: 2.3040 | Test Accuracy: 0.1440\n",
            "Epoch 2/10 | Loss: 3.8473 | Test Accuracy: 0.1960\n",
            "Epoch 3/10 | Loss: 3.9307 | Test Accuracy: 0.0560\n",
            "Epoch 4/10 | Loss: 4.8407 | Test Accuracy: 0.3320\n",
            "Epoch 5/10 | Loss: 2.4490 | Test Accuracy: 0.5760\n",
            "Epoch 6/10 | Loss: 1.7328 | Test Accuracy: 0.5200\n",
            "Epoch 7/10 | Loss: 1.6868 | Test Accuracy: 0.4680\n",
            "Epoch 8/10 | Loss: 1.5257 | Test Accuracy: 0.5360\n",
            "Epoch 9/10 | Loss: 1.2527 | Test Accuracy: 0.6640\n",
            "Epoch 10/10 | Loss: 0.9870 | Test Accuracy: 0.7000\n"
          ]
        }
      ]
    },
    {
      "cell_type": "code",
      "source": [
        "from torchinfo import summary\n",
        "\n",
        "# Set batch size\n",
        "BATCH_SIZE = 1024\n",
        "\n",
        "# Move model to device\n",
        "device = torch.device(\"cuda\" if torch.cuda.is_available() else \"cpu\")\n",
        "model = SimpleCNN().to(device)\n",
        "\n",
        "# Print detailed architecture summary with batch size\n",
        "print(summary(\n",
        "    model,\n",
        "    input_size=(BATCH_SIZE, 1, 28, 28),\n",
        "    col_names=[\"input_size\", \"output_size\", \"num_params\", \"kernel_size\", \"mult_adds\"],\n",
        "    col_width=25,\n",
        "    row_settings=[\"depth\", \"var_names\"],\n",
        "    device=device.type,\n",
        "    verbose=2\n",
        "))\n"
      ],
      "metadata": {
        "colab": {
          "base_uri": "https://localhost:8080/"
        },
        "id": "9CH-gYNdnbf0",
        "outputId": "79ca4a27-aca2-40ae-fb1f-9ce93bfe3bc7"
      },
      "execution_count": null,
      "outputs": [
        {
          "output_type": "stream",
          "name": "stdout",
          "text": [
            "=====================================================================================================================================================================\n",
            "Layer (type (var_name):depth-idx)        Input Shape               Output Shape              Param #                   Kernel Shape              Mult-Adds\n",
            "=====================================================================================================================================================================\n",
            "SimpleCNN (SimpleCNN)                    [1024, 1, 28, 28]         [1024, 10]                --                        --                        --\n",
            "├─Conv2d (conv1): 1-1                    [1024, 1, 28, 28]         [1024, 16, 28, 28]        160                       [3, 3]                    128,450,560\n",
            "│    └─weight                                                                                ├─144                     [1, 16, 3, 3]\n",
            "│    └─bias                                                                                  └─16                      [16]\n",
            "├─ReLU (relu1): 1-2                      [1024, 16, 28, 28]        [1024, 16, 28, 28]        --                        --                        --\n",
            "├─Conv2d (conv2): 1-3                    [1024, 16, 28, 28]        [1024, 32, 28, 28]        4,640                     [3, 3]                    3,725,066,240\n",
            "│    └─weight                                                                                ├─4,608                   [16, 32, 3, 3]\n",
            "│    └─bias                                                                                  └─32                      [32]\n",
            "├─ReLU (relu2): 1-4                      [1024, 32, 28, 28]        [1024, 32, 28, 28]        --                        --                        --\n",
            "├─MaxPool2d (pool): 1-5                  [1024, 32, 28, 28]        [1024, 32, 14, 14]        --                        2                         --\n",
            "├─Linear (fc1): 1-6                      [1024, 6272]              [1024, 128]               802,944                   --                        822,214,656\n",
            "│    └─weight                                                                                ├─802,816                 [6272, 128]\n",
            "│    └─bias                                                                                  └─128                     [128]\n",
            "├─Linear (fc2): 1-7                      [1024, 128]               [1024, 64]                8,256                     --                        8,454,144\n",
            "│    └─weight                                                                                ├─8,192                   [128, 64]\n",
            "│    └─bias                                                                                  └─64                      [64]\n",
            "├─Linear (out): 1-8                      [1024, 64]                [1024, 10]                650                       --                        665,600\n",
            "│    └─weight                                                                                ├─640                     [64, 10]\n",
            "│    └─bias                                                                                  └─10                      [10]\n",
            "=====================================================================================================================================================================\n",
            "Total params: 816,650\n",
            "Trainable params: 816,650\n",
            "Non-trainable params: 0\n",
            "Total mult-adds (Units.GIGABYTES): 4.68\n",
            "=====================================================================================================================================================================\n",
            "Input size (MB): 3.21\n",
            "Forward/backward pass size (MB): 309.94\n",
            "Params size (MB): 3.27\n",
            "Estimated Total Size (MB): 316.41\n",
            "=====================================================================================================================================================================\n",
            "=====================================================================================================================================================================\n",
            "Layer (type (var_name):depth-idx)        Input Shape               Output Shape              Param #                   Kernel Shape              Mult-Adds\n",
            "=====================================================================================================================================================================\n",
            "SimpleCNN (SimpleCNN)                    [1024, 1, 28, 28]         [1024, 10]                --                        --                        --\n",
            "├─Conv2d (conv1): 1-1                    [1024, 1, 28, 28]         [1024, 16, 28, 28]        160                       [3, 3]                    128,450,560\n",
            "│    └─weight                                                                                ├─144                     [1, 16, 3, 3]\n",
            "│    └─bias                                                                                  └─16                      [16]\n",
            "├─ReLU (relu1): 1-2                      [1024, 16, 28, 28]        [1024, 16, 28, 28]        --                        --                        --\n",
            "├─Conv2d (conv2): 1-3                    [1024, 16, 28, 28]        [1024, 32, 28, 28]        4,640                     [3, 3]                    3,725,066,240\n",
            "│    └─weight                                                                                ├─4,608                   [16, 32, 3, 3]\n",
            "│    └─bias                                                                                  └─32                      [32]\n",
            "├─ReLU (relu2): 1-4                      [1024, 32, 28, 28]        [1024, 32, 28, 28]        --                        --                        --\n",
            "├─MaxPool2d (pool): 1-5                  [1024, 32, 28, 28]        [1024, 32, 14, 14]        --                        2                         --\n",
            "├─Linear (fc1): 1-6                      [1024, 6272]              [1024, 128]               802,944                   --                        822,214,656\n",
            "│    └─weight                                                                                ├─802,816                 [6272, 128]\n",
            "│    └─bias                                                                                  └─128                     [128]\n",
            "├─Linear (fc2): 1-7                      [1024, 128]               [1024, 64]                8,256                     --                        8,454,144\n",
            "│    └─weight                                                                                ├─8,192                   [128, 64]\n",
            "│    └─bias                                                                                  └─64                      [64]\n",
            "├─Linear (out): 1-8                      [1024, 64]                [1024, 10]                650                       --                        665,600\n",
            "│    └─weight                                                                                ├─640                     [64, 10]\n",
            "│    └─bias                                                                                  └─10                      [10]\n",
            "=====================================================================================================================================================================\n",
            "Total params: 816,650\n",
            "Trainable params: 816,650\n",
            "Non-trainable params: 0\n",
            "Total mult-adds (Units.GIGABYTES): 4.68\n",
            "=====================================================================================================================================================================\n",
            "Input size (MB): 3.21\n",
            "Forward/backward pass size (MB): 309.94\n",
            "Params size (MB): 3.27\n",
            "Estimated Total Size (MB): 316.41\n",
            "=====================================================================================================================================================================\n"
          ]
        }
      ]
    },
    {
      "cell_type": "markdown",
      "source": [
        "## GPU version: Please make sure you change your run time to GPU"
      ],
      "metadata": {
        "id": "2w-eS0WVdzkk"
      }
    },
    {
      "cell_type": "code",
      "source": [
        "import torchdf\n",
        "from torch import nn\n",
        "from torch.utils.data import DataLoader\n",
        "from sklearn.metrics import accuracy_score\n",
        "import torchvision # Assuming you're using torchvision datasets, if not, adjust train_data/test_data loading\n",
        "\n",
        "# Define a simple CNN model (assuming you have this defined elsewhere)\n",
        "# If you don't have this, you'll need to define your SimpleCNN class\n",
        "class SimpleCNN(nn.Module):\n",
        "    def __init__(self):\n",
        "        super(SimpleCNN, self).__init__()\n",
        "        self.conv1 = nn.Conv2d(1, 32, kernel_size=3, padding=1)\n",
        "        self.relu1 = nn.ReLU()\n",
        "        self.pool1 = nn.MaxPool2d(kernel_size=2, stride=2)\n",
        "        self.conv2 = nn.Conv2d(32, 64, kernel_size=3, padding=1)\n",
        "        self.relu2 = nn.ReLU()\n",
        "        self.pool2 = nn.MaxPool2d(kernel_size=2, stride=2)\n",
        "        self.fc1 = nn.Linear(64 * 7 * 7, 10) # Adjust input features based on your image size (e.g., for 28x28 MNIST)\n",
        "\n",
        "    def forward(self, x):\n",
        "        x = self.pool1(self.relu1(self.conv1(x)))\n",
        "        x = self.pool2(self.relu2(self.conv2(x)))\n",
        "        x = x.view(x.size(0), -1) # Flatten the tensor\n",
        "        x = self.fc1(x)\n",
        "        return x\n",
        "\n",
        "# 1. Check for GPU availability\n",
        "device = 'cuda' if torch.cuda.is_available() else 'cpu'\n",
        "print(f\"Using device: {device}\")\n",
        "\n",
        "# 2. Load your dataset (example with MNIST, replace with your actual data loading)\n",
        "# If your data is already in tensor format, skip this and just ensure it's moved to device later\n",
        "transform = torchvision.transforms.Compose([\n",
        "    torchvision.transforms.ToTensor(),\n",
        "    torchvision.transforms.Normalize((0.1307,), (0.3081,))\n",
        "])\n",
        "\n",
        "train_data = torchvision.datasets.MNIST(root='./data', train=True, download=True, transform=transform)\n",
        "test_data = torchvision.datasets.MNIST(root='./data', train=False, download=True, transform=transform)\n",
        "\n",
        "# Setup the batch size hyperparameter\n",
        "BATCH_SIZE = 1024\n",
        "\n",
        "# Turn datasets into iterables (batches)\n",
        "train_dataloader = DataLoader(train_data,\n",
        "    batch_size=BATCH_SIZE,\n",
        "    shuffle=True\n",
        ")\n",
        "\n",
        "test_dataloader = DataLoader(test_data,\n",
        "    batch_size=BATCH_SIZE,\n",
        "    shuffle=False\n",
        ")\n",
        "\n",
        "# Let's check out what we've created\n",
        "print(f\"Dataloaders: {train_dataloader, test_dataloader}\")\n",
        "print(f\"Length of train dataloader: {len(train_dataloader)} batches of {BATCH_SIZE}\")\n",
        "print(f\"Length of test dataloader: {len(test_dataloader)} batches of {BATCH_SIZE}\")\n",
        "\n",
        "# Get one batch (and move to device for checking)\n",
        "images, labels = next(iter(train_dataloader))\n",
        "images, labels = images.to(device), labels.to(device) # Move to device\n",
        "\n",
        "print(images.shape)\n",
        "\n",
        "# Instantiate model and move it to the GPU\n",
        "model = SimpleCNN().to(device) # Move model to the selected device\n",
        "\n",
        "# Predictions (initial check)\n",
        "with torch.inference_mode():\n",
        "    for data, labels_val in test_dataloader : # Renamed labels to labels_val to avoid conflict\n",
        "        data = data.to(device) # Move data to device\n",
        "        preds = model(data)\n",
        "        break # Just get one batch for the check\n",
        "\n",
        "print(\"Initial predictions (logits) for the first image in a batch:\", preds[0,:])\n",
        "\n",
        "loss_fn = nn.CrossEntropyLoss()\n",
        "optimizer = torch.optim.Adam(model.parameters(), lr=0.01)\n",
        "\n",
        "# Training and testing loop\n",
        "epochs = 10\n",
        "for epoch in range(epochs):\n",
        "    # Training\n",
        "    model.train()\n",
        "    for X_train, y_train in train_dataloader :\n",
        "        X_train, y_train = X_train.to(device), y_train.to(device) # Move data to device\n",
        "        outputs = model(X_train)\n",
        "        loss = loss_fn(outputs, y_train)\n",
        "\n",
        "        optimizer.zero_grad()\n",
        "        loss.backward()\n",
        "        optimizer.step()\n",
        "\n",
        "    # Testing\n",
        "    model.eval()\n",
        "    all_preds = []\n",
        "    all_labels = []\n",
        "    with torch.inference_mode():\n",
        "        for X_test, y_test in test_dataloader:\n",
        "            X_test, y_test = X_test.to(device), y_test.to(device) # Move data to device\n",
        "            test_preds = model(X_test)\n",
        "            test_pred_labels = torch.argmax(test_preds, dim=1)\n",
        "\n",
        "            all_preds.append(test_pred_labels.cpu()) # Move back to CPU for sklearn's accuracy_score\n",
        "            all_labels.append(y_test.cpu()) # Move back to CPU\n",
        "\n",
        "    all_preds = torch.cat(all_preds)\n",
        "    all_labels = torch.cat(all_labels)\n",
        "    acc = accuracy_score(all_labels, all_preds)\n",
        "    print(f\"Epoch {epoch+1}/{epochs} | Loss: {loss.item():.4f} | Test Accuracy: {acc:.4f}\")"
      ],
      "metadata": {
        "colab": {
          "base_uri": "https://localhost:8080/",
          "height": 383
        },
        "id": "iJ2gk7vVGUji",
        "outputId": "c90c4a31-4da2-4f4f-82b5-ec1256ae3f9b"
      },
      "execution_count": null,
      "outputs": [
        {
          "output_type": "error",
          "ename": "ModuleNotFoundError",
          "evalue": "No module named 'torchdf'",
          "traceback": [
            "\u001b[0;31m---------------------------------------------------------------------------\u001b[0m",
            "\u001b[0;31mModuleNotFoundError\u001b[0m                       Traceback (most recent call last)",
            "\u001b[0;32m/tmp/ipython-input-26-3686734144.py\u001b[0m in \u001b[0;36m<cell line: 0>\u001b[0;34m()\u001b[0m\n\u001b[0;32m----> 1\u001b[0;31m \u001b[0;32mimport\u001b[0m \u001b[0mtorchdf\u001b[0m\u001b[0;34m\u001b[0m\u001b[0;34m\u001b[0m\u001b[0m\n\u001b[0m\u001b[1;32m      2\u001b[0m \u001b[0;32mfrom\u001b[0m \u001b[0mtorch\u001b[0m \u001b[0;32mimport\u001b[0m \u001b[0mnn\u001b[0m\u001b[0;34m\u001b[0m\u001b[0;34m\u001b[0m\u001b[0m\n\u001b[1;32m      3\u001b[0m \u001b[0;32mfrom\u001b[0m \u001b[0mtorch\u001b[0m\u001b[0;34m.\u001b[0m\u001b[0mutils\u001b[0m\u001b[0;34m.\u001b[0m\u001b[0mdata\u001b[0m \u001b[0;32mimport\u001b[0m \u001b[0mDataLoader\u001b[0m\u001b[0;34m\u001b[0m\u001b[0;34m\u001b[0m\u001b[0m\n\u001b[1;32m      4\u001b[0m \u001b[0;32mfrom\u001b[0m \u001b[0msklearn\u001b[0m\u001b[0;34m.\u001b[0m\u001b[0mmetrics\u001b[0m \u001b[0;32mimport\u001b[0m \u001b[0maccuracy_score\u001b[0m\u001b[0;34m\u001b[0m\u001b[0;34m\u001b[0m\u001b[0m\n\u001b[1;32m      5\u001b[0m \u001b[0;32mimport\u001b[0m \u001b[0mtorchvision\u001b[0m \u001b[0;31m# Assuming you're using torchvision datasets, if not, adjust train_data/test_data loading\u001b[0m\u001b[0;34m\u001b[0m\u001b[0;34m\u001b[0m\u001b[0m\n",
            "\u001b[0;31mModuleNotFoundError\u001b[0m: No module named 'torchdf'",
            "",
            "\u001b[0;31m---------------------------------------------------------------------------\u001b[0;32m\nNOTE: If your import is failing due to a missing package, you can\nmanually install dependencies using either !pip or !apt.\n\nTo view examples of installing some common dependencies, click the\n\"Open Examples\" button below.\n\u001b[0;31m---------------------------------------------------------------------------\u001b[0m\n"
          ],
          "errorDetails": {
            "actions": [
              {
                "action": "open_url",
                "actionText": "Open Examples",
                "url": "/notebooks/snippets/importing_libraries.ipynb"
              }
            ]
          }
        }
      ]
    }
  ]
}