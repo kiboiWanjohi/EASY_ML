{
  "cells": [
    {
      "cell_type": "markdown",
      "source": [
        "# Linear Regression Tutorial\n",
        "Date : July 9, 2025\n",
        "Status : In Development"
      ],
      "metadata": {
        "id": "6Ii3RYLsdJSE"
      },
      "id": "6Ii3RYLsdJSE"
    },
    {
      "cell_type": "code",
      "execution_count": 20,
      "id": "import-torch",
      "metadata": {
        "id": "import-torch",
        "outputId": "d23f1b22-12d8-49b4-d313-ed168e4cb6f6",
        "colab": {
          "base_uri": "https://localhost:8080/"
        }
      },
      "outputs": [
        {
          "output_type": "stream",
          "name": "stdout",
          "text": [
            "Drive already mounted at /content/drive; to attempt to forcibly remount, call drive.mount(\"/content/drive\", force_remount=True).\n"
          ]
        }
      ],
      "source": [
        "from google.colab import drive\n",
        "drive.mount('/content/drive')"
      ]
    },
    {
      "cell_type": "code",
      "execution_count": 21,
      "id": "corr-function",
      "metadata": {
        "id": "corr-function",
        "outputId": "f6d7e5a4-6933-41aa-c0ca-5ce8965caf22",
        "colab": {
          "base_uri": "https://localhost:8080/",
          "height": 35
        }
      },
      "outputs": [
        {
          "output_type": "execute_result",
          "data": {
            "text/plain": [
              "'/content'"
            ],
            "application/vnd.google.colaboratory.intrinsic+json": {
              "type": "string"
            }
          },
          "metadata": {},
          "execution_count": 21
        }
      ],
      "source": [
        "pwd"
      ]
    },
    {
      "cell_type": "code",
      "source": [
        "! ls -la"
      ],
      "metadata": {
        "id": "1s_NvuiLeJ7z",
        "outputId": "8072b69a-48d9-4bf2-8ad4-2430d2918614",
        "colab": {
          "base_uri": "https://localhost:8080/"
        }
      },
      "id": "1s_NvuiLeJ7z",
      "execution_count": 22,
      "outputs": [
        {
          "output_type": "stream",
          "name": "stdout",
          "text": [
            "total 20\n",
            "drwxr-xr-x 1 root root 4096 Jul 10 05:51 .\n",
            "drwxr-xr-x 1 root root 4096 Jul 10 05:33 ..\n",
            "drwxr-xr-x 4 root root 4096 Jul  8 17:47 .config\n",
            "drwx------ 6 root root 4096 Jul 10 05:51 drive\n",
            "drwxr-xr-x 1 root root 4096 Jul  8 17:47 sample_data\n"
          ]
        }
      ]
    },
    {
      "cell_type": "code",
      "source": [
        "cd /content/drive/MyDrive/Easy_ML/tutorial_1.csv"
      ],
      "metadata": {
        "id": "z_OcMc6JhDaz",
        "outputId": "9b8c0b82-14cd-4b4d-bb1a-eb22d90f91ce",
        "colab": {
          "base_uri": "https://localhost:8080/"
        }
      },
      "id": "z_OcMc6JhDaz",
      "execution_count": 23,
      "outputs": [
        {
          "output_type": "stream",
          "name": "stdout",
          "text": [
            "[Errno 20] Not a directory: '/content/drive/MyDrive/Easy_ML/tutorial_1.csv'\n",
            "/content\n"
          ]
        }
      ]
    },
    {
      "cell_type": "code",
      "source": [
        "! head -n 5 /content/drive/MyDrive/Easy_ML/tutorial_1.csv"
      ],
      "metadata": {
        "id": "kL_jw6vshjgT",
        "outputId": "7e4efd5f-370f-40ca-ae49-8894238cc799",
        "colab": {
          "base_uri": "https://localhost:8080/"
        }
      },
      "id": "kL_jw6vshjgT",
      "execution_count": 24,
      "outputs": [
        {
          "output_type": "stream",
          "name": "stdout",
          "text": [
            "x,y\n",
            "5.4881350392732475,29.65450786127179\n",
            "7.151893663724195,34.99358978951999\n",
            "6.027633760716439,35.99427342345802\n",
            "5.448831829968968,24.815775427356154\n"
          ]
        }
      ]
    },
    {
      "cell_type": "code",
      "source": [
        "! ls -lrt | grep tutorial"
      ],
      "metadata": {
        "id": "w3Pb6ntWiCAT"
      },
      "id": "w3Pb6ntWiCAT",
      "execution_count": 25,
      "outputs": []
    },
    {
      "cell_type": "code",
      "source": [
        "! head -n 5 /content/drive/MyDrive/Easy_ML/tutorial_1.csv"
      ],
      "metadata": {
        "id": "umpWPWnRiKx7",
        "outputId": "2dfc0a57-b012-4eea-eaa0-5c9529961a84",
        "colab": {
          "base_uri": "https://localhost:8080/"
        }
      },
      "id": "umpWPWnRiKx7",
      "execution_count": 26,
      "outputs": [
        {
          "output_type": "stream",
          "name": "stdout",
          "text": [
            "x,y\n",
            "5.4881350392732475,29.65450786127179\n",
            "7.151893663724195,34.99358978951999\n",
            "6.027633760716439,35.99427342345802\n",
            "5.448831829968968,24.815775427356154\n"
          ]
        }
      ]
    },
    {
      "cell_type": "code",
      "source": [
        "import pandas as pd\n",
        "\n",
        "filename = \"/content/drive/MyDrive/Easy_ML/tutorial_1.csv\"\n",
        "df = pd.read_csv(filename)\n",
        "df.head()"
      ],
      "metadata": {
        "id": "D1mww3ZIj8jL",
        "outputId": "1c907910-568b-40c1-9112-0d30916774a1",
        "colab": {
          "base_uri": "https://localhost:8080/",
          "height": 206
        }
      },
      "id": "D1mww3ZIj8jL",
      "execution_count": 27,
      "outputs": [
        {
          "output_type": "execute_result",
          "data": {
            "text/plain": [
              "          x          y\n",
              "0  5.488135  29.654508\n",
              "1  7.151894  34.993590\n",
              "2  6.027634  35.994273\n",
              "3  5.448832  24.815775\n",
              "4  4.236548  21.034960"
            ],
            "text/html": [
              "\n",
              "  <div id=\"df-e7f60dc0-3784-44bd-b82a-afe6e9ae4dcf\" class=\"colab-df-container\">\n",
              "    <div>\n",
              "<style scoped>\n",
              "    .dataframe tbody tr th:only-of-type {\n",
              "        vertical-align: middle;\n",
              "    }\n",
              "\n",
              "    .dataframe tbody tr th {\n",
              "        vertical-align: top;\n",
              "    }\n",
              "\n",
              "    .dataframe thead th {\n",
              "        text-align: right;\n",
              "    }\n",
              "</style>\n",
              "<table border=\"1\" class=\"dataframe\">\n",
              "  <thead>\n",
              "    <tr style=\"text-align: right;\">\n",
              "      <th></th>\n",
              "      <th>x</th>\n",
              "      <th>y</th>\n",
              "    </tr>\n",
              "  </thead>\n",
              "  <tbody>\n",
              "    <tr>\n",
              "      <th>0</th>\n",
              "      <td>5.488135</td>\n",
              "      <td>29.654508</td>\n",
              "    </tr>\n",
              "    <tr>\n",
              "      <th>1</th>\n",
              "      <td>7.151894</td>\n",
              "      <td>34.993590</td>\n",
              "    </tr>\n",
              "    <tr>\n",
              "      <th>2</th>\n",
              "      <td>6.027634</td>\n",
              "      <td>35.994273</td>\n",
              "    </tr>\n",
              "    <tr>\n",
              "      <th>3</th>\n",
              "      <td>5.448832</td>\n",
              "      <td>24.815775</td>\n",
              "    </tr>\n",
              "    <tr>\n",
              "      <th>4</th>\n",
              "      <td>4.236548</td>\n",
              "      <td>21.034960</td>\n",
              "    </tr>\n",
              "  </tbody>\n",
              "</table>\n",
              "</div>\n",
              "    <div class=\"colab-df-buttons\">\n",
              "\n",
              "  <div class=\"colab-df-container\">\n",
              "    <button class=\"colab-df-convert\" onclick=\"convertToInteractive('df-e7f60dc0-3784-44bd-b82a-afe6e9ae4dcf')\"\n",
              "            title=\"Convert this dataframe to an interactive table.\"\n",
              "            style=\"display:none;\">\n",
              "\n",
              "  <svg xmlns=\"http://www.w3.org/2000/svg\" height=\"24px\" viewBox=\"0 -960 960 960\">\n",
              "    <path d=\"M120-120v-720h720v720H120Zm60-500h600v-160H180v160Zm220 220h160v-160H400v160Zm0 220h160v-160H400v160ZM180-400h160v-160H180v160Zm440 0h160v-160H620v160ZM180-180h160v-160H180v160Zm440 0h160v-160H620v160Z\"/>\n",
              "  </svg>\n",
              "    </button>\n",
              "\n",
              "  <style>\n",
              "    .colab-df-container {\n",
              "      display:flex;\n",
              "      gap: 12px;\n",
              "    }\n",
              "\n",
              "    .colab-df-convert {\n",
              "      background-color: #E8F0FE;\n",
              "      border: none;\n",
              "      border-radius: 50%;\n",
              "      cursor: pointer;\n",
              "      display: none;\n",
              "      fill: #1967D2;\n",
              "      height: 32px;\n",
              "      padding: 0 0 0 0;\n",
              "      width: 32px;\n",
              "    }\n",
              "\n",
              "    .colab-df-convert:hover {\n",
              "      background-color: #E2EBFA;\n",
              "      box-shadow: 0px 1px 2px rgba(60, 64, 67, 0.3), 0px 1px 3px 1px rgba(60, 64, 67, 0.15);\n",
              "      fill: #174EA6;\n",
              "    }\n",
              "\n",
              "    .colab-df-buttons div {\n",
              "      margin-bottom: 4px;\n",
              "    }\n",
              "\n",
              "    [theme=dark] .colab-df-convert {\n",
              "      background-color: #3B4455;\n",
              "      fill: #D2E3FC;\n",
              "    }\n",
              "\n",
              "    [theme=dark] .colab-df-convert:hover {\n",
              "      background-color: #434B5C;\n",
              "      box-shadow: 0px 1px 3px 1px rgba(0, 0, 0, 0.15);\n",
              "      filter: drop-shadow(0px 1px 2px rgba(0, 0, 0, 0.3));\n",
              "      fill: #FFFFFF;\n",
              "    }\n",
              "  </style>\n",
              "\n",
              "    <script>\n",
              "      const buttonEl =\n",
              "        document.querySelector('#df-e7f60dc0-3784-44bd-b82a-afe6e9ae4dcf button.colab-df-convert');\n",
              "      buttonEl.style.display =\n",
              "        google.colab.kernel.accessAllowed ? 'block' : 'none';\n",
              "\n",
              "      async function convertToInteractive(key) {\n",
              "        const element = document.querySelector('#df-e7f60dc0-3784-44bd-b82a-afe6e9ae4dcf');\n",
              "        const dataTable =\n",
              "          await google.colab.kernel.invokeFunction('convertToInteractive',\n",
              "                                                    [key], {});\n",
              "        if (!dataTable) return;\n",
              "\n",
              "        const docLinkHtml = 'Like what you see? Visit the ' +\n",
              "          '<a target=\"_blank\" href=https://colab.research.google.com/notebooks/data_table.ipynb>data table notebook</a>'\n",
              "          + ' to learn more about interactive tables.';\n",
              "        element.innerHTML = '';\n",
              "        dataTable['output_type'] = 'display_data';\n",
              "        await google.colab.output.renderOutput(dataTable, element);\n",
              "        const docLink = document.createElement('div');\n",
              "        docLink.innerHTML = docLinkHtml;\n",
              "        element.appendChild(docLink);\n",
              "      }\n",
              "    </script>\n",
              "  </div>\n",
              "\n",
              "\n",
              "    <div id=\"df-3a1fa234-8244-4f45-89a3-5c2ed5787672\">\n",
              "      <button class=\"colab-df-quickchart\" onclick=\"quickchart('df-3a1fa234-8244-4f45-89a3-5c2ed5787672')\"\n",
              "                title=\"Suggest charts\"\n",
              "                style=\"display:none;\">\n",
              "\n",
              "<svg xmlns=\"http://www.w3.org/2000/svg\" height=\"24px\"viewBox=\"0 0 24 24\"\n",
              "     width=\"24px\">\n",
              "    <g>\n",
              "        <path d=\"M19 3H5c-1.1 0-2 .9-2 2v14c0 1.1.9 2 2 2h14c1.1 0 2-.9 2-2V5c0-1.1-.9-2-2-2zM9 17H7v-7h2v7zm4 0h-2V7h2v10zm4 0h-2v-4h2v4z\"/>\n",
              "    </g>\n",
              "</svg>\n",
              "      </button>\n",
              "\n",
              "<style>\n",
              "  .colab-df-quickchart {\n",
              "      --bg-color: #E8F0FE;\n",
              "      --fill-color: #1967D2;\n",
              "      --hover-bg-color: #E2EBFA;\n",
              "      --hover-fill-color: #174EA6;\n",
              "      --disabled-fill-color: #AAA;\n",
              "      --disabled-bg-color: #DDD;\n",
              "  }\n",
              "\n",
              "  [theme=dark] .colab-df-quickchart {\n",
              "      --bg-color: #3B4455;\n",
              "      --fill-color: #D2E3FC;\n",
              "      --hover-bg-color: #434B5C;\n",
              "      --hover-fill-color: #FFFFFF;\n",
              "      --disabled-bg-color: #3B4455;\n",
              "      --disabled-fill-color: #666;\n",
              "  }\n",
              "\n",
              "  .colab-df-quickchart {\n",
              "    background-color: var(--bg-color);\n",
              "    border: none;\n",
              "    border-radius: 50%;\n",
              "    cursor: pointer;\n",
              "    display: none;\n",
              "    fill: var(--fill-color);\n",
              "    height: 32px;\n",
              "    padding: 0;\n",
              "    width: 32px;\n",
              "  }\n",
              "\n",
              "  .colab-df-quickchart:hover {\n",
              "    background-color: var(--hover-bg-color);\n",
              "    box-shadow: 0 1px 2px rgba(60, 64, 67, 0.3), 0 1px 3px 1px rgba(60, 64, 67, 0.15);\n",
              "    fill: var(--button-hover-fill-color);\n",
              "  }\n",
              "\n",
              "  .colab-df-quickchart-complete:disabled,\n",
              "  .colab-df-quickchart-complete:disabled:hover {\n",
              "    background-color: var(--disabled-bg-color);\n",
              "    fill: var(--disabled-fill-color);\n",
              "    box-shadow: none;\n",
              "  }\n",
              "\n",
              "  .colab-df-spinner {\n",
              "    border: 2px solid var(--fill-color);\n",
              "    border-color: transparent;\n",
              "    border-bottom-color: var(--fill-color);\n",
              "    animation:\n",
              "      spin 1s steps(1) infinite;\n",
              "  }\n",
              "\n",
              "  @keyframes spin {\n",
              "    0% {\n",
              "      border-color: transparent;\n",
              "      border-bottom-color: var(--fill-color);\n",
              "      border-left-color: var(--fill-color);\n",
              "    }\n",
              "    20% {\n",
              "      border-color: transparent;\n",
              "      border-left-color: var(--fill-color);\n",
              "      border-top-color: var(--fill-color);\n",
              "    }\n",
              "    30% {\n",
              "      border-color: transparent;\n",
              "      border-left-color: var(--fill-color);\n",
              "      border-top-color: var(--fill-color);\n",
              "      border-right-color: var(--fill-color);\n",
              "    }\n",
              "    40% {\n",
              "      border-color: transparent;\n",
              "      border-right-color: var(--fill-color);\n",
              "      border-top-color: var(--fill-color);\n",
              "    }\n",
              "    60% {\n",
              "      border-color: transparent;\n",
              "      border-right-color: var(--fill-color);\n",
              "    }\n",
              "    80% {\n",
              "      border-color: transparent;\n",
              "      border-right-color: var(--fill-color);\n",
              "      border-bottom-color: var(--fill-color);\n",
              "    }\n",
              "    90% {\n",
              "      border-color: transparent;\n",
              "      border-bottom-color: var(--fill-color);\n",
              "    }\n",
              "  }\n",
              "</style>\n",
              "\n",
              "      <script>\n",
              "        async function quickchart(key) {\n",
              "          const quickchartButtonEl =\n",
              "            document.querySelector('#' + key + ' button');\n",
              "          quickchartButtonEl.disabled = true;  // To prevent multiple clicks.\n",
              "          quickchartButtonEl.classList.add('colab-df-spinner');\n",
              "          try {\n",
              "            const charts = await google.colab.kernel.invokeFunction(\n",
              "                'suggestCharts', [key], {});\n",
              "          } catch (error) {\n",
              "            console.error('Error during call to suggestCharts:', error);\n",
              "          }\n",
              "          quickchartButtonEl.classList.remove('colab-df-spinner');\n",
              "          quickchartButtonEl.classList.add('colab-df-quickchart-complete');\n",
              "        }\n",
              "        (() => {\n",
              "          let quickchartButtonEl =\n",
              "            document.querySelector('#df-3a1fa234-8244-4f45-89a3-5c2ed5787672 button');\n",
              "          quickchartButtonEl.style.display =\n",
              "            google.colab.kernel.accessAllowed ? 'block' : 'none';\n",
              "        })();\n",
              "      </script>\n",
              "    </div>\n",
              "\n",
              "    </div>\n",
              "  </div>\n"
            ],
            "application/vnd.google.colaboratory.intrinsic+json": {
              "type": "dataframe",
              "variable_name": "df",
              "summary": "{\n  \"name\": \"df\",\n  \"rows\": 50,\n  \"fields\": [\n    {\n      \"column\": \"x\",\n      \"properties\": {\n        \"dtype\": \"number\",\n        \"std\": 2.7503001381903354,\n        \"min\": 0.1878980043635514,\n        \"max\": 9.78618342232764,\n        \"num_unique_values\": 50,\n        \"samples\": [\n          9.25596638292661,\n          6.818202991034834,\n          2.64555612104627\n        ],\n        \"semantic_type\": \"\",\n        \"description\": \"\"\n      }\n    },\n    {\n      \"column\": \"y\",\n      \"properties\": {\n        \"dtype\": \"number\",\n        \"std\": 11.130395444032485,\n        \"min\": 6.807265944716013,\n        \"max\": 50.90932833944452,\n        \"num_unique_values\": 50,\n        \"samples\": [\n          40.40569504519258,\n          38.56577393990148,\n          15.76205627812484\n        ],\n        \"semantic_type\": \"\",\n        \"description\": \"\"\n      }\n    }\n  ]\n}"
            }
          },
          "metadata": {},
          "execution_count": 27
        }
      ]
    },
    {
      "cell_type": "code",
      "source": [
        "import numpy as np\n",
        "x = np.array(df['x'])\n",
        "y = np.array(df['y'])"
      ],
      "metadata": {
        "id": "buJkhiv14arJ"
      },
      "id": "buJkhiv14arJ",
      "execution_count": 31,
      "outputs": []
    },
    {
      "cell_type": "code",
      "source": [
        "len(x)"
      ],
      "metadata": {
        "colab": {
          "base_uri": "https://localhost:8080/"
        },
        "id": "ncWCR6905iRR",
        "outputId": "4942a4ee-2b9a-4fed-9604-60ffcad0ca50"
      },
      "id": "ncWCR6905iRR",
      "execution_count": 33,
      "outputs": [
        {
          "output_type": "execute_result",
          "data": {
            "text/plain": [
              "50"
            ]
          },
          "metadata": {},
          "execution_count": 33
        }
      ]
    },
    {
      "cell_type": "code",
      "source": [
        "len(y)"
      ],
      "metadata": {
        "colab": {
          "base_uri": "https://localhost:8080/"
        },
        "id": "l_H5i4W39qcQ",
        "outputId": "f0513592-a92c-4773-81e8-6f462b61177a"
      },
      "id": "l_H5i4W39qcQ",
      "execution_count": 34,
      "outputs": [
        {
          "output_type": "execute_result",
          "data": {
            "text/plain": [
              "50"
            ]
          },
          "metadata": {},
          "execution_count": 34
        }
      ]
    },
    {
      "cell_type": "code",
      "source": [
        "import matplotlib.pyplot as plt\n",
        "\n",
        "plt.scatter(x, y)\n",
        "plt.show()"
      ],
      "metadata": {
        "colab": {
          "base_uri": "https://localhost:8080/",
          "height": 430
        },
        "id": "ySlLSIMG9s1A",
        "outputId": "3e022add-5bef-4849-d987-1a989c37f308"
      },
      "id": "ySlLSIMG9s1A",
      "execution_count": 35,
      "outputs": [
        {
          "output_type": "display_data",
          "data": {
            "text/plain": [
              "<Figure size 640x480 with 1 Axes>"
            ],
            "image/png": "[encoded data removed]"
          },
          "metadata": {}
        }
      ]
    },
    {
      "cell_type": "code",
      "source": [
        "def h_line(theta_1, theta_0, x):\n",
        "  return theta_0 + theta_1 * x"
      ],
      "metadata": {
        "id": "P96tobPs-Zr4"
      },
      "id": "P96tobPs-Zr4",
      "execution_count": 37,
      "outputs": []
    },
    {
      "cell_type": "code",
      "source": [
        "x_test = np.array([1,2,3,4])\n",
        "y_test = np.array([2,4,6,8])\n",
        "\n",
        "# theta_0 is zero\n",
        "theta_0 = 0\n",
        "\n",
        "# list of values for theta_1\n",
        "theta_1_vals = [0, 0.5, 1, 1.5, 2]\n",
        "\n",
        "def costFunctionLinRegression(x_vals, y_vals, theta_0, theta_1):\n",
        "  m = len(x_vals)\n",
        "  if m != len(y_vals):\n",
        "    raise Exception(\"x_vals and y_vals must be the same length\")\n",
        "\n",
        "  # create numpy array\n",
        "  sumand = (h_line(theta_0, theta_1, x_vals) - y_vals) ** 2\n",
        "\n",
        "\n",
        "  return (1/(2*m)) * np.sum(sumand, axis = 0)\n",
        "\n",
        "\n",
        "\n",
        "\n",
        "\n",
        "for theta_1 in theta_1_vals:\n",
        "  cost = costFunctionLinRegression( x_test, y_test, theta_0, theta_1)\n",
        "  print(f\"With theta_1 = {theta_1:.1f}\\tcost = {cost:.2f}\")"
      ],
      "metadata": {
        "colab": {
          "base_uri": "https://localhost:8080/"
        },
        "id": "BuuCoyre_F7Q",
        "outputId": "65b0b613-bd82-4195-a5cd-22d77438b057"
      },
      "id": "BuuCoyre_F7Q",
      "execution_count": 44,
      "outputs": [
        {
          "output_type": "stream",
          "name": "stdout",
          "text": [
            "With theta_1 = 0.0\tcost = 15.00\n",
            "With theta_1 = 0.5\tcost = 12.62\n",
            "With theta_1 = 1.0\tcost = 10.50\n",
            "With theta_1 = 1.5\tcost = 8.62\n",
            "With theta_1 = 2.0\tcost = 7.00\n"
          ]
        }
      ]
    },
    {
      "cell_type": "code",
      "source": [
        "def get_residuals(x_vals, y_vals, theta_0, theta_1):\n",
        "  return y_vals - h_line(theta_0, theta_1, x_vals)"
      ],
      "metadata": {
        "id": "hjm3Y4TNefSC"
      },
      "id": "hjm3Y4TNefSC",
      "execution_count": 45,
      "outputs": []
    }
  ],
  "metadata": {
    "kernelspec": {
      "display_name": "Python 3 (ipykernel)",
      "language": "python",
      "name": "python3"
    },
    "language_info": {
      "codemirror_mode": {
        "name": "ipython",
        "version": 3
      },
      "file_extension": ".py",
      "mimetype": "text/x-python",
      "name": "python",
      "nbconvert_exporter": "python",
      "pygments_lexer": "ipython3",
      "version": "3.12.3"
    },
    "colab": {
      "provenance": []
    }
  },
  "nbformat": 4,
  "nbformat_minor": 5
}