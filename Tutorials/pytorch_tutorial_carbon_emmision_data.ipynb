{
  "metadata": {
    "kernelspec": {
      "language": "python",
      "display_name": "Python 3",
      "name": "python3"
    },
    "language_info": {
      "name": "python",
      "version": "3.11.13",
      "mimetype": "text/x-python",
      "codemirror_mode": {
        "name": "ipython",
        "version": 3
      },
      "pygments_lexer": "ipython3",
      "nbconvert_exporter": "python",
      "file_extension": ".py"
    },
    "kaggle": {
      "accelerator": "none",
      "dataSources": [
        {
          "sourceId": 12401948,
          "sourceType": "datasetVersion",
          "datasetId": 7820971
        },
        {
          "sourceId": 12463087,
          "sourceType": "datasetVersion",
          "datasetId": 7862147
        }
      ],
      "dockerImageVersionId": 31090,
      "isInternetEnabled": false,
      "language": "python",
      "sourceType": "notebook",
      "isGpuEnabled": false
    },
    "colab": {
      "provenance": []
    }
  },
  "nbformat_minor": 0,
  "nbformat": 4,
  "cells": [
    {
      "cell_type": "markdown",
      "source": [
        "# Session 1: Tuesday, July 15, 2:00 pm - 3:30 pm (1h30)\n",
        "1. Introduction to PyTorch (some slides or few images integrated in this notebook)\n",
        "2. Pytorch Basics :\n",
        "   * Tensor creation and manipulation\n",
        "   * Run calculations on CPU/GPU\n",
        "   * Basics for creating a model (Class nn.Module, init and forward function)\n",
        "   * Basics for train and test (how to set up loss function and optimizer,  turn model in inference mode for testing)"
      ],
      "metadata": {
        "id": "4oSOFuFHtXIx"
      }
    },
    {
      "cell_type": "markdown",
      "source": [
        "### Part 1: Introduction to tensors\n",
        "\n",
        "Pytorch only manipulates data in Tensor format, so we need to create our data directly in this format, or convert it if it's in numpy array or dataframe format, for example.\n",
        "\n",
        "Tensor data can be scalar, vector , matrix or tensor."
      ],
      "metadata": {
        "id": "kPKMRISktXI1"
      }
    },
    {
      "cell_type": "markdown",
      "source": [
        "## What is a tensor?"
      ],
      "metadata": {
        "id": "5dCPlAdItXI1"
      }
    },
    {
      "cell_type": "code",
      "source": [
        "import warnings\n",
        "\n",
        "# Ignore all warnings\n",
        "warnings.filterwarnings('ignore')"
      ],
      "metadata": {
        "trusted": true,
        "execution": {
          "iopub.status.busy": "2025-07-15T06:22:04.472177Z",
          "iopub.execute_input": "2025-07-15T06:22:04.472419Z",
          "iopub.status.idle": "2025-07-15T06:22:04.476427Z",
          "shell.execute_reply.started": "2025-07-15T06:22:04.472396Z",
          "shell.execute_reply": "2025-07-15T06:22:04.475467Z"
        },
        "id": "XYpXnUy5tXI2"
      },
      "outputs": [],
      "execution_count": null
    },
    {
      "cell_type": "code",
      "source": [
        "# !pip install torch torchvision\n",
        "\n",
        "import torch #framework package\n",
        "import torchvision\n",
        "\n",
        "print(\"PyTorch version:\", torch.__version__)\n",
        "print(\"CUDA available:\", torch.cuda.is_available())"
      ],
      "metadata": {
        "trusted": true,
        "execution": {
          "iopub.status.busy": "2025-07-15T06:22:04.477092Z",
          "iopub.execute_input": "2025-07-15T06:22:04.477358Z",
          "iopub.status.idle": "2025-07-15T06:22:04.487448Z",
          "shell.execute_reply.started": "2025-07-15T06:22:04.477331Z",
          "shell.execute_reply": "2025-07-15T06:22:04.486632Z"
        },
        "colab": {
          "base_uri": "https://localhost:8080/"
        },
        "id": "mDefnL0PtXI3",
        "outputId": "62a0b820-cc2a-4f66-c23b-597c7126f063"
      },
      "outputs": [
        {
          "output_type": "stream",
          "name": "stdout",
          "text": [
            "PyTorch version: 2.6.0+cu124\n",
            "CUDA available: False\n"
          ]
        }
      ],
      "execution_count": null
    },
    {
      "cell_type": "code",
      "source": [
        "# Scalar\n",
        "scalar = torch.tensor(7)\n",
        "scalar"
      ],
      "metadata": {
        "trusted": true,
        "execution": {
          "iopub.status.busy": "2025-07-15T06:22:04.488124Z",
          "iopub.execute_input": "2025-07-15T06:22:04.488357Z",
          "iopub.status.idle": "2025-07-15T06:22:04.499603Z",
          "shell.execute_reply.started": "2025-07-15T06:22:04.488308Z",
          "shell.execute_reply": "2025-07-15T06:22:04.498803Z"
        },
        "colab": {
          "base_uri": "https://localhost:8080/"
        },
        "id": "oXdehCs_tXI4",
        "outputId": "4779ee7f-aeaa-4983-dd72-35ab6ea32dae"
      },
      "outputs": [
        {
          "output_type": "execute_result",
          "data": {
            "text/plain": [
              "tensor(7)"
            ]
          },
          "metadata": {},
          "execution_count": 117
        }
      ],
      "execution_count": null
    },
    {
      "cell_type": "code",
      "source": [
        "# Vector\n",
        "vector = torch.tensor([7, 7])\n",
        "vector"
      ],
      "metadata": {
        "trusted": true,
        "execution": {
          "iopub.status.busy": "2025-07-15T06:22:04.500425Z",
          "iopub.execute_input": "2025-07-15T06:22:04.500657Z",
          "iopub.status.idle": "2025-07-15T06:22:04.511449Z",
          "shell.execute_reply.started": "2025-07-15T06:22:04.500636Z",
          "shell.execute_reply": "2025-07-15T06:22:04.510703Z"
        },
        "colab": {
          "base_uri": "https://localhost:8080/"
        },
        "id": "L3a88oyTtXI4",
        "outputId": "74ce506c-b106-42d1-e827-9808d93aa811"
      },
      "outputs": [
        {
          "output_type": "execute_result",
          "data": {
            "text/plain": [
              "tensor([7, 7])"
            ]
          },
          "metadata": {},
          "execution_count": 118
        }
      ],
      "execution_count": null
    },
    {
      "cell_type": "code",
      "source": [
        "# Matrix\n",
        "Matrix = torch.tensor([[7, 8],\n",
        "                       [9, 10]])\n",
        "Matrix"
      ],
      "metadata": {
        "trusted": true,
        "execution": {
          "iopub.status.busy": "2025-07-15T06:22:04.512302Z",
          "iopub.execute_input": "2025-07-15T06:22:04.512599Z",
          "iopub.status.idle": "2025-07-15T06:22:04.526443Z",
          "shell.execute_reply.started": "2025-07-15T06:22:04.512579Z",
          "shell.execute_reply": "2025-07-15T06:22:04.525707Z"
        },
        "colab": {
          "base_uri": "https://localhost:8080/"
        },
        "id": "il_LG0jGtXI5",
        "outputId": "b75d0f43-1f7c-43f2-bfd6-19313136de84"
      },
      "outputs": [
        {
          "output_type": "execute_result",
          "data": {
            "text/plain": [
              "tensor([[ 7,  8],\n",
              "        [ 9, 10]])"
            ]
          },
          "metadata": {},
          "execution_count": 119
        }
      ],
      "execution_count": null
    },
    {
      "cell_type": "code",
      "source": [
        "# Tensor\n",
        "Tensor = torch.tensor([[[1, 2, 3],\n",
        "                        [3, 6, 9],\n",
        "                        [2, 4, 5]]])\n",
        "Tensor"
      ],
      "metadata": {
        "trusted": true,
        "execution": {
          "iopub.status.busy": "2025-07-15T06:22:04.527178Z",
          "iopub.execute_input": "2025-07-15T06:22:04.527432Z",
          "iopub.status.idle": "2025-07-15T06:22:04.539818Z",
          "shell.execute_reply.started": "2025-07-15T06:22:04.527407Z",
          "shell.execute_reply": "2025-07-15T06:22:04.539137Z"
        },
        "colab": {
          "base_uri": "https://localhost:8080/"
        },
        "id": "1PDsVUnMtXI5",
        "outputId": "f367895e-c89d-4393-a337-41d8e0c877bd"
      },
      "outputs": [
        {
          "output_type": "execute_result",
          "data": {
            "text/plain": [
              "tensor([[[1, 2, 3],\n",
              "         [3, 6, 9],\n",
              "         [2, 4, 5]]])"
            ]
          },
          "metadata": {},
          "execution_count": 120
        }
      ],
      "execution_count": null
    },
    {
      "cell_type": "code",
      "source": [],
      "metadata": {
        "trusted": true,
        "id": "gJrgbZBvtXI5"
      },
      "outputs": [],
      "execution_count": null
    },
    {
      "cell_type": "markdown",
      "source": [
        "To know the size and dimension of Tensor variables, you can use shape and ndim functions\n",
        "Matrix: A 2-dimensional (2D) array of numbers.\n",
        "Example: a table with rows and columns.\n",
        "\n",
        "Tensor: A generalization of matrices to n-dimensions.\n",
        "So:\n",
        "\n",
        "Scalar = rank-0 tensor (single number)\n",
        "\n",
        "Vector = rank-1 tensor (1D array)\n",
        "\n",
        "Matrix = rank-2 tensor (2D array)\n",
        "\n",
        "Higher-order tensors = 3D, 4D, … nD arrays"
      ],
      "metadata": {
        "id": "9lo9Bs1ItXI6"
      }
    },
    {
      "cell_type": "code",
      "source": [
        "# Dimension\n",
        "print(\"scalar dim :\", scalar.ndim)\n",
        "print(\"vector dim :\", vector.ndim)\n",
        "print(\"Matrix dim :\", Matrix.ndim)\n",
        "print(\"Tensor dim :\", Tensor.ndim)\n",
        "\n",
        "# Size\n",
        "print(\"scalar size :\", scalar.shape)\n",
        "print(\"vector size :\", vector.shape)\n",
        "print(\"Matrix size :\", Matrix.shape)\n",
        "print(\"Tensor size :\", Tensor.shape)"
      ],
      "metadata": {
        "trusted": true,
        "execution": {
          "iopub.status.busy": "2025-07-15T06:22:04.540615Z",
          "iopub.execute_input": "2025-07-15T06:22:04.540848Z",
          "iopub.status.idle": "2025-07-15T06:22:04.550977Z",
          "shell.execute_reply.started": "2025-07-15T06:22:04.540827Z",
          "shell.execute_reply": "2025-07-15T06:22:04.550237Z"
        },
        "colab": {
          "base_uri": "https://localhost:8080/"
        },
        "id": "M-H8QtnRtXI6",
        "outputId": "9b91d485-cdd4-4aa7-ecda-23e5af7d07f8"
      },
      "outputs": [
        {
          "output_type": "stream",
          "name": "stdout",
          "text": [
            "scalar dim : 0\n",
            "vector dim : 1\n",
            "Matrix dim : 2\n",
            "Tensor dim : 3\n",
            "scalar size : torch.Size([])\n",
            "vector size : torch.Size([2])\n",
            "Matrix size : torch.Size([2, 2])\n",
            "Tensor size : torch.Size([1, 3, 3])\n"
          ]
        }
      ],
      "execution_count": null
    },
    {
      "cell_type": "markdown",
      "source": [
        "For scalars, this is a single value, so the Tensor format considers it to be a dimensionless and sizeless tensor (in the \"mathematical\" sense).\n",
        "\n",
        "The size function returns the size of each dimension\n",
        "\n",
        "\n",
        "*   For matrices, first the height, then the width\n",
        "*   For tensors, first the depth (in the case of an image, the number of channels), then the height, then the width.)"
      ],
      "metadata": {
        "id": "jg8RJQ5KtXI7"
      }
    },
    {
      "cell_type": "markdown",
      "source": [
        "## B] Tensor datatypes\n",
        "\n",
        "There are many different tensor datatypes available in PyTorch : https://docs.pytorch.org/docs/stable/tensors.html#data-types\n",
        "\n",
        "The most common type (and generally the default) is torch.float32 or torch.float. This is referred to as \"32-bit floating point\".\n",
        "\n",
        "You can also have torch.int32, i.e. arrays of integers, and torch.bool, i.e. Booleans.\n",
        "\n",
        "64-bit formats such as torch.int64 and torch.float64 are also very common."
      ],
      "metadata": {
        "id": "Eg9zPiX_tXI7"
      }
    },
    {
      "cell_type": "code",
      "source": [
        "Matrix.dtype"
      ],
      "metadata": {
        "trusted": true,
        "execution": {
          "iopub.status.busy": "2025-07-15T06:22:04.551681Z",
          "iopub.execute_input": "2025-07-15T06:22:04.551900Z",
          "iopub.status.idle": "2025-07-15T06:22:04.563026Z",
          "shell.execute_reply.started": "2025-07-15T06:22:04.551879Z",
          "shell.execute_reply": "2025-07-15T06:22:04.562330Z"
        },
        "colab": {
          "base_uri": "https://localhost:8080/"
        },
        "id": "ZMfmKhxUtXI7",
        "outputId": "f0746538-636d-46fb-c1e3-293d79c576b8"
      },
      "outputs": [
        {
          "output_type": "execute_result",
          "data": {
            "text/plain": [
              "torch.int64"
            ]
          },
          "metadata": {},
          "execution_count": 122
        }
      ],
      "execution_count": null
    },
    {
      "cell_type": "code",
      "source": [
        "float_64_tensor = torch.tensor([3.0, 6.0, 9.0],\n",
        "                               dtype=torch.float64)\n",
        "\n",
        "float_64_tensor.dtype"
      ],
      "metadata": {
        "trusted": true,
        "execution": {
          "iopub.status.busy": "2025-07-15T06:22:04.563814Z",
          "iopub.execute_input": "2025-07-15T06:22:04.564349Z",
          "iopub.status.idle": "2025-07-15T06:22:04.575660Z",
          "shell.execute_reply.started": "2025-07-15T06:22:04.564301Z",
          "shell.execute_reply": "2025-07-15T06:22:04.574935Z"
        },
        "colab": {
          "base_uri": "https://localhost:8080/"
        },
        "id": "rY2u46ZatXI7",
        "outputId": "2111c311-a1fd-4789-9ab7-62c5dc4f04d8"
      },
      "outputs": [
        {
          "output_type": "execute_result",
          "data": {
            "text/plain": [
              "torch.float64"
            ]
          },
          "metadata": {},
          "execution_count": 123
        }
      ],
      "execution_count": null
    },
    {
      "cell_type": "code",
      "source": [
        "boolean = torch.tensor([True, False, True])\n",
        "boolean.dtype"
      ],
      "metadata": {
        "trusted": true,
        "execution": {
          "iopub.status.busy": "2025-07-15T06:22:04.576351Z",
          "iopub.execute_input": "2025-07-15T06:22:04.576590Z",
          "iopub.status.idle": "2025-07-15T06:22:04.586369Z",
          "shell.execute_reply.started": "2025-07-15T06:22:04.576565Z",
          "shell.execute_reply": "2025-07-15T06:22:04.585723Z"
        },
        "colab": {
          "base_uri": "https://localhost:8080/"
        },
        "id": "XC7WT9NttXI7",
        "outputId": "32856db9-0755-45c2-e438-7d6f5e6c3053"
      },
      "outputs": [
        {
          "output_type": "execute_result",
          "data": {
            "text/plain": [
              "torch.bool"
            ]
          },
          "metadata": {},
          "execution_count": 124
        }
      ],
      "execution_count": null
    },
    {
      "cell_type": "markdown",
      "source": [
        "## C] Manipulating tensors"
      ],
      "metadata": {
        "id": "wuTQUW0itXI8"
      }
    },
    {
      "cell_type": "markdown",
      "source": [
        "### a) Create random tensors or tensors filled with 0 or 1"
      ],
      "metadata": {
        "id": "Po-9SZmwtXI8"
      }
    },
    {
      "cell_type": "code",
      "source": [
        "# Create a random tensor of size (3, 4)\n",
        "random_tensor = torch.rand(size=(3, 4))\n",
        "random_tensor"
      ],
      "metadata": {
        "trusted": true,
        "execution": {
          "iopub.status.busy": "2025-07-15T06:22:04.587269Z",
          "iopub.execute_input": "2025-07-15T06:22:04.587587Z",
          "iopub.status.idle": "2025-07-15T06:22:04.598219Z",
          "shell.execute_reply.started": "2025-07-15T06:22:04.587567Z",
          "shell.execute_reply": "2025-07-15T06:22:04.597522Z"
        },
        "colab": {
          "base_uri": "https://localhost:8080/"
        },
        "id": "xdIPEQMbtXI8",
        "outputId": "7740bc7d-cda2-4278-bd64-6a7c906edddb"
      },
      "outputs": [
        {
          "output_type": "execute_result",
          "data": {
            "text/plain": [
              "tensor([[0.9408, 0.1332, 0.9346, 0.5936],\n",
              "        [0.8694, 0.5677, 0.7411, 0.4294],\n",
              "        [0.8854, 0.5739, 0.2666, 0.6274]])"
            ]
          },
          "metadata": {},
          "execution_count": 125
        }
      ],
      "execution_count": null
    },
    {
      "cell_type": "code",
      "source": [
        "# Create a random tensor of size (224, 224, 3)\n",
        "random_image_size_tensor = torch.rand(size=(224, 224, 3))\n",
        "random_image_size_tensor"
      ],
      "metadata": {
        "trusted": true,
        "execution": {
          "iopub.status.busy": "2025-07-15T06:22:04.599065Z",
          "iopub.execute_input": "2025-07-15T06:22:04.599658Z",
          "iopub.status.idle": "2025-07-15T06:22:04.613078Z",
          "shell.execute_reply.started": "2025-07-15T06:22:04.599630Z",
          "shell.execute_reply": "2025-07-15T06:22:04.612426Z"
        },
        "colab": {
          "base_uri": "https://localhost:8080/"
        },
        "id": "a0oZtkGotXI8",
        "outputId": "e525c5cd-2ee4-419e-a575-ab4486a7e717"
      },
      "outputs": [
        {
          "output_type": "execute_result",
          "data": {
            "text/plain": [
              "tensor([[[0.2696, 0.4414, 0.2969],\n",
              "         [0.8317, 0.1053, 0.2695],\n",
              "         [0.3588, 0.1994, 0.5472],\n",
              "         ...,\n",
              "         [0.6539, 0.3397, 0.9565],\n",
              "         [0.0660, 0.3421, 0.0172],\n",
              "         [0.3031, 0.6576, 0.9813]],\n",
              "\n",
              "        [[0.5840, 0.9902, 0.5978],\n",
              "         [0.7888, 0.9008, 0.9180],\n",
              "         [0.2201, 0.9597, 0.8029],\n",
              "         ...,\n",
              "         [0.4556, 0.1844, 0.8533],\n",
              "         [0.5698, 0.3568, 0.1704],\n",
              "         [0.6172, 0.0231, 0.6317]],\n",
              "\n",
              "        [[0.7472, 0.0614, 0.1727],\n",
              "         [0.1405, 0.9203, 0.9251],\n",
              "         [0.5313, 0.9694, 0.3328],\n",
              "         ...,\n",
              "         [0.3064, 0.6272, 0.5955],\n",
              "         [0.8636, 0.8345, 0.2273],\n",
              "         [0.2865, 0.3940, 0.1418]],\n",
              "\n",
              "        ...,\n",
              "\n",
              "        [[0.5711, 0.5387, 0.1378],\n",
              "         [0.9763, 0.5521, 0.6004],\n",
              "         [0.1658, 0.1479, 0.8327],\n",
              "         ...,\n",
              "         [0.6617, 0.9871, 0.5877],\n",
              "         [0.7375, 0.1551, 0.7881],\n",
              "         [0.3759, 0.7442, 0.8621]],\n",
              "\n",
              "        [[0.7548, 0.6381, 0.0106],\n",
              "         [0.0893, 0.6170, 0.3402],\n",
              "         [0.8306, 0.0705, 0.2111],\n",
              "         ...,\n",
              "         [0.8216, 0.9618, 0.7925],\n",
              "         [0.2952, 0.6393, 0.7158],\n",
              "         [0.6099, 0.1369, 0.4302]],\n",
              "\n",
              "        [[0.7265, 0.6237, 0.8480],\n",
              "         [0.4580, 0.2424, 0.8264],\n",
              "         [0.0015, 0.9050, 0.1563],\n",
              "         ...,\n",
              "         [0.8600, 0.2933, 0.5889],\n",
              "         [0.4117, 0.0992, 0.3078],\n",
              "         [0.7786, 0.8016, 0.3649]]])"
            ]
          },
          "metadata": {},
          "execution_count": 126
        }
      ],
      "execution_count": null
    },
    {
      "cell_type": "code",
      "source": [
        "# Create a tensor of all zeros\n",
        "zeros = torch.zeros(size=(3, 4))\n",
        "zeros"
      ],
      "metadata": {
        "trusted": true,
        "execution": {
          "iopub.status.busy": "2025-07-15T06:22:04.613852Z",
          "iopub.execute_input": "2025-07-15T06:22:04.614054Z",
          "iopub.status.idle": "2025-07-15T06:22:04.619930Z",
          "shell.execute_reply.started": "2025-07-15T06:22:04.614037Z",
          "shell.execute_reply": "2025-07-15T06:22:04.619140Z"
        },
        "colab": {
          "base_uri": "https://localhost:8080/"
        },
        "id": "UfuCPvzctXI8",
        "outputId": "7983d085-179f-41cb-ba0a-9d776e8150ba"
      },
      "outputs": [
        {
          "output_type": "execute_result",
          "data": {
            "text/plain": [
              "tensor([[0., 0., 0., 0.],\n",
              "        [0., 0., 0., 0.],\n",
              "        [0., 0., 0., 0.]])"
            ]
          },
          "metadata": {},
          "execution_count": 127
        }
      ],
      "execution_count": null
    },
    {
      "cell_type": "code",
      "source": [
        "# Create a tensor of all ones\n",
        "ones = torch.ones(size=(3, 4))\n",
        "ones"
      ],
      "metadata": {
        "trusted": true,
        "execution": {
          "iopub.status.busy": "2025-07-15T06:22:04.620578Z",
          "iopub.execute_input": "2025-07-15T06:22:04.620804Z",
          "iopub.status.idle": "2025-07-15T06:22:04.632173Z",
          "shell.execute_reply.started": "2025-07-15T06:22:04.620777Z",
          "shell.execute_reply": "2025-07-15T06:22:04.631498Z"
        },
        "colab": {
          "base_uri": "https://localhost:8080/"
        },
        "id": "VTzJd_kmtXI8",
        "outputId": "cbb2dfc4-e7d6-4f97-f904-58620ffd385e"
      },
      "outputs": [
        {
          "output_type": "execute_result",
          "data": {
            "text/plain": [
              "tensor([[1., 1., 1., 1.],\n",
              "        [1., 1., 1., 1.],\n",
              "        [1., 1., 1., 1.]])"
            ]
          },
          "metadata": {},
          "execution_count": 128
        }
      ],
      "execution_count": null
    },
    {
      "cell_type": "markdown",
      "source": [
        "### b) Creating a range and tensors like\n",
        "\n",
        "You might want a range of numbers, such as 1 to 10 or 0 to 100.\n",
        "\n",
        "You can use torch.arange(start, end, step) to do this."
      ],
      "metadata": {
        "id": "OUieRqGOtXI8"
      }
    },
    {
      "cell_type": "code",
      "source": [
        "# Create a range of values 0 to 10\n",
        "zero_to_ten = torch.arange(start=0, end=10, step=1)\n",
        "zero_to_ten"
      ],
      "metadata": {
        "trusted": true,
        "execution": {
          "iopub.status.busy": "2025-07-15T06:22:04.633045Z",
          "iopub.execute_input": "2025-07-15T06:22:04.633266Z",
          "iopub.status.idle": "2025-07-15T06:22:04.643494Z",
          "shell.execute_reply.started": "2025-07-15T06:22:04.633240Z",
          "shell.execute_reply": "2025-07-15T06:22:04.642808Z"
        },
        "colab": {
          "base_uri": "https://localhost:8080/"
        },
        "id": "6rT0wujvtXI8",
        "outputId": "3c69c8e1-4365-429c-f266-97b8c32a7796"
      },
      "outputs": [
        {
          "output_type": "execute_result",
          "data": {
            "text/plain": [
              "tensor([0, 1, 2, 3, 4, 5, 6, 7, 8, 9])"
            ]
          },
          "metadata": {},
          "execution_count": 129
        }
      ],
      "execution_count": null
    },
    {
      "cell_type": "code",
      "source": [
        "# Can also create a tensor of zeros similar to another tensor\n",
        "ten_zeros = torch.zeros_like(input=zero_to_ten) # will have same shape\n",
        "ten_zeros"
      ],
      "metadata": {
        "trusted": true,
        "execution": {
          "iopub.status.busy": "2025-07-15T06:22:04.644335Z",
          "iopub.execute_input": "2025-07-15T06:22:04.644960Z",
          "iopub.status.idle": "2025-07-15T06:22:04.654527Z",
          "shell.execute_reply.started": "2025-07-15T06:22:04.644931Z",
          "shell.execute_reply": "2025-07-15T06:22:04.653883Z"
        },
        "colab": {
          "base_uri": "https://localhost:8080/"
        },
        "id": "065UYwyRtXI9",
        "outputId": "d072819b-007b-490b-b1c8-2ebbc03e4750"
      },
      "outputs": [
        {
          "output_type": "execute_result",
          "data": {
            "text/plain": [
              "tensor([0, 0, 0, 0, 0, 0, 0, 0, 0, 0])"
            ]
          },
          "metadata": {},
          "execution_count": 130
        }
      ],
      "execution_count": null
    },
    {
      "cell_type": "markdown",
      "source": [
        "### c) Basic operations"
      ],
      "metadata": {
        "id": "mpq7cgnRtXI9"
      }
    },
    {
      "cell_type": "code",
      "source": [
        "# Create a tensor of values and add a number to it\n",
        "tensor = torch.tensor([1, 2, 3])\n",
        "tensor + 10"
      ],
      "metadata": {
        "trusted": true,
        "execution": {
          "iopub.status.busy": "2025-07-15T06:22:04.655295Z",
          "iopub.execute_input": "2025-07-15T06:22:04.655583Z",
          "iopub.status.idle": "2025-07-15T06:22:04.667228Z",
          "shell.execute_reply.started": "2025-07-15T06:22:04.655556Z",
          "shell.execute_reply": "2025-07-15T06:22:04.666599Z"
        },
        "colab": {
          "base_uri": "https://localhost:8080/"
        },
        "id": "EgMFbGQEtXI9",
        "outputId": "4735051d-b357-45c4-aa85-e0b323a4c813"
      },
      "outputs": [
        {
          "output_type": "execute_result",
          "data": {
            "text/plain": [
              "tensor([11, 12, 13])"
            ]
          },
          "metadata": {},
          "execution_count": 131
        }
      ],
      "execution_count": null
    },
    {
      "cell_type": "code",
      "source": [
        "# Multiply it by 10\n",
        "tensor * 10"
      ],
      "metadata": {
        "trusted": true,
        "execution": {
          "iopub.status.busy": "2025-07-15T06:22:04.667895Z",
          "iopub.execute_input": "2025-07-15T06:22:04.668078Z",
          "iopub.status.idle": "2025-07-15T06:22:04.679543Z",
          "shell.execute_reply.started": "2025-07-15T06:22:04.668062Z",
          "shell.execute_reply": "2025-07-15T06:22:04.678798Z"
        },
        "colab": {
          "base_uri": "https://localhost:8080/"
        },
        "id": "Enr0qffttXI9",
        "outputId": "89e472ba-c8f3-4be4-de73-e812eae396e1"
      },
      "outputs": [
        {
          "output_type": "execute_result",
          "data": {
            "text/plain": [
              "tensor([10, 20, 30])"
            ]
          },
          "metadata": {},
          "execution_count": 132
        }
      ],
      "execution_count": null
    },
    {
      "cell_type": "code",
      "source": [
        "# /!\\ Be careful: Tensors don't change unless reassigned\n",
        "tensor"
      ],
      "metadata": {
        "trusted": true,
        "execution": {
          "iopub.status.busy": "2025-07-15T06:22:04.680501Z",
          "iopub.execute_input": "2025-07-15T06:22:04.680746Z",
          "iopub.status.idle": "2025-07-15T06:22:04.690753Z",
          "shell.execute_reply.started": "2025-07-15T06:22:04.680720Z",
          "shell.execute_reply": "2025-07-15T06:22:04.690075Z"
        },
        "colab": {
          "base_uri": "https://localhost:8080/"
        },
        "id": "c2OUS9tHtXI9",
        "outputId": "3741a499-cbf4-4af8-ff82-d02ae6e546d6"
      },
      "outputs": [
        {
          "output_type": "execute_result",
          "data": {
            "text/plain": [
              "tensor([1, 2, 3])"
            ]
          },
          "metadata": {},
          "execution_count": 133
        }
      ],
      "execution_count": null
    },
    {
      "cell_type": "code",
      "source": [
        "# Subtract and reassign\n",
        "tensor = tensor - 10\n",
        "tensor"
      ],
      "metadata": {
        "trusted": true,
        "execution": {
          "iopub.status.busy": "2025-07-15T06:22:04.691493Z",
          "iopub.execute_input": "2025-07-15T06:22:04.691709Z",
          "iopub.status.idle": "2025-07-15T06:22:04.702446Z",
          "shell.execute_reply.started": "2025-07-15T06:22:04.691691Z",
          "shell.execute_reply": "2025-07-15T06:22:04.701731Z"
        },
        "colab": {
          "base_uri": "https://localhost:8080/"
        },
        "id": "B2c-Adl_tXI9",
        "outputId": "47b386a4-19bd-4d66-f956-2e7e3182a21b"
      },
      "outputs": [
        {
          "output_type": "execute_result",
          "data": {
            "text/plain": [
              "tensor([-9, -8, -7])"
            ]
          },
          "metadata": {},
          "execution_count": 134
        }
      ],
      "execution_count": null
    },
    {
      "cell_type": "code",
      "source": [
        "# Add and reassign\n",
        "tensor = tensor + 10\n",
        "tensor"
      ],
      "metadata": {
        "trusted": true,
        "execution": {
          "iopub.status.busy": "2025-07-15T06:22:04.703428Z",
          "iopub.execute_input": "2025-07-15T06:22:04.704130Z",
          "iopub.status.idle": "2025-07-15T06:22:04.714617Z",
          "shell.execute_reply.started": "2025-07-15T06:22:04.704107Z",
          "shell.execute_reply": "2025-07-15T06:22:04.713970Z"
        },
        "colab": {
          "base_uri": "https://localhost:8080/"
        },
        "id": "yX55L5LntXI9",
        "outputId": "9901c9f1-f182-4d04-e2d4-03982362108e"
      },
      "outputs": [
        {
          "output_type": "execute_result",
          "data": {
            "text/plain": [
              "tensor([1, 2, 3])"
            ]
          },
          "metadata": {},
          "execution_count": 135
        }
      ],
      "execution_count": null
    },
    {
      "cell_type": "code",
      "source": [
        "# Can also use torch functions\n",
        "print(tensor)\n",
        "print(torch.multiply(tensor, 10))\n",
        "print(torch.mul(tensor, 10)) # torch.mul is a shortcut for multiply\n",
        "print(torch.add(tensor, 10))\n",
        "\n",
        "# However, it's more common to use the operator symbols like * instead of torch.mul()\n",
        "print(tensor * tensor)"
      ],
      "metadata": {
        "trusted": true,
        "execution": {
          "iopub.status.busy": "2025-07-15T06:22:04.715349Z",
          "iopub.execute_input": "2025-07-15T06:22:04.715551Z",
          "iopub.status.idle": "2025-07-15T06:22:04.726639Z",
          "shell.execute_reply.started": "2025-07-15T06:22:04.715534Z",
          "shell.execute_reply": "2025-07-15T06:22:04.725698Z"
        },
        "colab": {
          "base_uri": "https://localhost:8080/"
        },
        "id": "gtd95XL9tXI9",
        "outputId": "816ccb74-807e-481e-f23e-b676294f4dc8"
      },
      "outputs": [
        {
          "output_type": "stream",
          "name": "stdout",
          "text": [
            "tensor([1, 2, 3])\n",
            "tensor([10, 20, 30])\n",
            "tensor([10, 20, 30])\n",
            "tensor([11, 12, 13])\n",
            "tensor([1, 4, 9])\n"
          ]
        }
      ],
      "execution_count": null
    },
    {
      "cell_type": "markdown",
      "source": [
        "PyTorch implements matrix multiplication functionality in the torch.matmul() method.\n",
        "\n",
        "\n",
        "Or you can use the operator symbols @, but the in-built torch.matmul() method is faster"
      ],
      "metadata": {
        "id": "cNdsG82vtXI-"
      }
    },
    {
      "cell_type": "code",
      "source": [
        "print(torch.matmul(tensor, tensor))\n",
        "print(tensor @ tensor)"
      ],
      "metadata": {
        "trusted": true,
        "execution": {
          "iopub.status.busy": "2025-07-15T06:22:04.727513Z",
          "iopub.execute_input": "2025-07-15T06:22:04.727763Z",
          "iopub.status.idle": "2025-07-15T06:22:04.737265Z",
          "shell.execute_reply.started": "2025-07-15T06:22:04.727737Z",
          "shell.execute_reply": "2025-07-15T06:22:04.736637Z"
        },
        "colab": {
          "base_uri": "https://localhost:8080/"
        },
        "id": "w3fNZW8btXI-",
        "outputId": "53cb1eae-3ae4-47b1-a974-255220bcd1c4"
      },
      "outputs": [
        {
          "output_type": "stream",
          "name": "stdout",
          "text": [
            "tensor(14)\n",
            "tensor(14)\n"
          ]
        }
      ],
      "execution_count": null
    },
    {
      "cell_type": "markdown",
      "source": [
        "### d) Indexing (selecting data from tensors)"
      ],
      "metadata": {
        "id": "Rwfevp4utXI-"
      }
    },
    {
      "cell_type": "code",
      "source": [
        "x = torch.arange(1, 10).reshape(1, 3, 3)\n",
        "x, x.shape"
      ],
      "metadata": {
        "trusted": true,
        "execution": {
          "iopub.status.busy": "2025-07-15T06:22:04.738087Z",
          "iopub.execute_input": "2025-07-15T06:22:04.738744Z",
          "iopub.status.idle": "2025-07-15T06:22:04.751167Z",
          "shell.execute_reply.started": "2025-07-15T06:22:04.738716Z",
          "shell.execute_reply": "2025-07-15T06:22:04.750517Z"
        },
        "colab": {
          "base_uri": "https://localhost:8080/"
        },
        "id": "gGjcWweBtXI-",
        "outputId": "ca1e9879-d051-49ad-8b90-5ad7b56d4dfc"
      },
      "outputs": [
        {
          "output_type": "execute_result",
          "data": {
            "text/plain": [
              "(tensor([[[1, 2, 3],\n",
              "          [4, 5, 6],\n",
              "          [7, 8, 9]]]),\n",
              " torch.Size([1, 3, 3]))"
            ]
          },
          "metadata": {},
          "execution_count": 138
        }
      ],
      "execution_count": null
    },
    {
      "cell_type": "code",
      "source": [
        "# Let's index bracket by bracket\n",
        "print(f\"First square bracket:\\n{x[0]}\")\n",
        "print(f\"Second square bracket: {x[0][0]}\")\n",
        "print(f\"Third square bracket: {x[0][0][0]}\")"
      ],
      "metadata": {
        "trusted": true,
        "execution": {
          "iopub.status.busy": "2025-07-15T06:22:04.751894Z",
          "iopub.execute_input": "2025-07-15T06:22:04.752160Z",
          "iopub.status.idle": "2025-07-15T06:22:04.762271Z",
          "shell.execute_reply.started": "2025-07-15T06:22:04.752134Z",
          "shell.execute_reply": "2025-07-15T06:22:04.761529Z"
        },
        "colab": {
          "base_uri": "https://localhost:8080/"
        },
        "id": "iHXOMMUltXI-",
        "outputId": "81a5e50c-abef-4e8e-826f-6f430d7d6566"
      },
      "outputs": [
        {
          "output_type": "stream",
          "name": "stdout",
          "text": [
            "First square bracket:\n",
            "tensor([[1, 2, 3],\n",
            "        [4, 5, 6],\n",
            "        [7, 8, 9]])\n",
            "Second square bracket: tensor([1, 2, 3])\n",
            "Third square bracket: 1\n"
          ]
        }
      ],
      "execution_count": null
    },
    {
      "cell_type": "code",
      "source": [
        "# You can also use : to specify \"all values in this dimension\" and then use a comma (,) to add another dimension.\n",
        "\n",
        "# Get all values of 0th dimension and the 0 index of 1st dimension\n",
        "print(x[:, 0])\n",
        "# Get all values of 0th & 1st dimensions but only index 1 of 2nd dimension\n",
        "print(x[:, :, 1])\n",
        "# Get all values of the 0 dimension but only the 1 index value of the 1st and 2nd dimension\n",
        "print(x[:, 1, 1])\n",
        "# Get index 0 of 0th and 1st dimension and all values of 2nd dimension\n",
        "print(x[0, 0, :]) # same as x[0][0]"
      ],
      "metadata": {
        "trusted": true,
        "execution": {
          "iopub.status.busy": "2025-07-15T06:22:04.763182Z",
          "iopub.execute_input": "2025-07-15T06:22:04.763450Z",
          "iopub.status.idle": "2025-07-15T06:22:04.776497Z",
          "shell.execute_reply.started": "2025-07-15T06:22:04.763424Z",
          "shell.execute_reply": "2025-07-15T06:22:04.775693Z"
        },
        "colab": {
          "base_uri": "https://localhost:8080/"
        },
        "id": "MTATw3BEtXI-",
        "outputId": "d798cbb2-3568-47e1-d15e-d9e04bb9a30b"
      },
      "outputs": [
        {
          "output_type": "stream",
          "name": "stdout",
          "text": [
            "tensor([[1, 2, 3]])\n",
            "tensor([[2, 5, 8]])\n",
            "tensor([5])\n",
            "tensor([1, 2, 3])\n"
          ]
        }
      ],
      "execution_count": null
    },
    {
      "cell_type": "markdown",
      "source": [
        "### e) PyTorch tensors & NumPy\n",
        "\n",
        "Since NumPy is a popular Python numerical computing library, PyTorch has functionality to interact with it nicely.\n",
        "\n",
        "The two main methods you'll want to use for NumPy to PyTorch (and back again) are:\n",
        "\n",
        "*   torch.from_numpy(ndarray) - NumPy array -> PyTorch tensor.\n",
        "*   torch.Tensor.numpy() - PyTorch tensor -> NumPy array.# NumPy array to tensor\n",
        "import torch\n",
        "import numpy as np\n",
        "array = np.arange(1.0, 8.0)\n",
        "tensor = torch.from_numpy(array)\n",
        "array, tensor"
      ],
      "metadata": {
        "id": "OuhLQ5uetXJL"
      }
    },
    {
      "cell_type": "code",
      "source": [
        "# NumPy array to tensor\n",
        "import torch\n",
        "import numpy as np\n",
        "array = np.arange(1.0, 8.0)\n",
        "tensor = torch.from_numpy(array)\n",
        "array, tensor"
      ],
      "metadata": {
        "trusted": true,
        "execution": {
          "iopub.status.busy": "2025-07-15T06:22:04.777377Z",
          "iopub.execute_input": "2025-07-15T06:22:04.777683Z",
          "iopub.status.idle": "2025-07-15T06:22:04.789828Z",
          "shell.execute_reply.started": "2025-07-15T06:22:04.777656Z",
          "shell.execute_reply": "2025-07-15T06:22:04.789070Z"
        },
        "colab": {
          "base_uri": "https://localhost:8080/"
        },
        "id": "ZhbIaE0etXJM",
        "outputId": "d8541e06-60c8-4f12-cbb2-ba12ef71d75a"
      },
      "outputs": [
        {
          "output_type": "execute_result",
          "data": {
            "text/plain": [
              "(array([1., 2., 3., 4., 5., 6., 7.]),\n",
              " tensor([1., 2., 3., 4., 5., 6., 7.], dtype=torch.float64))"
            ]
          },
          "metadata": {},
          "execution_count": 141
        }
      ],
      "execution_count": null
    },
    {
      "cell_type": "code",
      "source": [
        "# Tensor to NumPy array\n",
        "tensor = torch.ones(7) # create a tensor of ones with dtype=float32\n",
        "numpy_tensor = tensor.numpy() # will be dtype=float32 unless changed\n",
        "tensor, numpy_tensor"
      ],
      "metadata": {
        "trusted": true,
        "execution": {
          "iopub.status.busy": "2025-07-15T06:22:04.790649Z",
          "iopub.execute_input": "2025-07-15T06:22:04.790881Z",
          "iopub.status.idle": "2025-07-15T06:22:04.801244Z",
          "shell.execute_reply.started": "2025-07-15T06:22:04.790862Z",
          "shell.execute_reply": "2025-07-15T06:22:04.800594Z"
        },
        "colab": {
          "base_uri": "https://localhost:8080/"
        },
        "id": "DHRLi_WYtXJM",
        "outputId": "2d3174ba-c393-4426-a3ad-e246617c0fd0"
      },
      "outputs": [
        {
          "output_type": "execute_result",
          "data": {
            "text/plain": [
              "(tensor([1., 1., 1., 1., 1., 1., 1.]),\n",
              " array([1., 1., 1., 1., 1., 1., 1.], dtype=float32))"
            ]
          },
          "metadata": {},
          "execution_count": 142
        }
      ],
      "execution_count": null
    },
    {
      "cell_type": "markdown",
      "source": [
        "## C] Running tensors on GPUs\n",
        "By default these operations are often done on a CPU, if you have a GPU, it will enable you to perform calculations faster.\n",
        "\n",
        "To do this, the variables must be stored on the GPU."
      ],
      "metadata": {
        "id": "IAwtR0kdtXJM"
      }
    },
    {
      "cell_type": "code",
      "source": [
        "# Check if a variables are on GPU or CPU\n",
        "tensor.device"
      ],
      "metadata": {
        "trusted": true,
        "execution": {
          "iopub.status.busy": "2025-07-15T06:22:04.801913Z",
          "iopub.execute_input": "2025-07-15T06:22:04.802149Z",
          "iopub.status.idle": "2025-07-15T06:22:04.812253Z",
          "shell.execute_reply.started": "2025-07-15T06:22:04.802130Z",
          "shell.execute_reply": "2025-07-15T06:22:04.811547Z"
        },
        "colab": {
          "base_uri": "https://localhost:8080/"
        },
        "id": "dJDXp1ZTtXJM",
        "outputId": "d6255a2b-d4e1-4d99-be63-329b8a57666e"
      },
      "outputs": [
        {
          "output_type": "execute_result",
          "data": {
            "text/plain": [
              "device(type='cpu')"
            ]
          },
          "metadata": {},
          "execution_count": 143
        }
      ],
      "execution_count": null
    },
    {
      "cell_type": "code",
      "source": [
        "# Check for GPU\n",
        "print(\"PyTorch version:\", torch.__version__)\n",
        "print(\"CUDA available:\", torch.cuda.is_available())"
      ],
      "metadata": {
        "trusted": true,
        "execution": {
          "iopub.status.busy": "2025-07-15T06:22:04.813042Z",
          "iopub.execute_input": "2025-07-15T06:22:04.813252Z",
          "iopub.status.idle": "2025-07-15T06:22:04.826128Z",
          "shell.execute_reply.started": "2025-07-15T06:22:04.813234Z",
          "shell.execute_reply": "2025-07-15T06:22:04.825267Z"
        },
        "colab": {
          "base_uri": "https://localhost:8080/"
        },
        "id": "WCeKvLyctXJM",
        "outputId": "1742eeba-a15e-42bd-8f5f-9aca4a66c524"
      },
      "outputs": [
        {
          "output_type": "stream",
          "name": "stdout",
          "text": [
            "PyTorch version: 2.6.0+cu124\n",
            "CUDA available: False\n"
          ]
        }
      ],
      "execution_count": null
    },
    {
      "cell_type": "markdown",
      "source": [
        "In order to activate CUDA, go to \"Settings\" and in \"accelerator\" select \"GPU\""
      ],
      "metadata": {
        "id": "DEKu2eBOtXJM"
      }
    },
    {
      "cell_type": "code",
      "source": [
        "# Set device type\n",
        "device = \"cuda\" if torch.cuda.is_available() else \"cpu\"\n",
        "device"
      ],
      "metadata": {
        "trusted": true,
        "execution": {
          "iopub.status.busy": "2025-07-15T06:22:04.826866Z",
          "iopub.execute_input": "2025-07-15T06:22:04.827501Z",
          "iopub.status.idle": "2025-07-15T06:22:04.839769Z",
          "shell.execute_reply.started": "2025-07-15T06:22:04.827472Z",
          "shell.execute_reply": "2025-07-15T06:22:04.838992Z"
        },
        "colab": {
          "base_uri": "https://localhost:8080/",
          "height": 35
        },
        "id": "trs463WGtXJM",
        "outputId": "5aebf1a4-892d-4109-cd0e-ca61e50eb584"
      },
      "outputs": [
        {
          "output_type": "execute_result",
          "data": {
            "text/plain": [
              "'cpu'"
            ],
            "application/vnd.google.colaboratory.intrinsic+json": {
              "type": "string"
            }
          },
          "metadata": {},
          "execution_count": 145
        }
      ],
      "execution_count": null
    },
    {
      "cell_type": "code",
      "source": [
        "# Move tensor to GPU (if available)\n",
        "tensor_on_gpu = tensor.to(device)\n",
        "tensor_on_gpu, tensor_on_gpu.device"
      ],
      "metadata": {
        "trusted": true,
        "execution": {
          "iopub.status.busy": "2025-07-15T06:22:04.840581Z",
          "iopub.execute_input": "2025-07-15T06:22:04.840806Z",
          "iopub.status.idle": "2025-07-15T06:22:04.852516Z",
          "shell.execute_reply.started": "2025-07-15T06:22:04.840786Z",
          "shell.execute_reply": "2025-07-15T06:22:04.851824Z"
        },
        "colab": {
          "base_uri": "https://localhost:8080/"
        },
        "id": "Ay_WZ8nJtXJN",
        "outputId": "129452a4-28ad-4c26-f7dd-b84135ba35ae"
      },
      "outputs": [
        {
          "output_type": "execute_result",
          "data": {
            "text/plain": [
              "(tensor([1., 1., 1., 1., 1., 1., 1.]), device(type='cpu'))"
            ]
          },
          "metadata": {},
          "execution_count": 146
        }
      ],
      "execution_count": null
    },
    {
      "cell_type": "markdown",
      "source": [
        "### Moving tensors back to the CPU\n",
        "For example, you'll want to do this if you want to interact with your tensors with NumPy (NumPy does not leverage the GPU)."
      ],
      "metadata": {
        "id": "xy6te7N-tXJN"
      }
    },
    {
      "cell_type": "code",
      "source": [
        "# If tensor is on GPU, can't transform it to NumPy (this will error)\n",
        "#tensor_on_gpu.numpy()"
      ],
      "metadata": {
        "trusted": true,
        "execution": {
          "iopub.status.busy": "2025-07-15T06:22:04.853261Z",
          "iopub.execute_input": "2025-07-15T06:22:04.853542Z",
          "iopub.status.idle": "2025-07-15T06:22:04.861168Z",
          "shell.execute_reply.started": "2025-07-15T06:22:04.853514Z",
          "shell.execute_reply": "2025-07-15T06:22:04.860480Z"
        },
        "id": "8harBA89tXJN"
      },
      "outputs": [],
      "execution_count": null
    },
    {
      "cell_type": "markdown",
      "source": [
        "Instead, to get a tensor back to CPU and usable with NumPy we can use Tensor.cpu().\n",
        "\n",
        "This copies the tensor to CPU memory so it's usable with CPUs."
      ],
      "metadata": {
        "id": "MLK5R4KPtXJN"
      }
    },
    {
      "cell_type": "code",
      "source": [
        "# Instead, copy the tensor back to cpu\n",
        "tensor_back_on_cpu = tensor_on_gpu.cpu().numpy()\n",
        "tensor_back_on_cpu"
      ],
      "metadata": {
        "trusted": true,
        "execution": {
          "iopub.status.busy": "2025-07-15T06:22:04.861964Z",
          "iopub.execute_input": "2025-07-15T06:22:04.862214Z",
          "iopub.status.idle": "2025-07-15T06:22:04.873844Z",
          "shell.execute_reply.started": "2025-07-15T06:22:04.862188Z",
          "shell.execute_reply": "2025-07-15T06:22:04.873187Z"
        },
        "colab": {
          "base_uri": "https://localhost:8080/"
        },
        "id": "OLSRiVrRtXJN",
        "outputId": "1ad6c828-058b-4d83-bd37-5b9032de86ce"
      },
      "outputs": [
        {
          "output_type": "execute_result",
          "data": {
            "text/plain": [
              "array([1., 1., 1., 1., 1., 1., 1.], dtype=float32)"
            ]
          },
          "metadata": {},
          "execution_count": 148
        }
      ],
      "execution_count": null
    },
    {
      "cell_type": "markdown",
      "source": [
        "# Part 2: Basics of neural networks\n",
        "\n",
        "A neuron is a function that satisfies this equation:\n",
        "\n",
        "y = weight * X + bias\n",
        "\n",
        "* x corresponds to input data\n",
        "* y to prediction\n",
        "* weight and bias are the parameters to be learned by the model"
      ],
      "metadata": {
        "id": "mFcqxMeHtXJN"
      }
    },
    {
      "cell_type": "markdown",
      "source": [
        "## A] Linear regression by hand"
      ],
      "metadata": {
        "id": "5D2imPjttXJN"
      }
    },
    {
      "cell_type": "code",
      "source": [
        "import torch\n",
        "# Create *known* parameters\n",
        "weight = 0.7\n",
        "bias = 0.3\n",
        "\n",
        "# Create data\n",
        "start = 0\n",
        "end = 1\n",
        "step = 0.02\n",
        "X = torch.arange(start, end, step).unsqueeze(dim=1)\n",
        "y = weight * X + bias\n",
        "\n",
        "X[:10], y[:10]"
      ],
      "metadata": {
        "trusted": true,
        "execution": {
          "iopub.status.busy": "2025-07-15T06:22:04.874612Z",
          "iopub.execute_input": "2025-07-15T06:22:04.874922Z",
          "iopub.status.idle": "2025-07-15T06:22:04.887527Z",
          "shell.execute_reply.started": "2025-07-15T06:22:04.874901Z",
          "shell.execute_reply": "2025-07-15T06:22:04.886803Z"
        },
        "colab": {
          "base_uri": "https://localhost:8080/"
        },
        "id": "FHzcFnCZtXJN",
        "outputId": "dbd6b244-1fda-4fbb-e2b7-a0ca7d6b832e"
      },
      "outputs": [
        {
          "output_type": "execute_result",
          "data": {
            "text/plain": [
              "(tensor([[0.0000],\n",
              "         [0.0200],\n",
              "         [0.0400],\n",
              "         [0.0600],\n",
              "         [0.0800],\n",
              "         [0.1000],\n",
              "         [0.1200],\n",
              "         [0.1400],\n",
              "         [0.1600],\n",
              "         [0.1800]]),\n",
              " tensor([[0.3000],\n",
              "         [0.3140],\n",
              "         [0.3280],\n",
              "         [0.3420],\n",
              "         [0.3560],\n",
              "         [0.3700],\n",
              "         [0.3840],\n",
              "         [0.3980],\n",
              "         [0.4120],\n",
              "         [0.4260]]))"
            ]
          },
          "metadata": {},
          "execution_count": 149
        }
      ],
      "execution_count": null
    },
    {
      "cell_type": "markdown",
      "source": [
        "Python is a modular language, meaning that everything is created in module form (i.e. a block of code that can be reused). To define a module that can be recalled later, we use the Class format.\n",
        "\n",
        "Python packages (including Pytorch) are already created as modules (Class) and can be reused by modifying them to suit our needs.\n",
        "\n",
        "Let's take the example of linear regression."
      ],
      "metadata": {
        "id": "ZVHxtebOtXJN"
      }
    },
    {
      "cell_type": "code",
      "source": [
        "from torch import nn # nn contains all of PyTorch's building blocks for neural networks\n",
        "\n",
        "# Create a Linear Regression model class\n",
        "class LinearRegressionModel(nn.Module): # <- almost everything in PyTorch is a nn.Module (think of this as neural network lego blocks)\n",
        "\n",
        "    # Initialise model parameters to be used in various computations\n",
        "    def __init__(self):\n",
        "        super().__init__() # Means that we use what is already defined in nn.module\n",
        "\n",
        "        self.weights = nn.Parameter(torch.randn(1, # start with random weights (this will get adjusted as the model learns)\n",
        "                                                dtype=torch.float),\n",
        "                                   requires_grad=True) # means PyTorch willtrack the gradients of this specific parameter for use with torch.autograd and gradient descent\n",
        "\n",
        "        self.bias = nn.Parameter(torch.randn(1, # start with random bias (this will get adjusted as the model learns)\n",
        "                                            dtype=torch.float),\n",
        "                                requires_grad=True)\n",
        "\n",
        "\n",
        "    # Forward defines the computation in the model\n",
        "    def forward(self, x: torch.Tensor) -> torch.Tensor: # <- \"x\" is the input data (e.g. training/testing features)\n",
        "        return self.weights * x + self.bias # <- this is the linear regression formula (y = m*x + b)"
      ],
      "metadata": {
        "trusted": true,
        "execution": {
          "iopub.status.busy": "2025-07-15T06:22:04.888288Z",
          "iopub.execute_input": "2025-07-15T06:22:04.888582Z",
          "iopub.status.idle": "2025-07-15T06:22:04.896206Z",
          "shell.execute_reply.started": "2025-07-15T06:22:04.888559Z",
          "shell.execute_reply": "2025-07-15T06:22:04.895448Z"
        },
        "id": "iLaifAf4tXJN"
      },
      "outputs": [],
      "execution_count": null
    },
    {
      "cell_type": "code",
      "source": [
        "# Set manual seed since nn.Parameter are randomly initialized\n",
        "torch.manual_seed(42)\n",
        "\n",
        "# Create an instance of the model (this is a subclass of nn.Module that contains nn.Parameter(s))\n",
        "model_0 = LinearRegressionModel()\n",
        "\n",
        "# Check the nn.Parameter(s) within the nn.Module subclass we created\n",
        "list(model_0.parameters())"
      ],
      "metadata": {
        "trusted": true,
        "execution": {
          "iopub.status.busy": "2025-07-15T06:22:04.897004Z",
          "iopub.execute_input": "2025-07-15T06:22:04.897273Z",
          "iopub.status.idle": "2025-07-15T06:22:04.913931Z",
          "shell.execute_reply.started": "2025-07-15T06:22:04.897247Z",
          "shell.execute_reply": "2025-07-15T06:22:04.913243Z"
        },
        "colab": {
          "base_uri": "https://localhost:8080/"
        },
        "id": "wcwlt4EptXJO",
        "outputId": "894c7643-0da0-435e-9b34-25927710df65"
      },
      "outputs": [
        {
          "output_type": "execute_result",
          "data": {
            "text/plain": [
              "[Parameter containing:\n",
              " tensor([0.3367], requires_grad=True),\n",
              " Parameter containing:\n",
              " tensor([0.1288], requires_grad=True)]"
            ]
          },
          "metadata": {},
          "execution_count": 151
        }
      ],
      "execution_count": null
    },
    {
      "cell_type": "code",
      "source": [
        "# We can also get the state (what the model contains) of the model\n",
        "# List named parameters\n",
        "model_0.state_dict()"
      ],
      "metadata": {
        "trusted": true,
        "execution": {
          "iopub.status.busy": "2025-07-15T06:22:04.914637Z",
          "iopub.execute_input": "2025-07-15T06:22:04.914919Z",
          "iopub.status.idle": "2025-07-15T06:22:04.924395Z",
          "shell.execute_reply.started": "2025-07-15T06:22:04.914891Z",
          "shell.execute_reply": "2025-07-15T06:22:04.923669Z"
        },
        "colab": {
          "base_uri": "https://localhost:8080/"
        },
        "id": "mt8mtNB8tXJO",
        "outputId": "ef86ed2e-95d0-4dd2-f1f2-8b17f3c64681"
      },
      "outputs": [
        {
          "output_type": "execute_result",
          "data": {
            "text/plain": [
              "OrderedDict([('weights', tensor([0.3367])), ('bias', tensor([0.1288]))])"
            ]
          },
          "metadata": {},
          "execution_count": 152
        }
      ],
      "execution_count": null
    },
    {
      "cell_type": "markdown",
      "source": [
        "## B] Making predictions using torch.inference_mode()\n",
        "\n",
        "When we pass data to our model, it'll go through the model's `forward()` method and produce a result using the computation we've defined in this method.\n",
        "\n",
        "`torch.inference_mode()` turns off things (like gradient tracking, which is necessary for training but not for inference) to make forward-passes (data going through the `forward()` method) faster.\n",
        "\n",
        "First, let's divide the data into the train and test categories."
      ],
      "metadata": {
        "id": "zS49gGgPtXJO"
      }
    },
    {
      "cell_type": "code",
      "source": [
        "# Create train/test split\n",
        "train_split = int(0.8 * len(X)) # 80% of data used for training set, 20% for testing\n",
        "X_train, y_train = X[:train_split], y[:train_split]\n",
        "X_test, y_test = X[train_split:], y[train_split:]\n"
      ],
      "metadata": {
        "trusted": true,
        "execution": {
          "iopub.status.busy": "2025-07-15T06:22:04.925079Z",
          "iopub.execute_input": "2025-07-15T06:22:04.925264Z",
          "iopub.status.idle": "2025-07-15T06:22:04.935589Z",
          "shell.execute_reply.started": "2025-07-15T06:22:04.925247Z",
          "shell.execute_reply": "2025-07-15T06:22:04.934841Z"
        },
        "id": "Hs87kNWetXJO"
      },
      "outputs": [],
      "execution_count": null
    },
    {
      "cell_type": "code",
      "source": [
        "# Make predictions with model\n",
        "with torch.inference_mode():\n",
        "    y_preds = model_0(X_test)\n",
        "\n",
        "# Check the predictions\n",
        "print(f\"Number of testing samples: {len(X_test)}\")\n",
        "print(f\"Number of predictions made: {len(y_preds)}\")\n",
        "print(f\"Predicted values:\\n{y_preds}\")"
      ],
      "metadata": {
        "trusted": true,
        "execution": {
          "iopub.status.busy": "2025-07-15T06:22:04.936291Z",
          "iopub.execute_input": "2025-07-15T06:22:04.936600Z",
          "iopub.status.idle": "2025-07-15T06:22:04.949552Z",
          "shell.execute_reply.started": "2025-07-15T06:22:04.936572Z",
          "shell.execute_reply": "2025-07-15T06:22:04.948702Z"
        },
        "colab": {
          "base_uri": "https://localhost:8080/"
        },
        "id": "G33iMN5TtXJO",
        "outputId": "df871997-a943-4d41-e904-907f45a96e17"
      },
      "outputs": [
        {
          "output_type": "stream",
          "name": "stdout",
          "text": [
            "Number of testing samples: 10\n",
            "Number of predictions made: 10\n",
            "Predicted values:\n",
            "tensor([[0.3982],\n",
            "        [0.4049],\n",
            "        [0.4116],\n",
            "        [0.4184],\n",
            "        [0.4251],\n",
            "        [0.4318],\n",
            "        [0.4386],\n",
            "        [0.4453],\n",
            "        [0.4520],\n",
            "        [0.4588]])\n"
          ]
        }
      ],
      "execution_count": null
    },
    {
      "cell_type": "markdown",
      "source": [
        "PyTorch contains a function that already implements linear regression, so you can redefine our model like this:"
      ],
      "metadata": {
        "id": "sU5GpRFgtXJO"
      }
    },
    {
      "cell_type": "code",
      "source": [
        "class LinearRegressionModel(nn.Module):\n",
        "    def __init__(self):\n",
        "        super(LinearRegressionModel, self).__init__()\n",
        "        self.linear = nn.Linear(1, 1)\n",
        "\n",
        "    def forward(self, x):\n",
        "        return self.linear(x)\n",
        "\n",
        "model_0 = LinearRegressionModel()\n",
        "print(model_0)"
      ],
      "metadata": {
        "trusted": true,
        "execution": {
          "iopub.status.busy": "2025-07-15T06:22:04.950302Z",
          "iopub.execute_input": "2025-07-15T06:22:04.950528Z",
          "iopub.status.idle": "2025-07-15T06:22:04.964611Z",
          "shell.execute_reply.started": "2025-07-15T06:22:04.950507Z",
          "shell.execute_reply": "2025-07-15T06:22:04.963918Z"
        },
        "colab": {
          "base_uri": "https://localhost:8080/"
        },
        "id": "9tvEat-KtXJO",
        "outputId": "db53e3f5-67bf-41cf-c6ed-1b811cb6dac9"
      },
      "outputs": [
        {
          "output_type": "stream",
          "name": "stdout",
          "text": [
            "LinearRegressionModel(\n",
            "  (linear): Linear(in_features=1, out_features=1, bias=True)\n",
            ")\n"
          ]
        }
      ],
      "execution_count": null
    },
    {
      "cell_type": "markdown",
      "source": [
        "## C] Train model\n",
        "To improve results, you need to train the model, i.e. update the parameters. To do this, we'll need to add a few more things to our recipe.\n",
        "\n",
        "And that's a loss function as well as an optimizer\n",
        "\n",
        "* Measures how wrong your model's predictions (e.g. y_preds) are compared to the truth labels (e.g. y_test). Lower the better.\n",
        "* Tells your model how to update its internal parameters to best lower the loss."
      ],
      "metadata": {
        "id": "Tj4aMlYbtXJO"
      }
    },
    {
      "cell_type": "code",
      "source": [
        "# Create the loss function\n",
        "loss_fn = nn.L1Loss() # MAE loss is same as L1Loss\n",
        "\n",
        "# Create the optimizer\n",
        "optimizer = torch.optim.SGD(params=model_0.parameters(), lr=0.01)\n",
        "# params = parameters of target model to optimize\n",
        "# lr = learning rate (how much the optimizer should change parameters at each step, higher=more (less stable), lower=less (might take a long time))"
      ],
      "metadata": {
        "trusted": true,
        "execution": {
          "iopub.status.busy": "2025-07-15T06:22:04.965498Z",
          "iopub.execute_input": "2025-07-15T06:22:04.965759Z",
          "iopub.status.idle": "2025-07-15T06:22:04.977413Z",
          "shell.execute_reply.started": "2025-07-15T06:22:04.965738Z",
          "shell.execute_reply": "2025-07-15T06:22:04.976651Z"
        },
        "id": "PnzV7RkutXJP"
      },
      "outputs": [],
      "execution_count": null
    },
    {
      "cell_type": "markdown",
      "source": [
        "For training we need to implement the backpropagation, here an example on one simple tensor"
      ],
      "metadata": {
        "id": "0qu_myhttXJP"
      }
    },
    {
      "cell_type": "code",
      "source": [
        "# Autograd example\n",
        "x = torch.tensor(2.0, requires_grad=True)\n",
        "y = x**2 + 3 * x + 4\n",
        "\n",
        "# Compute gradients i.e. backpropagation\n",
        "y.backward()\n",
        "\n",
        "print(\"dy/dx:\", x.grad)  # Should be 2x + 3 => 2*2 + 3 = 7"
      ],
      "metadata": {
        "trusted": true,
        "execution": {
          "iopub.status.busy": "2025-07-15T06:22:04.978226Z",
          "iopub.execute_input": "2025-07-15T06:22:04.978520Z",
          "iopub.status.idle": "2025-07-15T06:22:04.990224Z",
          "shell.execute_reply.started": "2025-07-15T06:22:04.978493Z",
          "shell.execute_reply": "2025-07-15T06:22:04.989562Z"
        },
        "colab": {
          "base_uri": "https://localhost:8080/"
        },
        "id": "cEoaN22_tXJP",
        "outputId": "e2d10c7b-9c2e-4802-8c3b-33397a5912d7"
      },
      "outputs": [
        {
          "output_type": "stream",
          "name": "stdout",
          "text": [
            "dy/dx: tensor(7.)\n"
          ]
        }
      ],
      "execution_count": null
    },
    {
      "cell_type": "markdown",
      "source": [
        "Now it's time to creating 2 optimization loop :\n",
        "\n",
        "* The training loop involves the model going through the training data and learning the relationships between the features and labels.\n",
        "* The testing loop involves going through the testing data and evaluating how good the patterns are that the model learned on the training data (the model never sees the testing data during training)."
      ],
      "metadata": {
        "id": "z09WzwzltXJP"
      }
    },
    {
      "cell_type": "code",
      "source": [
        "# Set the number of epochs (how many times the model will pass over the training data)\n",
        "epochs = 100\n",
        "\n",
        "# Create empty loss lists to track values\n",
        "train_loss_values = []\n",
        "test_loss_values = []\n",
        "epoch_count = []\n",
        "\n",
        "for epoch in range(epochs):\n",
        "    ### Training\n",
        "\n",
        "    # Put model in training mode (this is the default state of a model)\n",
        "    model_0.train()\n",
        "\n",
        "    # 1. Forward pass on train data using the forward() method inside\n",
        "    y_pred = model_0(X_train)\n",
        "    # print(y_pred)\n",
        "\n",
        "    # 2. Calculate the loss (how different are our models predictions to the ground truth)\n",
        "    loss = loss_fn(y_pred, y_train)\n",
        "\n",
        "    # 3. Zero grad of the optimizer\n",
        "    optimizer.zero_grad()\n",
        "\n",
        "    # 4. Loss backwards\n",
        "    loss.backward()\n",
        "\n",
        "    # 5. Progress the optimizer\n",
        "    optimizer.step()\n",
        "\n",
        "    ### Testing\n",
        "\n",
        "    # Put the model in evaluation mode\n",
        "    model_0.eval()\n",
        "\n",
        "    with torch.inference_mode():\n",
        "      # 1. Forward pass on test data\n",
        "      test_pred = model_0(X_test)\n",
        "\n",
        "      # 2. Caculate loss on test data\n",
        "      test_loss = loss_fn(test_pred, y_test.type(torch.float)) # predictions come in torch.float datatype, so comparisons need to be done with tensors of the same type\n",
        "\n",
        "      # Print out what's happening\n",
        "      if epoch % 10 == 0:\n",
        "            epoch_count.append(epoch)\n",
        "            train_loss_values.append(loss.detach().numpy())\n",
        "            test_loss_values.append(test_loss.detach().numpy())\n",
        "            print(f\"Epoch: {epoch} | MAE Train Loss: {loss} | MAE Test Loss: {test_loss} \")"
      ],
      "metadata": {
        "trusted": true,
        "execution": {
          "iopub.status.busy": "2025-07-15T06:22:04.991067Z",
          "iopub.execute_input": "2025-07-15T06:22:04.991813Z",
          "iopub.status.idle": "2025-07-15T06:22:05.061348Z",
          "shell.execute_reply.started": "2025-07-15T06:22:04.991774Z",
          "shell.execute_reply": "2025-07-15T06:22:05.060563Z"
        },
        "colab": {
          "base_uri": "https://localhost:8080/"
        },
        "id": "nK8zA0CTtXJP",
        "outputId": "9a5f3f71-b053-4452-f7fd-0b7306c79f34"
      },
      "outputs": [
        {
          "output_type": "stream",
          "name": "stdout",
          "text": [
            "Epoch: 0 | MAE Train Loss: 0.4566597044467926 | MAE Test Loss: 0.902740478515625 \n",
            "Epoch: 10 | MAE Train Loss: 0.3415392339229584 | MAE Test Loss: 0.7685304880142212 \n",
            "Epoch: 20 | MAE Train Loss: 0.2548103630542755 | MAE Test Loss: 0.6518100500106812 \n",
            "Epoch: 30 | MAE Train Loss: 0.20335504412651062 | MAE Test Loss: 0.5596543550491333 \n",
            "Epoch: 40 | MAE Train Loss: 0.17333532869815826 | MAE Test Loss: 0.48786434531211853 \n",
            "Epoch: 50 | MAE Train Loss: 0.15608887374401093 | MAE Test Loss: 0.4337606430053711 \n",
            "Epoch: 60 | MAE Train Loss: 0.14575017988681793 | MAE Test Loss: 0.3929426670074463 \n",
            "Epoch: 70 | MAE Train Loss: 0.13897857069969177 | MAE Test Loss: 0.3625188171863556 \n",
            "Epoch: 80 | MAE Train Loss: 0.13399270176887512 | MAE Test Loss: 0.33869674801826477 \n",
            "Epoch: 90 | MAE Train Loss: 0.12999269366264343 | MAE Test Loss: 0.320896714925766 \n"
          ]
        }
      ],
      "execution_count": null
    },
    {
      "cell_type": "markdown",
      "source": [
        "## D] Saving and loading a PyTorch model\n",
        "For saving and loading models in PyTorch, there are three main methods you should be aware of :\n",
        "\n",
        "* torch.save -->\tSaves a serialized object to disk using Python's pickle utility. Models, tensors and various other Python objects like dictionaries can be saved using torch.save.\n",
        "* torch.load -->\tUses pickle's unpickling features to deserialize and load pickled Python object files (like models, tensors or dictionaries) into memory. You can also set which device to load the object to (CPU, GPU etc).\n",
        "* torch.nn.Module.load_state_dict -->\tLoads a model's parameter dictionary (model.state_dict()) using a saved state_dict() object."
      ],
      "metadata": {
        "id": "B-A_AUDntXJP"
      }
    },
    {
      "cell_type": "code",
      "source": [
        "# SAVE\n",
        "MODEL_SAVE_PATH = \"model.pth\"\n",
        "torch.save(obj=model_0.state_dict(), # only saving the state_dict() only saves the models learned parameters\n",
        "           f=MODEL_SAVE_PATH)"
      ],
      "metadata": {
        "trusted": true,
        "execution": {
          "iopub.status.busy": "2025-07-15T06:22:05.062163Z",
          "iopub.execute_input": "2025-07-15T06:22:05.062412Z",
          "iopub.status.idle": "2025-07-15T06:22:05.067250Z",
          "shell.execute_reply.started": "2025-07-15T06:22:05.062391Z",
          "shell.execute_reply": "2025-07-15T06:22:05.066458Z"
        },
        "id": "HsaPqBCutXJP"
      },
      "outputs": [],
      "execution_count": null
    },
    {
      "cell_type": "code",
      "source": [
        "# LOAD\n",
        "# Instantiate a new instance of our model (this will be instantiated with random weights)\n",
        "loaded_model_0 = LinearRegressionModel()\n",
        "\n",
        "# Load the state_dict of our saved model (this will update the new instance of our model with trained weights)\n",
        "loaded_model_0.load_state_dict(torch.load(f=MODEL_SAVE_PATH))"
      ],
      "metadata": {
        "trusted": true,
        "execution": {
          "iopub.status.busy": "2025-07-15T06:22:05.068148Z",
          "iopub.execute_input": "2025-07-15T06:22:05.068456Z",
          "iopub.status.idle": "2025-07-15T06:22:05.081419Z",
          "shell.execute_reply.started": "2025-07-15T06:22:05.068426Z",
          "shell.execute_reply": "2025-07-15T06:22:05.080748Z"
        },
        "colab": {
          "base_uri": "https://localhost:8080/"
        },
        "id": "cB1yQVEWtXJP",
        "outputId": "94a16719-c493-4cfa-ec93-c622f927b31d"
      },
      "outputs": [
        {
          "output_type": "execute_result",
          "data": {
            "text/plain": [
              "<All keys matched successfully>"
            ]
          },
          "metadata": {},
          "execution_count": 160
        }
      ],
      "execution_count": null
    },
    {
      "cell_type": "code",
      "source": [
        "# 1. Put the loaded model into evaluation mode\n",
        "loaded_model_0.eval()\n",
        "\n",
        "# 2. Use the inference mode context manager to make predictions\n",
        "with torch.inference_mode():\n",
        "    loaded_model_preds = loaded_model_0(X_test) # perform a forward pass on the test data with the loaded model"
      ],
      "metadata": {
        "trusted": true,
        "execution": {
          "iopub.status.busy": "2025-07-15T06:22:05.082158Z",
          "iopub.execute_input": "2025-07-15T06:22:05.082446Z",
          "iopub.status.idle": "2025-07-15T06:22:05.089844Z",
          "shell.execute_reply.started": "2025-07-15T06:22:05.082417Z",
          "shell.execute_reply": "2025-07-15T06:22:05.089168Z"
        },
        "id": "ipvTJwy0tXJP"
      },
      "outputs": [],
      "execution_count": null
    },
    {
      "cell_type": "code",
      "source": [
        "# Compare previous model predictions with loaded model predictions (these should be the same)\n",
        "test_pred == loaded_model_preds"
      ],
      "metadata": {
        "trusted": true,
        "execution": {
          "iopub.status.busy": "2025-07-15T06:22:05.091048Z",
          "iopub.execute_input": "2025-07-15T06:22:05.091294Z",
          "iopub.status.idle": "2025-07-15T06:22:05.101809Z",
          "shell.execute_reply.started": "2025-07-15T06:22:05.091275Z",
          "shell.execute_reply": "2025-07-15T06:22:05.100983Z"
        },
        "colab": {
          "base_uri": "https://localhost:8080/"
        },
        "id": "9-BIGJnytXJQ",
        "outputId": "3c7bf256-f85b-44f6-caa2-a5afbe7187c8"
      },
      "outputs": [
        {
          "output_type": "execute_result",
          "data": {
            "text/plain": [
              "tensor([[True],\n",
              "        [True],\n",
              "        [True],\n",
              "        [True],\n",
              "        [True],\n",
              "        [True],\n",
              "        [True],\n",
              "        [True],\n",
              "        [True],\n",
              "        [True]])"
            ]
          },
          "metadata": {},
          "execution_count": 162
        }
      ],
      "execution_count": null
    },
    {
      "cell_type": "markdown",
      "source": [
        "# Session 2: Tuesday, July 15, 4:00 pm - 5:30 pm (1h30)\n",
        "1. Load and preprocessing of existing dataset (Normalisation, standardization, split in train/test, cross validation...)\n",
        "2. Train and test on different models (which ones?)\n",
        "3. Request an assignments for the next session ? (if yes, what ?)"
      ],
      "metadata": {
        "id": "hAchYUxLtXJQ"
      }
    },
    {
      "cell_type": "markdown",
      "source": [
        "## Download existing dataset and examine the different variables"
      ],
      "metadata": {
        "id": "Ut4nTPiptXJQ"
      }
    },
    {
      "cell_type": "markdown",
      "source": [
        "CO2 Emissions in Africa from 2000 -2020. The data contains a collection of key metrics from notable sources.\n",
        "\n",
        "License: World Bank Dataset Terms of Use\n",
        "\n",
        "This Dataset includes the following features:\n",
        "\n",
        "1. Country\n",
        "2. Country code,\n",
        "3. Sub-region\n",
        "4. Year\n",
        "5. GDP PER CAPITA (USD)\n",
        "6. Population\n",
        "7. Area (Km2)\n",
        "8. Population\n",
        "9. CO2 Emissions\n",
        "    I. Transportation (Mt)\n",
        "    II. Total CO2 Emission including LUCF (Mt)\n",
        "    III. Total CO2 Emission excluding LUCF (Mt)\n",
        "    IV. Other Fuel Combustion (Mt)\n",
        "    V. Manufacturing/Construction (Mt)\n",
        "    VI.  Land-Use Change and Forestry (Mt)\n",
        "    VII. Industrial Processes (Mt)\n",
        "    VIII. Energy (Mt)\n",
        "    IX. Fugitive Emissions (Mt)\n",
        "    X. Electricity/Heat (Mt)\n",
        "    XI. Bunker Fuels (Mt)\n",
        "    XII. Building (Mt)"
      ],
      "metadata": {
        "id": "NkpQeFG3tXJQ"
      }
    },
    {
      "cell_type": "code",
      "source": [
        "import pandas as pd\n",
        "import numpy as np\n",
        "import torch\n",
        "from torch import nn\n",
        "from torch.utils.data import TensorDataset, DataLoader\n",
        "import matplotlib.pyplot as plt\n",
        "import os\n",
        "import matplotlib.pyplot as plt\n",
        "import seaborn as sns\n",
        "from google.colab import drive\n",
        "\n",
        "drive.mount('/content/drive')\n",
        "\n",
        "df = pd.read_csv(\"/content/drive/My Drive/Easy_pytorch/co2_Emission_Africa.csv\")\n",
        "df.head()\n",
        "\n"
      ],
      "metadata": {
        "trusted": true,
        "execution": {
          "iopub.status.busy": "2025-07-15T06:22:05.102690Z",
          "iopub.execute_input": "2025-07-15T06:22:05.102985Z",
          "iopub.status.idle": "2025-07-15T06:22:05.133399Z",
          "shell.execute_reply.started": "2025-07-15T06:22:05.102959Z",
          "shell.execute_reply": "2025-07-15T06:22:05.132679Z"
        },
        "colab": {
          "base_uri": "https://localhost:8080/",
          "height": 399
        },
        "id": "DRKLPs3atXJQ",
        "outputId": "b613fa7a-65a2-4d1e-bdc6-faf2152dc11c"
      },
      "outputs": [
        {
          "output_type": "stream",
          "name": "stdout",
          "text": [
            "Drive already mounted at /content/drive; to attempt to forcibly remount, call drive.mount(\"/content/drive\", force_remount=True).\n"
          ]
        },
        {
          "output_type": "execute_result",
          "data": {
            "text/plain": [
              "   Country       Sub-Region Code  Year  Population  GDP PER CAPITA (USD)  \\\n",
              "0  Algeria  Northern Africa  DZA  2000    30774621               1780.38   \n",
              "1  Algeria  Northern Africa  DZA  2001    31200985               1754.58   \n",
              "2  Algeria  Northern Africa  DZA  2002    31624696               1794.81   \n",
              "3  Algeria  Northern Africa  DZA  2003    32055883               2117.05   \n",
              "4  Algeria  Northern Africa  DZA  2004    32510186               2624.80   \n",
              "\n",
              "   GDP PER CAPITA PPP (USD)  Area (Km2)  Transportation (Mt)  \\\n",
              "0                   8510.36     2381741                16.85   \n",
              "1                   8840.67     2381741                17.04   \n",
              "2                   9354.22     2381741                19.36   \n",
              "3                  10088.09     2381741                21.76   \n",
              "4                  10653.34     2381741                22.03   \n",
              "\n",
              "   Total CO2 Emission including LUCF (Mt)  \\\n",
              "0                                   80.62   \n",
              "1                                   76.24   \n",
              "2                                   80.00   \n",
              "3                                   85.78   \n",
              "4                                   87.09   \n",
              "\n",
              "   Total CO2 Emission excluding LUCF (Mt)  Other Fuel Combustion (Mt)  \\\n",
              "0                                   80.05                         0.0   \n",
              "1                                   78.65                         0.0   \n",
              "2                                   82.40                         0.0   \n",
              "3                                   88.19                         0.0   \n",
              "4                                   89.49                         0.0   \n",
              "\n",
              "   Manufacturing/Construction (Mt)  Land-Use Change and Forestry (Mt)  \\\n",
              "0                             6.16                               0.57   \n",
              "1                             6.25                              -2.41   \n",
              "2                             6.62                              -2.41   \n",
              "3                             7.01                              -2.41   \n",
              "4                             8.09                              -2.41   \n",
              "\n",
              "   Industrial Processes (Mt)  Fugitive Emissions (Mt)  Energy (Mt)  \\\n",
              "0                       3.79                    14.75        76.26   \n",
              "1                       3.77                    11.86        74.88   \n",
              "2                       4.06                    10.20        78.35   \n",
              "3                       4.03                    12.17        84.16   \n",
              "4                       4.90                    11.22        84.60   \n",
              "\n",
              "   Electricity/Heat (Mt)  Bunker Fuels (Mt)  Building (Mt)  \n",
              "0                  29.17               1.96           9.33  \n",
              "1                  30.20               1.98           9.53  \n",
              "2                  32.28               2.17           9.89  \n",
              "3                  32.53               1.89          10.68  \n",
              "4                  31.75               2.19          11.52  "
            ],
            "text/html": [
              "\n",
              "  <div id=\"df-a0906162-ca28-45bf-ada7-7b9b598aab4a\" class=\"colab-df-container\">\n",
              "    <div>\n",
              "<style scoped>\n",
              "    .dataframe tbody tr th:only-of-type {\n",
              "        vertical-align: middle;\n",
              "    }\n",
              "\n",
              "    .dataframe tbody tr th {\n",
              "        vertical-align: top;\n",
              "    }\n",
              "\n",
              "    .dataframe thead th {\n",
              "        text-align: right;\n",
              "    }\n",
              "</style>\n",
              "<table border=\"1\" class=\"dataframe\">\n",
              "  <thead>\n",
              "    <tr style=\"text-align: right;\">\n",
              "      <th></th>\n",
              "      <th>Country</th>\n",
              "      <th>Sub-Region</th>\n",
              "      <th>Code</th>\n",
              "      <th>Year</th>\n",
              "      <th>Population</th>\n",
              "      <th>GDP PER CAPITA (USD)</th>\n",
              "      <th>GDP PER CAPITA PPP (USD)</th>\n",
              "      <th>Area (Km2)</th>\n",
              "      <th>Transportation (Mt)</th>\n",
              "      <th>Total CO2 Emission including LUCF (Mt)</th>\n",
              "      <th>Total CO2 Emission excluding LUCF (Mt)</th>\n",
              "      <th>Other Fuel Combustion (Mt)</th>\n",
              "      <th>Manufacturing/Construction (Mt)</th>\n",
              "      <th>Land-Use Change and Forestry (Mt)</th>\n",
              "      <th>Industrial Processes (Mt)</th>\n",
              "      <th>Fugitive Emissions (Mt)</th>\n",
              "      <th>Energy (Mt)</th>\n",
              "      <th>Electricity/Heat (Mt)</th>\n",
              "      <th>Bunker Fuels (Mt)</th>\n",
              "      <th>Building (Mt)</th>\n",
              "    </tr>\n",
              "  </thead>\n",
              "  <tbody>\n",
              "    <tr>\n",
              "      <th>0</th>\n",
              "      <td>Algeria</td>\n",
              "      <td>Northern Africa</td>\n",
              "      <td>DZA</td>\n",
              "      <td>2000</td>\n",
              "      <td>30774621</td>\n",
              "      <td>1780.38</td>\n",
              "      <td>8510.36</td>\n",
              "      <td>2381741</td>\n",
              "      <td>16.85</td>\n",
              "      <td>80.62</td>\n",
              "      <td>80.05</td>\n",
              "      <td>0.0</td>\n",
              "      <td>6.16</td>\n",
              "      <td>0.57</td>\n",
              "      <td>3.79</td>\n",
              "      <td>14.75</td>\n",
              "      <td>76.26</td>\n",
              "      <td>29.17</td>\n",
              "      <td>1.96</td>\n",
              "      <td>9.33</td>\n",
              "    </tr>\n",
              "    <tr>\n",
              "      <th>1</th>\n",
              "      <td>Algeria</td>\n",
              "      <td>Northern Africa</td>\n",
              "      <td>DZA</td>\n",
              "      <td>2001</td>\n",
              "      <td>31200985</td>\n",
              "      <td>1754.58</td>\n",
              "      <td>8840.67</td>\n",
              "      <td>2381741</td>\n",
              "      <td>17.04</td>\n",
              "      <td>76.24</td>\n",
              "      <td>78.65</td>\n",
              "      <td>0.0</td>\n",
              "      <td>6.25</td>\n",
              "      <td>-2.41</td>\n",
              "      <td>3.77</td>\n",
              "      <td>11.86</td>\n",
              "      <td>74.88</td>\n",
              "      <td>30.20</td>\n",
              "      <td>1.98</td>\n",
              "      <td>9.53</td>\n",
              "    </tr>\n",
              "    <tr>\n",
              "      <th>2</th>\n",
              "      <td>Algeria</td>\n",
              "      <td>Northern Africa</td>\n",
              "      <td>DZA</td>\n",
              "      <td>2002</td>\n",
              "      <td>31624696</td>\n",
              "      <td>1794.81</td>\n",
              "      <td>9354.22</td>\n",
              "      <td>2381741</td>\n",
              "      <td>19.36</td>\n",
              "      <td>80.00</td>\n",
              "      <td>82.40</td>\n",
              "      <td>0.0</td>\n",
              "      <td>6.62</td>\n",
              "      <td>-2.41</td>\n",
              "      <td>4.06</td>\n",
              "      <td>10.20</td>\n",
              "      <td>78.35</td>\n",
              "      <td>32.28</td>\n",
              "      <td>2.17</td>\n",
              "      <td>9.89</td>\n",
              "    </tr>\n",
              "    <tr>\n",
              "      <th>3</th>\n",
              "      <td>Algeria</td>\n",
              "      <td>Northern Africa</td>\n",
              "      <td>DZA</td>\n",
              "      <td>2003</td>\n",
              "      <td>32055883</td>\n",
              "      <td>2117.05</td>\n",
              "      <td>10088.09</td>\n",
              "      <td>2381741</td>\n",
              "      <td>21.76</td>\n",
              "      <td>85.78</td>\n",
              "      <td>88.19</td>\n",
              "      <td>0.0</td>\n",
              "      <td>7.01</td>\n",
              "      <td>-2.41</td>\n",
              "      <td>4.03</td>\n",
              "      <td>12.17</td>\n",
              "      <td>84.16</td>\n",
              "      <td>32.53</td>\n",
              "      <td>1.89</td>\n",
              "      <td>10.68</td>\n",
              "    </tr>\n",
              "    <tr>\n",
              "      <th>4</th>\n",
              "      <td>Algeria</td>\n",
              "      <td>Northern Africa</td>\n",
              "      <td>DZA</td>\n",
              "      <td>2004</td>\n",
              "      <td>32510186</td>\n",
              "      <td>2624.80</td>\n",
              "      <td>10653.34</td>\n",
              "      <td>2381741</td>\n",
              "      <td>22.03</td>\n",
              "      <td>87.09</td>\n",
              "      <td>89.49</td>\n",
              "      <td>0.0</td>\n",
              "      <td>8.09</td>\n",
              "      <td>-2.41</td>\n",
              "      <td>4.90</td>\n",
              "      <td>11.22</td>\n",
              "      <td>84.60</td>\n",
              "      <td>31.75</td>\n",
              "      <td>2.19</td>\n",
              "      <td>11.52</td>\n",
              "    </tr>\n",
              "  </tbody>\n",
              "</table>\n",
              "</div>\n",
              "    <div class=\"colab-df-buttons\">\n",
              "\n",
              "  <div class=\"colab-df-container\">\n",
              "    <button class=\"colab-df-convert\" onclick=\"convertToInteractive('df-a0906162-ca28-45bf-ada7-7b9b598aab4a')\"\n",
              "            title=\"Convert this dataframe to an interactive table.\"\n",
              "            style=\"display:none;\">\n",
              "\n",
              "  <svg xmlns=\"http://www.w3.org/2000/svg\" height=\"24px\" viewBox=\"0 -960 960 960\">\n",
              "    <path d=\"M120-120v-720h720v720H120Zm60-500h600v-160H180v160Zm220 220h160v-160H400v160Zm0 220h160v-160H400v160ZM180-400h160v-160H180v160Zm440 0h160v-160H620v160ZM180-180h160v-160H180v160Zm440 0h160v-160H620v160Z\"/>\n",
              "  </svg>\n",
              "    </button>\n",
              "\n",
              "  <style>\n",
              "    .colab-df-container {\n",
              "      display:flex;\n",
              "      gap: 12px;\n",
              "    }\n",
              "\n",
              "    .colab-df-convert {\n",
              "      background-color: #E8F0FE;\n",
              "      border: none;\n",
              "      border-radius: 50%;\n",
              "      cursor: pointer;\n",
              "      display: none;\n",
              "      fill: #1967D2;\n",
              "      height: 32px;\n",
              "      padding: 0 0 0 0;\n",
              "      width: 32px;\n",
              "    }\n",
              "\n",
              "    .colab-df-convert:hover {\n",
              "      background-color: #E2EBFA;\n",
              "      box-shadow: 0px 1px 2px rgba(60, 64, 67, 0.3), 0px 1px 3px 1px rgba(60, 64, 67, 0.15);\n",
              "      fill: #174EA6;\n",
              "    }\n",
              "\n",
              "    .colab-df-buttons div {\n",
              "      margin-bottom: 4px;\n",
              "    }\n",
              "\n",
              "    [theme=dark] .colab-df-convert {\n",
              "      background-color: #3B4455;\n",
              "      fill: #D2E3FC;\n",
              "    }\n",
              "\n",
              "    [theme=dark] .colab-df-convert:hover {\n",
              "      background-color: #434B5C;\n",
              "      box-shadow: 0px 1px 3px 1px rgba(0, 0, 0, 0.15);\n",
              "      filter: drop-shadow(0px 1px 2px rgba(0, 0, 0, 0.3));\n",
              "      fill: #FFFFFF;\n",
              "    }\n",
              "  </style>\n",
              "\n",
              "    <script>\n",
              "      const buttonEl =\n",
              "        document.querySelector('#df-a0906162-ca28-45bf-ada7-7b9b598aab4a button.colab-df-convert');\n",
              "      buttonEl.style.display =\n",
              "        google.colab.kernel.accessAllowed ? 'block' : 'none';\n",
              "\n",
              "      async function convertToInteractive(key) {\n",
              "        const element = document.querySelector('#df-a0906162-ca28-45bf-ada7-7b9b598aab4a');\n",
              "        const dataTable =\n",
              "          await google.colab.kernel.invokeFunction('convertToInteractive',\n",
              "                                                    [key], {});\n",
              "        if (!dataTable) return;\n",
              "\n",
              "        const docLinkHtml = 'Like what you see? Visit the ' +\n",
              "          '<a target=\"_blank\" href=https://colab.research.google.com/notebooks/data_table.ipynb>data table notebook</a>'\n",
              "          + ' to learn more about interactive tables.';\n",
              "        element.innerHTML = '';\n",
              "        dataTable['output_type'] = 'display_data';\n",
              "        await google.colab.output.renderOutput(dataTable, element);\n",
              "        const docLink = document.createElement('div');\n",
              "        docLink.innerHTML = docLinkHtml;\n",
              "        element.appendChild(docLink);\n",
              "      }\n",
              "    </script>\n",
              "  </div>\n",
              "\n",
              "\n",
              "    <div id=\"df-45879339-6192-4d5e-8c55-3e1dc75c525b\">\n",
              "      <button class=\"colab-df-quickchart\" onclick=\"quickchart('df-45879339-6192-4d5e-8c55-3e1dc75c525b')\"\n",
              "                title=\"Suggest charts\"\n",
              "                style=\"display:none;\">\n",
              "\n",
              "<svg xmlns=\"http://www.w3.org/2000/svg\" height=\"24px\"viewBox=\"0 0 24 24\"\n",
              "     width=\"24px\">\n",
              "    <g>\n",
              "        <path d=\"M19 3H5c-1.1 0-2 .9-2 2v14c0 1.1.9 2 2 2h14c1.1 0 2-.9 2-2V5c0-1.1-.9-2-2-2zM9 17H7v-7h2v7zm4 0h-2V7h2v10zm4 0h-2v-4h2v4z\"/>\n",
              "    </g>\n",
              "</svg>\n",
              "      </button>\n",
              "\n",
              "<style>\n",
              "  .colab-df-quickchart {\n",
              "      --bg-color: #E8F0FE;\n",
              "      --fill-color: #1967D2;\n",
              "      --hover-bg-color: #E2EBFA;\n",
              "      --hover-fill-color: #174EA6;\n",
              "      --disabled-fill-color: #AAA;\n",
              "      --disabled-bg-color: #DDD;\n",
              "  }\n",
              "\n",
              "  [theme=dark] .colab-df-quickchart {\n",
              "      --bg-color: #3B4455;\n",
              "      --fill-color: #D2E3FC;\n",
              "      --hover-bg-color: #434B5C;\n",
              "      --hover-fill-color: #FFFFFF;\n",
              "      --disabled-bg-color: #3B4455;\n",
              "      --disabled-fill-color: #666;\n",
              "  }\n",
              "\n",
              "  .colab-df-quickchart {\n",
              "    background-color: var(--bg-color);\n",
              "    border: none;\n",
              "    border-radius: 50%;\n",
              "    cursor: pointer;\n",
              "    display: none;\n",
              "    fill: var(--fill-color);\n",
              "    height: 32px;\n",
              "    padding: 0;\n",
              "    width: 32px;\n",
              "  }\n",
              "\n",
              "  .colab-df-quickchart:hover {\n",
              "    background-color: var(--hover-bg-color);\n",
              "    box-shadow: 0 1px 2px rgba(60, 64, 67, 0.3), 0 1px 3px 1px rgba(60, 64, 67, 0.15);\n",
              "    fill: var(--button-hover-fill-color);\n",
              "  }\n",
              "\n",
              "  .colab-df-quickchart-complete:disabled,\n",
              "  .colab-df-quickchart-complete:disabled:hover {\n",
              "    background-color: var(--disabled-bg-color);\n",
              "    fill: var(--disabled-fill-color);\n",
              "    box-shadow: none;\n",
              "  }\n",
              "\n",
              "  .colab-df-spinner {\n",
              "    border: 2px solid var(--fill-color);\n",
              "    border-color: transparent;\n",
              "    border-bottom-color: var(--fill-color);\n",
              "    animation:\n",
              "      spin 1s steps(1) infinite;\n",
              "  }\n",
              "\n",
              "  @keyframes spin {\n",
              "    0% {\n",
              "      border-color: transparent;\n",
              "      border-bottom-color: var(--fill-color);\n",
              "      border-left-color: var(--fill-color);\n",
              "    }\n",
              "    20% {\n",
              "      border-color: transparent;\n",
              "      border-left-color: var(--fill-color);\n",
              "      border-top-color: var(--fill-color);\n",
              "    }\n",
              "    30% {\n",
              "      border-color: transparent;\n",
              "      border-left-color: var(--fill-color);\n",
              "      border-top-color: var(--fill-color);\n",
              "      border-right-color: var(--fill-color);\n",
              "    }\n",
              "    40% {\n",
              "      border-color: transparent;\n",
              "      border-right-color: var(--fill-color);\n",
              "      border-top-color: var(--fill-color);\n",
              "    }\n",
              "    60% {\n",
              "      border-color: transparent;\n",
              "      border-right-color: var(--fill-color);\n",
              "    }\n",
              "    80% {\n",
              "      border-color: transparent;\n",
              "      border-right-color: var(--fill-color);\n",
              "      border-bottom-color: var(--fill-color);\n",
              "    }\n",
              "    90% {\n",
              "      border-color: transparent;\n",
              "      border-bottom-color: var(--fill-color);\n",
              "    }\n",
              "  }\n",
              "</style>\n",
              "\n",
              "      <script>\n",
              "        async function quickchart(key) {\n",
              "          const quickchartButtonEl =\n",
              "            document.querySelector('#' + key + ' button');\n",
              "          quickchartButtonEl.disabled = true;  // To prevent multiple clicks.\n",
              "          quickchartButtonEl.classList.add('colab-df-spinner');\n",
              "          try {\n",
              "            const charts = await google.colab.kernel.invokeFunction(\n",
              "                'suggestCharts', [key], {});\n",
              "          } catch (error) {\n",
              "            console.error('Error during call to suggestCharts:', error);\n",
              "          }\n",
              "          quickchartButtonEl.classList.remove('colab-df-spinner');\n",
              "          quickchartButtonEl.classList.add('colab-df-quickchart-complete');\n",
              "        }\n",
              "        (() => {\n",
              "          let quickchartButtonEl =\n",
              "            document.querySelector('#df-45879339-6192-4d5e-8c55-3e1dc75c525b button');\n",
              "          quickchartButtonEl.style.display =\n",
              "            google.colab.kernel.accessAllowed ? 'block' : 'none';\n",
              "        })();\n",
              "      </script>\n",
              "    </div>\n",
              "\n",
              "    </div>\n",
              "  </div>\n"
            ],
            "application/vnd.google.colaboratory.intrinsic+json": {
              "type": "dataframe",
              "variable_name": "df",
              "summary": "{\n  \"name\": \"df\",\n  \"rows\": 1134,\n  \"fields\": [\n    {\n      \"column\": \"Country\",\n      \"properties\": {\n        \"dtype\": \"category\",\n        \"num_unique_values\": 54,\n        \"samples\": [\n          \"Gabon\",\n          \"Togo\",\n          \"Tanzania\"\n        ],\n        \"semantic_type\": \"\",\n        \"description\": \"\"\n      }\n    },\n    {\n      \"column\": \"Sub-Region\",\n      \"properties\": {\n        \"dtype\": \"category\",\n        \"num_unique_values\": 5,\n        \"samples\": [\n          \"Middle Africa\",\n          \"Eastern Africa\",\n          \"Western Africa\"\n        ],\n        \"semantic_type\": \"\",\n        \"description\": \"\"\n      }\n    },\n    {\n      \"column\": \"Code\",\n      \"properties\": {\n        \"dtype\": \"category\",\n        \"num_unique_values\": 54,\n        \"samples\": [\n          \"GAB\",\n          \"TGO\",\n          \"TZA\"\n        ],\n        \"semantic_type\": \"\",\n        \"description\": \"\"\n      }\n    },\n    {\n      \"column\": \"Year\",\n      \"properties\": {\n        \"dtype\": \"number\",\n        \"std\": 6,\n        \"min\": 2000,\n        \"max\": 2020,\n        \"num_unique_values\": 21,\n        \"samples\": [\n          2000,\n          2017,\n          2015\n        ],\n        \"semantic_type\": \"\",\n        \"description\": \"\"\n      }\n    },\n    {\n      \"column\": \"Population\",\n      \"properties\": {\n        \"dtype\": \"number\",\n        \"std\": 28778021,\n        \"min\": 81131,\n        \"max\": 208327405,\n        \"num_unique_values\": 1134,\n        \"samples\": [\n          148294028,\n          96762,\n          1966855\n        ],\n        \"semantic_type\": \"\",\n        \"description\": \"\"\n      }\n    },\n    {\n      \"column\": \"GDP PER CAPITA (USD)\",\n      \"properties\": {\n        \"dtype\": \"number\",\n        \"std\": 2971.7602981366867,\n        \"min\": 110.46,\n        \"max\": 19849.72,\n        \"num_unique_values\": 1105,\n        \"samples\": [\n          3370.38,\n          3497.73,\n          117.86\n        ],\n        \"semantic_type\": \"\",\n        \"description\": \"\"\n      }\n    },\n    {\n      \"column\": \"GDP PER CAPITA PPP (USD)\",\n      \"properties\": {\n        \"dtype\": \"number\",\n        \"std\": 5989.405810801769,\n        \"min\": 420.27,\n        \"max\": 33261.87,\n        \"num_unique_values\": 1085,\n        \"samples\": [\n          1138.11,\n          2745.86,\n          1181.93\n        ],\n        \"semantic_type\": \"\",\n        \"description\": \"\"\n      }\n    },\n    {\n      \"column\": \"Area (Km2)\",\n      \"properties\": {\n        \"dtype\": \"number\",\n        \"std\": 598382,\n        \"min\": 452,\n        \"max\": 2381741,\n        \"num_unique_values\": 54,\n        \"samples\": [\n          267668,\n          56785,\n          945087\n        ],\n        \"semantic_type\": \"\",\n        \"description\": \"\"\n      }\n    },\n    {\n      \"column\": \"Transportation (Mt)\",\n      \"properties\": {\n        \"dtype\": \"number\",\n        \"std\": 10.844024802771656,\n        \"min\": 0.01,\n        \"max\": 59.45,\n        \"num_unique_values\": 499,\n        \"samples\": [\n          6.61,\n          1.94,\n          1.59\n        ],\n        \"semantic_type\": \"\",\n        \"description\": \"\"\n      }\n    },\n    {\n      \"column\": \"Total CO2 Emission including LUCF (Mt)\",\n      \"properties\": {\n        \"dtype\": \"number\",\n        \"std\": 89.05776197446447,\n        \"min\": -10.41,\n        \"max\": 606.39,\n        \"num_unique_values\": 895,\n        \"samples\": [\n          3.84,\n          13.97,\n          1.52\n        ],\n        \"semantic_type\": \"\",\n        \"description\": \"\"\n      }\n    },\n    {\n      \"column\": \"Total CO2 Emission excluding LUCF (Mt)\",\n      \"properties\": {\n        \"dtype\": \"number\",\n        \"std\": 62.186060167565245,\n        \"min\": 0.05,\n        \"max\": 448.3,\n        \"num_unique_values\": 708,\n        \"samples\": [\n          5.02,\n          2.8,\n          14.32\n        ],\n        \"semantic_type\": \"\",\n        \"description\": \"\"\n      }\n    },\n    {\n      \"column\": \"Other Fuel Combustion (Mt)\",\n      \"properties\": {\n        \"dtype\": \"number\",\n        \"std\": 1.1903624429788502,\n        \"min\": 0.0,\n        \"max\": 8.68,\n        \"num_unique_values\": 192,\n        \"samples\": [\n          2.29,\n          3.29,\n          1.09\n        ],\n        \"semantic_type\": \"\",\n        \"description\": \"\"\n      }\n    },\n    {\n      \"column\": \"Manufacturing/Construction (Mt)\",\n      \"properties\": {\n        \"dtype\": \"number\",\n        \"std\": 7.805355247794185,\n        \"min\": 0.0,\n        \"max\": 61.1,\n        \"num_unique_values\": 354,\n        \"samples\": [\n          1.48,\n          0.15,\n          6.83\n        ],\n        \"semantic_type\": \"\",\n        \"description\": \"\"\n      }\n    },\n    {\n      \"column\": \"Land-Use Change and Forestry (Mt)\",\n      \"properties\": {\n        \"dtype\": \"number\",\n        \"std\": 66.85978117976364,\n        \"min\": -24.95,\n        \"max\": 601.26,\n        \"num_unique_values\": 257,\n        \"samples\": [\n          8.63,\n          17.35,\n          29.87\n        ],\n        \"semantic_type\": \"\",\n        \"description\": \"\"\n      }\n    },\n    {\n      \"column\": \"Industrial Processes (Mt)\",\n      \"properties\": {\n        \"dtype\": \"number\",\n        \"std\": 2.9198948281244794,\n        \"min\": 0.0,\n        \"max\": 22.82,\n        \"num_unique_values\": 271,\n        \"samples\": [\n          0.58,\n          3.53,\n          0.13\n        ],\n        \"semantic_type\": \"\",\n        \"description\": \"\"\n      }\n    },\n    {\n      \"column\": \"Fugitive Emissions (Mt)\",\n      \"properties\": {\n        \"dtype\": \"number\",\n        \"std\": 7.963443513390117,\n        \"min\": 0.0,\n        \"max\": 52.49,\n        \"num_unique_values\": 232,\n        \"samples\": [\n          0.58,\n          0.17,\n          9.51\n        ],\n        \"semantic_type\": \"\",\n        \"description\": \"\"\n      }\n    },\n    {\n      \"column\": \"Energy (Mt)\",\n      \"properties\": {\n        \"dtype\": \"number\",\n        \"std\": 60.34881274665353,\n        \"min\": 0.05,\n        \"max\": 443.39,\n        \"num_unique_values\": 708,\n        \"samples\": [\n          4.62,\n          6.33,\n          18.01\n        ],\n        \"semantic_type\": \"\",\n        \"description\": \"\"\n      }\n    },\n    {\n      \"column\": \"Electricity/Heat (Mt)\",\n      \"properties\": {\n        \"dtype\": \"number\",\n        \"std\": 38.468533730649106,\n        \"min\": 0.0,\n        \"max\": 311.55,\n        \"num_unique_values\": 412,\n        \"samples\": [\n          16.89,\n          0.27,\n          1.09\n        ],\n        \"semantic_type\": \"\",\n        \"description\": \"\"\n      }\n    },\n    {\n      \"column\": \"Bunker Fuels (Mt)\",\n      \"properties\": {\n        \"dtype\": \"number\",\n        \"std\": 1.8957873862906849,\n        \"min\": 0.0,\n        \"max\": 14.79,\n        \"num_unique_values\": 232,\n        \"samples\": [\n          14.08,\n          0.18,\n          2.45\n        ],\n        \"semantic_type\": \"\",\n        \"description\": \"\"\n      }\n    },\n    {\n      \"column\": \"Building (Mt)\",\n      \"properties\": {\n        \"dtype\": \"number\",\n        \"std\": 4.303602944655062,\n        \"min\": 0.0,\n        \"max\": 33.97,\n        \"num_unique_values\": 266,\n        \"samples\": [\n          1.24,\n          13.55,\n          0.98\n        ],\n        \"semantic_type\": \"\",\n        \"description\": \"\"\n      }\n    }\n  ]\n}"
            }
          },
          "metadata": {},
          "execution_count": 163
        }
      ],
      "execution_count": null
    },
    {
      "cell_type": "markdown",
      "source": [
        "Data preparation\n",
        "* Remove undefined value (mark NaN or NA)\n",
        "* Standardize data\n",
        "* Convert to Tensor format (because it's acutally a numpy array)\n",
        "* Split in train/test dataset\n",
        "* Use of `DataLoader`"
      ],
      "metadata": {
        "id": "MbU5v3qQtXJQ"
      }
    },
    {
      "cell_type": "code",
      "source": [
        "#check shape\n",
        "df.shape"
      ],
      "metadata": {
        "trusted": true,
        "execution": {
          "iopub.status.busy": "2025-07-15T06:22:05.134144Z",
          "iopub.execute_input": "2025-07-15T06:22:05.134397Z",
          "iopub.status.idle": "2025-07-15T06:22:05.139155Z",
          "shell.execute_reply.started": "2025-07-15T06:22:05.134376Z",
          "shell.execute_reply": "2025-07-15T06:22:05.138368Z"
        },
        "colab": {
          "base_uri": "https://localhost:8080/"
        },
        "id": "TWhWSOi9tXJQ",
        "outputId": "93f21862-d5b7-45ad-c020-8da7db28e05d"
      },
      "outputs": [
        {
          "output_type": "execute_result",
          "data": {
            "text/plain": [
              "(1134, 20)"
            ]
          },
          "metadata": {},
          "execution_count": 164
        }
      ],
      "execution_count": null
    },
    {
      "cell_type": "code",
      "source": [
        "#checking for missing values\n",
        "missing_values = df.isnull().sum().reset_index()\n",
        "missing_values.columns = ['Column', 'MissingValues']\n",
        "missing_values\n"
      ],
      "metadata": {
        "trusted": true,
        "execution": {
          "iopub.status.busy": "2025-07-15T06:22:05.140009Z",
          "iopub.execute_input": "2025-07-15T06:22:05.140225Z",
          "iopub.status.idle": "2025-07-15T06:22:05.155659Z",
          "shell.execute_reply.started": "2025-07-15T06:22:05.140207Z",
          "shell.execute_reply": "2025-07-15T06:22:05.154982Z"
        },
        "colab": {
          "base_uri": "https://localhost:8080/",
          "height": 676
        },
        "id": "qSyCrD8mtXJQ",
        "outputId": "147f538c-06e1-418f-f4bc-d61467f9b91b"
      },
      "outputs": [
        {
          "output_type": "execute_result",
          "data": {
            "text/plain": [
              "                                    Column  MissingValues\n",
              "0                                  Country              0\n",
              "1                               Sub-Region              0\n",
              "2                                     Code              0\n",
              "3                                     Year              0\n",
              "4                               Population              0\n",
              "5                     GDP PER CAPITA (USD)             27\n",
              "6                 GDP PER CAPITA PPP (USD)             48\n",
              "7                               Area (Km2)              0\n",
              "8                      Transportation (Mt)             12\n",
              "9   Total CO2 Emission including LUCF (Mt)              0\n",
              "10  Total CO2 Emission excluding LUCF (Mt)              0\n",
              "11              Other Fuel Combustion (Mt)             12\n",
              "12         Manufacturing/Construction (Mt)             12\n",
              "13       Land-Use Change and Forestry (Mt)              0\n",
              "14               Industrial Processes (Mt)             62\n",
              "15                 Fugitive Emissions (Mt)            804\n",
              "16                             Energy (Mt)              0\n",
              "17                   Electricity/Heat (Mt)             12\n",
              "18                       Bunker Fuels (Mt)             12\n",
              "19                           Building (Mt)             12"
            ],
            "text/html": [
              "\n",
              "  <div id=\"df-a9580b43-b70b-455e-a618-264b1b49684f\" class=\"colab-df-container\">\n",
              "    <div>\n",
              "<style scoped>\n",
              "    .dataframe tbody tr th:only-of-type {\n",
              "        vertical-align: middle;\n",
              "    }\n",
              "\n",
              "    .dataframe tbody tr th {\n",
              "        vertical-align: top;\n",
              "    }\n",
              "\n",
              "    .dataframe thead th {\n",
              "        text-align: right;\n",
              "    }\n",
              "</style>\n",
              "<table border=\"1\" class=\"dataframe\">\n",
              "  <thead>\n",
              "    <tr style=\"text-align: right;\">\n",
              "      <th></th>\n",
              "      <th>Column</th>\n",
              "      <th>MissingValues</th>\n",
              "    </tr>\n",
              "  </thead>\n",
              "  <tbody>\n",
              "    <tr>\n",
              "      <th>0</th>\n",
              "      <td>Country</td>\n",
              "      <td>0</td>\n",
              "    </tr>\n",
              "    <tr>\n",
              "      <th>1</th>\n",
              "      <td>Sub-Region</td>\n",
              "      <td>0</td>\n",
              "    </tr>\n",
              "    <tr>\n",
              "      <th>2</th>\n",
              "      <td>Code</td>\n",
              "      <td>0</td>\n",
              "    </tr>\n",
              "    <tr>\n",
              "      <th>3</th>\n",
              "      <td>Year</td>\n",
              "      <td>0</td>\n",
              "    </tr>\n",
              "    <tr>\n",
              "      <th>4</th>\n",
              "      <td>Population</td>\n",
              "      <td>0</td>\n",
              "    </tr>\n",
              "    <tr>\n",
              "      <th>5</th>\n",
              "      <td>GDP PER CAPITA (USD)</td>\n",
              "      <td>27</td>\n",
              "    </tr>\n",
              "    <tr>\n",
              "      <th>6</th>\n",
              "      <td>GDP PER CAPITA PPP (USD)</td>\n",
              "      <td>48</td>\n",
              "    </tr>\n",
              "    <tr>\n",
              "      <th>7</th>\n",
              "      <td>Area (Km2)</td>\n",
              "      <td>0</td>\n",
              "    </tr>\n",
              "    <tr>\n",
              "      <th>8</th>\n",
              "      <td>Transportation (Mt)</td>\n",
              "      <td>12</td>\n",
              "    </tr>\n",
              "    <tr>\n",
              "      <th>9</th>\n",
              "      <td>Total CO2 Emission including LUCF (Mt)</td>\n",
              "      <td>0</td>\n",
              "    </tr>\n",
              "    <tr>\n",
              "      <th>10</th>\n",
              "      <td>Total CO2 Emission excluding LUCF (Mt)</td>\n",
              "      <td>0</td>\n",
              "    </tr>\n",
              "    <tr>\n",
              "      <th>11</th>\n",
              "      <td>Other Fuel Combustion (Mt)</td>\n",
              "      <td>12</td>\n",
              "    </tr>\n",
              "    <tr>\n",
              "      <th>12</th>\n",
              "      <td>Manufacturing/Construction (Mt)</td>\n",
              "      <td>12</td>\n",
              "    </tr>\n",
              "    <tr>\n",
              "      <th>13</th>\n",
              "      <td>Land-Use Change and Forestry (Mt)</td>\n",
              "      <td>0</td>\n",
              "    </tr>\n",
              "    <tr>\n",
              "      <th>14</th>\n",
              "      <td>Industrial Processes (Mt)</td>\n",
              "      <td>62</td>\n",
              "    </tr>\n",
              "    <tr>\n",
              "      <th>15</th>\n",
              "      <td>Fugitive Emissions (Mt)</td>\n",
              "      <td>804</td>\n",
              "    </tr>\n",
              "    <tr>\n",
              "      <th>16</th>\n",
              "      <td>Energy (Mt)</td>\n",
              "      <td>0</td>\n",
              "    </tr>\n",
              "    <tr>\n",
              "      <th>17</th>\n",
              "      <td>Electricity/Heat (Mt)</td>\n",
              "      <td>12</td>\n",
              "    </tr>\n",
              "    <tr>\n",
              "      <th>18</th>\n",
              "      <td>Bunker Fuels (Mt)</td>\n",
              "      <td>12</td>\n",
              "    </tr>\n",
              "    <tr>\n",
              "      <th>19</th>\n",
              "      <td>Building (Mt)</td>\n",
              "      <td>12</td>\n",
              "    </tr>\n",
              "  </tbody>\n",
              "</table>\n",
              "</div>\n",
              "    <div class=\"colab-df-buttons\">\n",
              "\n",
              "  <div class=\"colab-df-container\">\n",
              "    <button class=\"colab-df-convert\" onclick=\"convertToInteractive('df-a9580b43-b70b-455e-a618-264b1b49684f')\"\n",
              "            title=\"Convert this dataframe to an interactive table.\"\n",
              "            style=\"display:none;\">\n",
              "\n",
              "  <svg xmlns=\"http://www.w3.org/2000/svg\" height=\"24px\" viewBox=\"0 -960 960 960\">\n",
              "    <path d=\"M120-120v-720h720v720H120Zm60-500h600v-160H180v160Zm220 220h160v-160H400v160Zm0 220h160v-160H400v160ZM180-400h160v-160H180v160Zm440 0h160v-160H620v160ZM180-180h160v-160H180v160Zm440 0h160v-160H620v160Z\"/>\n",
              "  </svg>\n",
              "    </button>\n",
              "\n",
              "  <style>\n",
              "    .colab-df-container {\n",
              "      display:flex;\n",
              "      gap: 12px;\n",
              "    }\n",
              "\n",
              "    .colab-df-convert {\n",
              "      background-color: #E8F0FE;\n",
              "      border: none;\n",
              "      border-radius: 50%;\n",
              "      cursor: pointer;\n",
              "      display: none;\n",
              "      fill: #1967D2;\n",
              "      height: 32px;\n",
              "      padding: 0 0 0 0;\n",
              "      width: 32px;\n",
              "    }\n",
              "\n",
              "    .colab-df-convert:hover {\n",
              "      background-color: #E2EBFA;\n",
              "      box-shadow: 0px 1px 2px rgba(60, 64, 67, 0.3), 0px 1px 3px 1px rgba(60, 64, 67, 0.15);\n",
              "      fill: #174EA6;\n",
              "    }\n",
              "\n",
              "    .colab-df-buttons div {\n",
              "      margin-bottom: 4px;\n",
              "    }\n",
              "\n",
              "    [theme=dark] .colab-df-convert {\n",
              "      background-color: #3B4455;\n",
              "      fill: #D2E3FC;\n",
              "    }\n",
              "\n",
              "    [theme=dark] .colab-df-convert:hover {\n",
              "      background-color: #434B5C;\n",
              "      box-shadow: 0px 1px 3px 1px rgba(0, 0, 0, 0.15);\n",
              "      filter: drop-shadow(0px 1px 2px rgba(0, 0, 0, 0.3));\n",
              "      fill: #FFFFFF;\n",
              "    }\n",
              "  </style>\n",
              "\n",
              "    <script>\n",
              "      const buttonEl =\n",
              "        document.querySelector('#df-a9580b43-b70b-455e-a618-264b1b49684f button.colab-df-convert');\n",
              "      buttonEl.style.display =\n",
              "        google.colab.kernel.accessAllowed ? 'block' : 'none';\n",
              "\n",
              "      async function convertToInteractive(key) {\n",
              "        const element = document.querySelector('#df-a9580b43-b70b-455e-a618-264b1b49684f');\n",
              "        const dataTable =\n",
              "          await google.colab.kernel.invokeFunction('convertToInteractive',\n",
              "                                                    [key], {});\n",
              "        if (!dataTable) return;\n",
              "\n",
              "        const docLinkHtml = 'Like what you see? Visit the ' +\n",
              "          '<a target=\"_blank\" href=https://colab.research.google.com/notebooks/data_table.ipynb>data table notebook</a>'\n",
              "          + ' to learn more about interactive tables.';\n",
              "        element.innerHTML = '';\n",
              "        dataTable['output_type'] = 'display_data';\n",
              "        await google.colab.output.renderOutput(dataTable, element);\n",
              "        const docLink = document.createElement('div');\n",
              "        docLink.innerHTML = docLinkHtml;\n",
              "        element.appendChild(docLink);\n",
              "      }\n",
              "    </script>\n",
              "  </div>\n",
              "\n",
              "\n",
              "    <div id=\"df-1f7247c4-b3a1-409d-9227-7a6ed962934f\">\n",
              "      <button class=\"colab-df-quickchart\" onclick=\"quickchart('df-1f7247c4-b3a1-409d-9227-7a6ed962934f')\"\n",
              "                title=\"Suggest charts\"\n",
              "                style=\"display:none;\">\n",
              "\n",
              "<svg xmlns=\"http://www.w3.org/2000/svg\" height=\"24px\"viewBox=\"0 0 24 24\"\n",
              "     width=\"24px\">\n",
              "    <g>\n",
              "        <path d=\"M19 3H5c-1.1 0-2 .9-2 2v14c0 1.1.9 2 2 2h14c1.1 0 2-.9 2-2V5c0-1.1-.9-2-2-2zM9 17H7v-7h2v7zm4 0h-2V7h2v10zm4 0h-2v-4h2v4z\"/>\n",
              "    </g>\n",
              "</svg>\n",
              "      </button>\n",
              "\n",
              "<style>\n",
              "  .colab-df-quickchart {\n",
              "      --bg-color: #E8F0FE;\n",
              "      --fill-color: #1967D2;\n",
              "      --hover-bg-color: #E2EBFA;\n",
              "      --hover-fill-color: #174EA6;\n",
              "      --disabled-fill-color: #AAA;\n",
              "      --disabled-bg-color: #DDD;\n",
              "  }\n",
              "\n",
              "  [theme=dark] .colab-df-quickchart {\n",
              "      --bg-color: #3B4455;\n",
              "      --fill-color: #D2E3FC;\n",
              "      --hover-bg-color: #434B5C;\n",
              "      --hover-fill-color: #FFFFFF;\n",
              "      --disabled-bg-color: #3B4455;\n",
              "      --disabled-fill-color: #666;\n",
              "  }\n",
              "\n",
              "  .colab-df-quickchart {\n",
              "    background-color: var(--bg-color);\n",
              "    border: none;\n",
              "    border-radius: 50%;\n",
              "    cursor: pointer;\n",
              "    display: none;\n",
              "    fill: var(--fill-color);\n",
              "    height: 32px;\n",
              "    padding: 0;\n",
              "    width: 32px;\n",
              "  }\n",
              "\n",
              "  .colab-df-quickchart:hover {\n",
              "    background-color: var(--hover-bg-color);\n",
              "    box-shadow: 0 1px 2px rgba(60, 64, 67, 0.3), 0 1px 3px 1px rgba(60, 64, 67, 0.15);\n",
              "    fill: var(--button-hover-fill-color);\n",
              "  }\n",
              "\n",
              "  .colab-df-quickchart-complete:disabled,\n",
              "  .colab-df-quickchart-complete:disabled:hover {\n",
              "    background-color: var(--disabled-bg-color);\n",
              "    fill: var(--disabled-fill-color);\n",
              "    box-shadow: none;\n",
              "  }\n",
              "\n",
              "  .colab-df-spinner {\n",
              "    border: 2px solid var(--fill-color);\n",
              "    border-color: transparent;\n",
              "    border-bottom-color: var(--fill-color);\n",
              "    animation:\n",
              "      spin 1s steps(1) infinite;\n",
              "  }\n",
              "\n",
              "  @keyframes spin {\n",
              "    0% {\n",
              "      border-color: transparent;\n",
              "      border-bottom-color: var(--fill-color);\n",
              "      border-left-color: var(--fill-color);\n",
              "    }\n",
              "    20% {\n",
              "      border-color: transparent;\n",
              "      border-left-color: var(--fill-color);\n",
              "      border-top-color: var(--fill-color);\n",
              "    }\n",
              "    30% {\n",
              "      border-color: transparent;\n",
              "      border-left-color: var(--fill-color);\n",
              "      border-top-color: var(--fill-color);\n",
              "      border-right-color: var(--fill-color);\n",
              "    }\n",
              "    40% {\n",
              "      border-color: transparent;\n",
              "      border-right-color: var(--fill-color);\n",
              "      border-top-color: var(--fill-color);\n",
              "    }\n",
              "    60% {\n",
              "      border-color: transparent;\n",
              "      border-right-color: var(--fill-color);\n",
              "    }\n",
              "    80% {\n",
              "      border-color: transparent;\n",
              "      border-right-color: var(--fill-color);\n",
              "      border-bottom-color: var(--fill-color);\n",
              "    }\n",
              "    90% {\n",
              "      border-color: transparent;\n",
              "      border-bottom-color: var(--fill-color);\n",
              "    }\n",
              "  }\n",
              "</style>\n",
              "\n",
              "      <script>\n",
              "        async function quickchart(key) {\n",
              "          const quickchartButtonEl =\n",
              "            document.querySelector('#' + key + ' button');\n",
              "          quickchartButtonEl.disabled = true;  // To prevent multiple clicks.\n",
              "          quickchartButtonEl.classList.add('colab-df-spinner');\n",
              "          try {\n",
              "            const charts = await google.colab.kernel.invokeFunction(\n",
              "                'suggestCharts', [key], {});\n",
              "          } catch (error) {\n",
              "            console.error('Error during call to suggestCharts:', error);\n",
              "          }\n",
              "          quickchartButtonEl.classList.remove('colab-df-spinner');\n",
              "          quickchartButtonEl.classList.add('colab-df-quickchart-complete');\n",
              "        }\n",
              "        (() => {\n",
              "          let quickchartButtonEl =\n",
              "            document.querySelector('#df-1f7247c4-b3a1-409d-9227-7a6ed962934f button');\n",
              "          quickchartButtonEl.style.display =\n",
              "            google.colab.kernel.accessAllowed ? 'block' : 'none';\n",
              "        })();\n",
              "      </script>\n",
              "    </div>\n",
              "\n",
              "  <div id=\"id_f3ead4dd-72e6-4460-99b8-544352a70712\">\n",
              "    <style>\n",
              "      .colab-df-generate {\n",
              "        background-color: #E8F0FE;\n",
              "        border: none;\n",
              "        border-radius: 50%;\n",
              "        cursor: pointer;\n",
              "        display: none;\n",
              "        fill: #1967D2;\n",
              "        height: 32px;\n",
              "        padding: 0 0 0 0;\n",
              "        width: 32px;\n",
              "      }\n",
              "\n",
              "      .colab-df-generate:hover {\n",
              "        background-color: #E2EBFA;\n",
              "        box-shadow: 0px 1px 2px rgba(60, 64, 67, 0.3), 0px 1px 3px 1px rgba(60, 64, 67, 0.15);\n",
              "        fill: #174EA6;\n",
              "      }\n",
              "\n",
              "      [theme=dark] .colab-df-generate {\n",
              "        background-color: #3B4455;\n",
              "        fill: #D2E3FC;\n",
              "      }\n",
              "\n",
              "      [theme=dark] .colab-df-generate:hover {\n",
              "        background-color: #434B5C;\n",
              "        box-shadow: 0px 1px 3px 1px rgba(0, 0, 0, 0.15);\n",
              "        filter: drop-shadow(0px 1px 2px rgba(0, 0, 0, 0.3));\n",
              "        fill: #FFFFFF;\n",
              "      }\n",
              "    </style>\n",
              "    <button class=\"colab-df-generate\" onclick=\"generateWithVariable('missing_values')\"\n",
              "            title=\"Generate code using this dataframe.\"\n",
              "            style=\"display:none;\">\n",
              "\n",
              "  <svg xmlns=\"http://www.w3.org/2000/svg\" height=\"24px\"viewBox=\"0 0 24 24\"\n",
              "       width=\"24px\">\n",
              "    <path d=\"M7,19H8.4L18.45,9,17,7.55,7,17.6ZM5,21V16.75L18.45,3.32a2,2,0,0,1,2.83,0l1.4,1.43a1.91,1.91,0,0,1,.58,1.4,1.91,1.91,0,0,1-.58,1.4L9.25,21ZM18.45,9,17,7.55Zm-12,3A5.31,5.31,0,0,0,4.9,8.1,5.31,5.31,0,0,0,1,6.5,5.31,5.31,0,0,0,4.9,4.9,5.31,5.31,0,0,0,6.5,1,5.31,5.31,0,0,0,8.1,4.9,5.31,5.31,0,0,0,12,6.5,5.46,5.46,0,0,0,6.5,12Z\"/>\n",
              "  </svg>\n",
              "    </button>\n",
              "    <script>\n",
              "      (() => {\n",
              "      const buttonEl =\n",
              "        document.querySelector('#id_f3ead4dd-72e6-4460-99b8-544352a70712 button.colab-df-generate');\n",
              "      buttonEl.style.display =\n",
              "        google.colab.kernel.accessAllowed ? 'block' : 'none';\n",
              "\n",
              "      buttonEl.onclick = () => {\n",
              "        google.colab.notebook.generateWithVariable('missing_values');\n",
              "      }\n",
              "      })();\n",
              "    </script>\n",
              "  </div>\n",
              "\n",
              "    </div>\n",
              "  </div>\n"
            ],
            "application/vnd.google.colaboratory.intrinsic+json": {
              "type": "dataframe",
              "variable_name": "missing_values",
              "summary": "{\n  \"name\": \"missing_values\",\n  \"rows\": 20,\n  \"fields\": [\n    {\n      \"column\": \"Column\",\n      \"properties\": {\n        \"dtype\": \"string\",\n        \"num_unique_values\": 20,\n        \"samples\": [\n          \"Country\",\n          \"Electricity/Heat (Mt)\",\n          \"Fugitive Emissions (Mt)\"\n        ],\n        \"semantic_type\": \"\",\n        \"description\": \"\"\n      }\n    },\n    {\n      \"column\": \"MissingValues\",\n      \"properties\": {\n        \"dtype\": \"number\",\n        \"std\": 178,\n        \"min\": 0,\n        \"max\": 804,\n        \"num_unique_values\": 6,\n        \"samples\": [\n          0,\n          27,\n          804\n        ],\n        \"semantic_type\": \"\",\n        \"description\": \"\"\n      }\n    }\n  ]\n}"
            }
          },
          "metadata": {},
          "execution_count": 165
        }
      ],
      "execution_count": null
    },
    {
      "cell_type": "code",
      "source": [
        "#drop column with more than 50% missing data\n",
        "df = df.loc[:, df.isnull().mean() < 0.5]\n",
        "df.columns\n",
        "df.shape"
      ],
      "metadata": {
        "trusted": true,
        "execution": {
          "iopub.status.busy": "2025-07-15T06:22:05.156419Z",
          "iopub.execute_input": "2025-07-15T06:22:05.156663Z",
          "iopub.status.idle": "2025-07-15T06:22:05.169583Z",
          "shell.execute_reply.started": "2025-07-15T06:22:05.156636Z",
          "shell.execute_reply": "2025-07-15T06:22:05.168765Z"
        },
        "colab": {
          "base_uri": "https://localhost:8080/"
        },
        "id": "vkzIR3fztXJQ",
        "outputId": "44f0bdc1-6e66-4eb8-ed35-86ee0cfd60e9"
      },
      "outputs": [
        {
          "output_type": "execute_result",
          "data": {
            "text/plain": [
              "(1134, 19)"
            ]
          },
          "metadata": {},
          "execution_count": 166
        }
      ],
      "execution_count": null
    },
    {
      "cell_type": "code",
      "source": [
        "# Fill numeric columns with mean\n",
        "df_filled = df.fillna(df.mean(numeric_only=True))\n",
        "print(\"\\nAfter filling missing values with mean:\\n\", df_filled.isnull().sum())"
      ],
      "metadata": {
        "trusted": true,
        "execution": {
          "iopub.status.busy": "2025-07-15T06:22:05.170439Z",
          "iopub.execute_input": "2025-07-15T06:22:05.170712Z",
          "iopub.status.idle": "2025-07-15T06:22:05.185193Z",
          "shell.execute_reply.started": "2025-07-15T06:22:05.170685Z",
          "shell.execute_reply": "2025-07-15T06:22:05.184491Z"
        },
        "colab": {
          "base_uri": "https://localhost:8080/"
        },
        "id": "GDIKyvZItXJQ",
        "outputId": "8d8bb45f-79a0-4169-8f3f-d5ab3b5080b1"
      },
      "outputs": [
        {
          "output_type": "stream",
          "name": "stdout",
          "text": [
            "\n",
            "After filling missing values with mean:\n",
            " Country                                   0\n",
            "Sub-Region                                0\n",
            "Code                                      0\n",
            "Year                                      0\n",
            "Population                                0\n",
            "GDP PER CAPITA (USD)                      0\n",
            "GDP PER CAPITA PPP (USD)                  0\n",
            "Area (Km2)                                0\n",
            "Transportation (Mt)                       0\n",
            "Total CO2 Emission including LUCF (Mt)    0\n",
            "Total CO2 Emission excluding LUCF (Mt)    0\n",
            "Other Fuel Combustion (Mt)                0\n",
            "Manufacturing/Construction (Mt)           0\n",
            "Land-Use Change and Forestry (Mt)         0\n",
            "Industrial Processes (Mt)                 0\n",
            "Energy (Mt)                               0\n",
            "Electricity/Heat (Mt)                     0\n",
            "Bunker Fuels (Mt)                         0\n",
            "Building (Mt)                             0\n",
            "dtype: int64\n"
          ]
        }
      ],
      "execution_count": null
    },
    {
      "cell_type": "code",
      "source": [
        "df_filled"
      ],
      "metadata": {
        "trusted": true,
        "execution": {
          "iopub.status.busy": "2025-07-15T06:22:05.186021Z",
          "iopub.execute_input": "2025-07-15T06:22:05.186723Z",
          "iopub.status.idle": "2025-07-15T06:22:05.207936Z",
          "shell.execute_reply.started": "2025-07-15T06:22:05.186694Z",
          "shell.execute_reply": "2025-07-15T06:22:05.207303Z"
        },
        "colab": {
          "base_uri": "https://localhost:8080/",
          "height": 686
        },
        "id": "B1nAzp7TtXJR",
        "outputId": "ff0a1b32-1920-4665-d38a-1ef41f463686"
      },
      "outputs": [
        {
          "output_type": "execute_result",
          "data": {
            "text/plain": [
              "       Country       Sub-Region Code  Year  Population  GDP PER CAPITA (USD)  \\\n",
              "0      Algeria  Northern Africa  DZA  2000    30774621               1780.38   \n",
              "1      Algeria  Northern Africa  DZA  2001    31200985               1754.58   \n",
              "2      Algeria  Northern Africa  DZA  2002    31624696               1794.81   \n",
              "3      Algeria  Northern Africa  DZA  2003    32055883               2117.05   \n",
              "4      Algeria  Northern Africa  DZA  2004    32510186               2624.80   \n",
              "...        ...              ...  ...   ...         ...                   ...   \n",
              "1129  Zimbabwe   Eastern Africa  ZWE  2016    14452704               1421.79   \n",
              "1130  Zimbabwe   Eastern Africa  ZWE  2017    14751101               1192.11   \n",
              "1131  Zimbabwe   Eastern Africa  ZWE  2018    15052184               2269.18   \n",
              "1132  Zimbabwe   Eastern Africa  ZWE  2019    15354608               1421.87   \n",
              "1133  Zimbabwe   Eastern Africa  ZWE  2020    15669666               1372.70   \n",
              "\n",
              "      GDP PER CAPITA PPP (USD)  Area (Km2)  Transportation (Mt)  \\\n",
              "0                      8510.36     2381741                16.85   \n",
              "1                      8840.67     2381741                17.04   \n",
              "2                      9354.22     2381741                19.36   \n",
              "3                     10088.09     2381741                21.76   \n",
              "4                     10653.34     2381741                22.03   \n",
              "...                        ...         ...                  ...   \n",
              "1129                   2724.45      390757                 2.15   \n",
              "1130                   2331.78      390757                 2.21   \n",
              "1131                   2457.31      390757                 2.84   \n",
              "1132                   2296.85      390757                 2.51   \n",
              "1133                   2101.80      390757                 2.07   \n",
              "\n",
              "      Total CO2 Emission including LUCF (Mt)  \\\n",
              "0                                      80.62   \n",
              "1                                      76.24   \n",
              "2                                      80.00   \n",
              "3                                      85.78   \n",
              "4                                      87.09   \n",
              "...                                      ...   \n",
              "1129                                   97.61   \n",
              "1130                                   96.94   \n",
              "1131                                   98.23   \n",
              "1132                                   97.35   \n",
              "1133                                   95.48   \n",
              "\n",
              "      Total CO2 Emission excluding LUCF (Mt)  Other Fuel Combustion (Mt)  \\\n",
              "0                                      80.05                        0.00   \n",
              "1                                      78.65                        0.00   \n",
              "2                                      82.40                        0.00   \n",
              "3                                      88.19                        0.00   \n",
              "4                                      89.49                        0.00   \n",
              "...                                      ...                         ...   \n",
              "1129                                   10.45                        0.66   \n",
              "1130                                    9.78                        0.66   \n",
              "1131                                   11.07                        0.79   \n",
              "1132                                   10.19                        0.78   \n",
              "1133                                    8.31                        0.61   \n",
              "\n",
              "      Manufacturing/Construction (Mt)  Land-Use Change and Forestry (Mt)  \\\n",
              "0                                6.16                               0.57   \n",
              "1                                6.25                              -2.41   \n",
              "2                                6.62                              -2.41   \n",
              "3                                7.01                              -2.41   \n",
              "4                                8.09                              -2.41   \n",
              "...                               ...                                ...   \n",
              "1129                             1.06                              87.16   \n",
              "1130                             1.09                              87.16   \n",
              "1131                             1.14                              87.16   \n",
              "1132                             1.08                              87.16   \n",
              "1133                             1.01                              87.16   \n",
              "\n",
              "      Industrial Processes (Mt)  Energy (Mt)  Electricity/Heat (Mt)  \\\n",
              "0                          3.79        76.26                  29.17   \n",
              "1                          3.77        74.88                  30.20   \n",
              "2                          4.06        78.35                  32.28   \n",
              "3                          4.03        84.16                  32.53   \n",
              "4                          4.90        84.60                  31.75   \n",
              "...                         ...          ...                    ...   \n",
              "1129                       0.46         9.99                   5.90   \n",
              "1130                       0.47         9.31                   5.13   \n",
              "1131                       0.56        10.51                   5.50   \n",
              "1132                       0.47         9.71                   5.10   \n",
              "1133                       0.50         7.82                   3.93   \n",
              "\n",
              "      Bunker Fuels (Mt)  Building (Mt)  \n",
              "0                  1.96           9.33  \n",
              "1                  1.98           9.53  \n",
              "2                  2.17           9.89  \n",
              "3                  1.89          10.68  \n",
              "4                  2.19          11.52  \n",
              "...                 ...            ...  \n",
              "1129               0.12           0.22  \n",
              "1130               0.16           0.22  \n",
              "1131               0.19           0.24  \n",
              "1132               0.16           0.24  \n",
              "1133               0.06           0.19  \n",
              "\n",
              "[1134 rows x 19 columns]"
            ],
            "text/html": [
              "\n",
              "  <div id=\"df-bc47f6fc-7a20-4ee9-85ba-a12b50d3ef8a\" class=\"colab-df-container\">\n",
              "    <div>\n",
              "<style scoped>\n",
              "    .dataframe tbody tr th:only-of-type {\n",
              "        vertical-align: middle;\n",
              "    }\n",
              "\n",
              "    .dataframe tbody tr th {\n",
              "        vertical-align: top;\n",
              "    }\n",
              "\n",
              "    .dataframe thead th {\n",
              "        text-align: right;\n",
              "    }\n",
              "</style>\n",
              "<table border=\"1\" class=\"dataframe\">\n",
              "  <thead>\n",
              "    <tr style=\"text-align: right;\">\n",
              "      <th></th>\n",
              "      <th>Country</th>\n",
              "      <th>Sub-Region</th>\n",
              "      <th>Code</th>\n",
              "      <th>Year</th>\n",
              "      <th>Population</th>\n",
              "      <th>GDP PER CAPITA (USD)</th>\n",
              "      <th>GDP PER CAPITA PPP (USD)</th>\n",
              "      <th>Area (Km2)</th>\n",
              "      <th>Transportation (Mt)</th>\n",
              "      <th>Total CO2 Emission including LUCF (Mt)</th>\n",
              "      <th>Total CO2 Emission excluding LUCF (Mt)</th>\n",
              "      <th>Other Fuel Combustion (Mt)</th>\n",
              "      <th>Manufacturing/Construction (Mt)</th>\n",
              "      <th>Land-Use Change and Forestry (Mt)</th>\n",
              "      <th>Industrial Processes (Mt)</th>\n",
              "      <th>Energy (Mt)</th>\n",
              "      <th>Electricity/Heat (Mt)</th>\n",
              "      <th>Bunker Fuels (Mt)</th>\n",
              "      <th>Building (Mt)</th>\n",
              "    </tr>\n",
              "  </thead>\n",
              "  <tbody>\n",
              "    <tr>\n",
              "      <th>0</th>\n",
              "      <td>Algeria</td>\n",
              "      <td>Northern Africa</td>\n",
              "      <td>DZA</td>\n",
              "      <td>2000</td>\n",
              "      <td>30774621</td>\n",
              "      <td>1780.38</td>\n",
              "      <td>8510.36</td>\n",
              "      <td>2381741</td>\n",
              "      <td>16.85</td>\n",
              "      <td>80.62</td>\n",
              "      <td>80.05</td>\n",
              "      <td>0.00</td>\n",
              "      <td>6.16</td>\n",
              "      <td>0.57</td>\n",
              "      <td>3.79</td>\n",
              "      <td>76.26</td>\n",
              "      <td>29.17</td>\n",
              "      <td>1.96</td>\n",
              "      <td>9.33</td>\n",
              "    </tr>\n",
              "    <tr>\n",
              "      <th>1</th>\n",
              "      <td>Algeria</td>\n",
              "      <td>Northern Africa</td>\n",
              "      <td>DZA</td>\n",
              "      <td>2001</td>\n",
              "      <td>31200985</td>\n",
              "      <td>1754.58</td>\n",
              "      <td>8840.67</td>\n",
              "      <td>2381741</td>\n",
              "      <td>17.04</td>\n",
              "      <td>76.24</td>\n",
              "      <td>78.65</td>\n",
              "      <td>0.00</td>\n",
              "      <td>6.25</td>\n",
              "      <td>-2.41</td>\n",
              "      <td>3.77</td>\n",
              "      <td>74.88</td>\n",
              "      <td>30.20</td>\n",
              "      <td>1.98</td>\n",
              "      <td>9.53</td>\n",
              "    </tr>\n",
              "    <tr>\n",
              "      <th>2</th>\n",
              "      <td>Algeria</td>\n",
              "      <td>Northern Africa</td>\n",
              "      <td>DZA</td>\n",
              "      <td>2002</td>\n",
              "      <td>31624696</td>\n",
              "      <td>1794.81</td>\n",
              "      <td>9354.22</td>\n",
              "      <td>2381741</td>\n",
              "      <td>19.36</td>\n",
              "      <td>80.00</td>\n",
              "      <td>82.40</td>\n",
              "      <td>0.00</td>\n",
              "      <td>6.62</td>\n",
              "      <td>-2.41</td>\n",
              "      <td>4.06</td>\n",
              "      <td>78.35</td>\n",
              "      <td>32.28</td>\n",
              "      <td>2.17</td>\n",
              "      <td>9.89</td>\n",
              "    </tr>\n",
              "    <tr>\n",
              "      <th>3</th>\n",
              "      <td>Algeria</td>\n",
              "      <td>Northern Africa</td>\n",
              "      <td>DZA</td>\n",
              "      <td>2003</td>\n",
              "      <td>32055883</td>\n",
              "      <td>2117.05</td>\n",
              "      <td>10088.09</td>\n",
              "      <td>2381741</td>\n",
              "      <td>21.76</td>\n",
              "      <td>85.78</td>\n",
              "      <td>88.19</td>\n",
              "      <td>0.00</td>\n",
              "      <td>7.01</td>\n",
              "      <td>-2.41</td>\n",
              "      <td>4.03</td>\n",
              "      <td>84.16</td>\n",
              "      <td>32.53</td>\n",
              "      <td>1.89</td>\n",
              "      <td>10.68</td>\n",
              "    </tr>\n",
              "    <tr>\n",
              "      <th>4</th>\n",
              "      <td>Algeria</td>\n",
              "      <td>Northern Africa</td>\n",
              "      <td>DZA</td>\n",
              "      <td>2004</td>\n",
              "      <td>32510186</td>\n",
              "      <td>2624.80</td>\n",
              "      <td>10653.34</td>\n",
              "      <td>2381741</td>\n",
              "      <td>22.03</td>\n",
              "      <td>87.09</td>\n",
              "      <td>89.49</td>\n",
              "      <td>0.00</td>\n",
              "      <td>8.09</td>\n",
              "      <td>-2.41</td>\n",
              "      <td>4.90</td>\n",
              "      <td>84.60</td>\n",
              "      <td>31.75</td>\n",
              "      <td>2.19</td>\n",
              "      <td>11.52</td>\n",
              "    </tr>\n",
              "    <tr>\n",
              "      <th>...</th>\n",
              "      <td>...</td>\n",
              "      <td>...</td>\n",
              "      <td>...</td>\n",
              "      <td>...</td>\n",
              "      <td>...</td>\n",
              "      <td>...</td>\n",
              "      <td>...</td>\n",
              "      <td>...</td>\n",
              "      <td>...</td>\n",
              "      <td>...</td>\n",
              "      <td>...</td>\n",
              "      <td>...</td>\n",
              "      <td>...</td>\n",
              "      <td>...</td>\n",
              "      <td>...</td>\n",
              "      <td>...</td>\n",
              "      <td>...</td>\n",
              "      <td>...</td>\n",
              "      <td>...</td>\n",
              "    </tr>\n",
              "    <tr>\n",
              "      <th>1129</th>\n",
              "      <td>Zimbabwe</td>\n",
              "      <td>Eastern Africa</td>\n",
              "      <td>ZWE</td>\n",
              "      <td>2016</td>\n",
              "      <td>14452704</td>\n",
              "      <td>1421.79</td>\n",
              "      <td>2724.45</td>\n",
              "      <td>390757</td>\n",
              "      <td>2.15</td>\n",
              "      <td>97.61</td>\n",
              "      <td>10.45</td>\n",
              "      <td>0.66</td>\n",
              "      <td>1.06</td>\n",
              "      <td>87.16</td>\n",
              "      <td>0.46</td>\n",
              "      <td>9.99</td>\n",
              "      <td>5.90</td>\n",
              "      <td>0.12</td>\n",
              "      <td>0.22</td>\n",
              "    </tr>\n",
              "    <tr>\n",
              "      <th>1130</th>\n",
              "      <td>Zimbabwe</td>\n",
              "      <td>Eastern Africa</td>\n",
              "      <td>ZWE</td>\n",
              "      <td>2017</td>\n",
              "      <td>14751101</td>\n",
              "      <td>1192.11</td>\n",
              "      <td>2331.78</td>\n",
              "      <td>390757</td>\n",
              "      <td>2.21</td>\n",
              "      <td>96.94</td>\n",
              "      <td>9.78</td>\n",
              "      <td>0.66</td>\n",
              "      <td>1.09</td>\n",
              "      <td>87.16</td>\n",
              "      <td>0.47</td>\n",
              "      <td>9.31</td>\n",
              "      <td>5.13</td>\n",
              "      <td>0.16</td>\n",
              "      <td>0.22</td>\n",
              "    </tr>\n",
              "    <tr>\n",
              "      <th>1131</th>\n",
              "      <td>Zimbabwe</td>\n",
              "      <td>Eastern Africa</td>\n",
              "      <td>ZWE</td>\n",
              "      <td>2018</td>\n",
              "      <td>15052184</td>\n",
              "      <td>2269.18</td>\n",
              "      <td>2457.31</td>\n",
              "      <td>390757</td>\n",
              "      <td>2.84</td>\n",
              "      <td>98.23</td>\n",
              "      <td>11.07</td>\n",
              "      <td>0.79</td>\n",
              "      <td>1.14</td>\n",
              "      <td>87.16</td>\n",
              "      <td>0.56</td>\n",
              "      <td>10.51</td>\n",
              "      <td>5.50</td>\n",
              "      <td>0.19</td>\n",
              "      <td>0.24</td>\n",
              "    </tr>\n",
              "    <tr>\n",
              "      <th>1132</th>\n",
              "      <td>Zimbabwe</td>\n",
              "      <td>Eastern Africa</td>\n",
              "      <td>ZWE</td>\n",
              "      <td>2019</td>\n",
              "      <td>15354608</td>\n",
              "      <td>1421.87</td>\n",
              "      <td>2296.85</td>\n",
              "      <td>390757</td>\n",
              "      <td>2.51</td>\n",
              "      <td>97.35</td>\n",
              "      <td>10.19</td>\n",
              "      <td>0.78</td>\n",
              "      <td>1.08</td>\n",
              "      <td>87.16</td>\n",
              "      <td>0.47</td>\n",
              "      <td>9.71</td>\n",
              "      <td>5.10</td>\n",
              "      <td>0.16</td>\n",
              "      <td>0.24</td>\n",
              "    </tr>\n",
              "    <tr>\n",
              "      <th>1133</th>\n",
              "      <td>Zimbabwe</td>\n",
              "      <td>Eastern Africa</td>\n",
              "      <td>ZWE</td>\n",
              "      <td>2020</td>\n",
              "      <td>15669666</td>\n",
              "      <td>1372.70</td>\n",
              "      <td>2101.80</td>\n",
              "      <td>390757</td>\n",
              "      <td>2.07</td>\n",
              "      <td>95.48</td>\n",
              "      <td>8.31</td>\n",
              "      <td>0.61</td>\n",
              "      <td>1.01</td>\n",
              "      <td>87.16</td>\n",
              "      <td>0.50</td>\n",
              "      <td>7.82</td>\n",
              "      <td>3.93</td>\n",
              "      <td>0.06</td>\n",
              "      <td>0.19</td>\n",
              "    </tr>\n",
              "  </tbody>\n",
              "</table>\n",
              "<p>1134 rows × 19 columns</p>\n",
              "</div>\n",
              "    <div class=\"colab-df-buttons\">\n",
              "\n",
              "  <div class=\"colab-df-container\">\n",
              "    <button class=\"colab-df-convert\" onclick=\"convertToInteractive('df-bc47f6fc-7a20-4ee9-85ba-a12b50d3ef8a')\"\n",
              "            title=\"Convert this dataframe to an interactive table.\"\n",
              "            style=\"display:none;\">\n",
              "\n",
              "  <svg xmlns=\"http://www.w3.org/2000/svg\" height=\"24px\" viewBox=\"0 -960 960 960\">\n",
              "    <path d=\"M120-120v-720h720v720H120Zm60-500h600v-160H180v160Zm220 220h160v-160H400v160Zm0 220h160v-160H400v160ZM180-400h160v-160H180v160Zm440 0h160v-160H620v160ZM180-180h160v-160H180v160Zm440 0h160v-160H620v160Z\"/>\n",
              "  </svg>\n",
              "    </button>\n",
              "\n",
              "  <style>\n",
              "    .colab-df-container {\n",
              "      display:flex;\n",
              "      gap: 12px;\n",
              "    }\n",
              "\n",
              "    .colab-df-convert {\n",
              "      background-color: #E8F0FE;\n",
              "      border: none;\n",
              "      border-radius: 50%;\n",
              "      cursor: pointer;\n",
              "      display: none;\n",
              "      fill: #1967D2;\n",
              "      height: 32px;\n",
              "      padding: 0 0 0 0;\n",
              "      width: 32px;\n",
              "    }\n",
              "\n",
              "    .colab-df-convert:hover {\n",
              "      background-color: #E2EBFA;\n",
              "      box-shadow: 0px 1px 2px rgba(60, 64, 67, 0.3), 0px 1px 3px 1px rgba(60, 64, 67, 0.15);\n",
              "      fill: #174EA6;\n",
              "    }\n",
              "\n",
              "    .colab-df-buttons div {\n",
              "      margin-bottom: 4px;\n",
              "    }\n",
              "\n",
              "    [theme=dark] .colab-df-convert {\n",
              "      background-color: #3B4455;\n",
              "      fill: #D2E3FC;\n",
              "    }\n",
              "\n",
              "    [theme=dark] .colab-df-convert:hover {\n",
              "      background-color: #434B5C;\n",
              "      box-shadow: 0px 1px 3px 1px rgba(0, 0, 0, 0.15);\n",
              "      filter: drop-shadow(0px 1px 2px rgba(0, 0, 0, 0.3));\n",
              "      fill: #FFFFFF;\n",
              "    }\n",
              "  </style>\n",
              "\n",
              "    <script>\n",
              "      const buttonEl =\n",
              "        document.querySelector('#df-bc47f6fc-7a20-4ee9-85ba-a12b50d3ef8a button.colab-df-convert');\n",
              "      buttonEl.style.display =\n",
              "        google.colab.kernel.accessAllowed ? 'block' : 'none';\n",
              "\n",
              "      async function convertToInteractive(key) {\n",
              "        const element = document.querySelector('#df-bc47f6fc-7a20-4ee9-85ba-a12b50d3ef8a');\n",
              "        const dataTable =\n",
              "          await google.colab.kernel.invokeFunction('convertToInteractive',\n",
              "                                                    [key], {});\n",
              "        if (!dataTable) return;\n",
              "\n",
              "        const docLinkHtml = 'Like what you see? Visit the ' +\n",
              "          '<a target=\"_blank\" href=https://colab.research.google.com/notebooks/data_table.ipynb>data table notebook</a>'\n",
              "          + ' to learn more about interactive tables.';\n",
              "        element.innerHTML = '';\n",
              "        dataTable['output_type'] = 'display_data';\n",
              "        await google.colab.output.renderOutput(dataTable, element);\n",
              "        const docLink = document.createElement('div');\n",
              "        docLink.innerHTML = docLinkHtml;\n",
              "        element.appendChild(docLink);\n",
              "      }\n",
              "    </script>\n",
              "  </div>\n",
              "\n",
              "\n",
              "    <div id=\"df-2af2f8ac-748b-464c-b103-e235a07f4f19\">\n",
              "      <button class=\"colab-df-quickchart\" onclick=\"quickchart('df-2af2f8ac-748b-464c-b103-e235a07f4f19')\"\n",
              "                title=\"Suggest charts\"\n",
              "                style=\"display:none;\">\n",
              "\n",
              "<svg xmlns=\"http://www.w3.org/2000/svg\" height=\"24px\"viewBox=\"0 0 24 24\"\n",
              "     width=\"24px\">\n",
              "    <g>\n",
              "        <path d=\"M19 3H5c-1.1 0-2 .9-2 2v14c0 1.1.9 2 2 2h14c1.1 0 2-.9 2-2V5c0-1.1-.9-2-2-2zM9 17H7v-7h2v7zm4 0h-2V7h2v10zm4 0h-2v-4h2v4z\"/>\n",
              "    </g>\n",
              "</svg>\n",
              "      </button>\n",
              "\n",
              "<style>\n",
              "  .colab-df-quickchart {\n",
              "      --bg-color: #E8F0FE;\n",
              "      --fill-color: #1967D2;\n",
              "      --hover-bg-color: #E2EBFA;\n",
              "      --hover-fill-color: #174EA6;\n",
              "      --disabled-fill-color: #AAA;\n",
              "      --disabled-bg-color: #DDD;\n",
              "  }\n",
              "\n",
              "  [theme=dark] .colab-df-quickchart {\n",
              "      --bg-color: #3B4455;\n",
              "      --fill-color: #D2E3FC;\n",
              "      --hover-bg-color: #434B5C;\n",
              "      --hover-fill-color: #FFFFFF;\n",
              "      --disabled-bg-color: #3B4455;\n",
              "      --disabled-fill-color: #666;\n",
              "  }\n",
              "\n",
              "  .colab-df-quickchart {\n",
              "    background-color: var(--bg-color);\n",
              "    border: none;\n",
              "    border-radius: 50%;\n",
              "    cursor: pointer;\n",
              "    display: none;\n",
              "    fill: var(--fill-color);\n",
              "    height: 32px;\n",
              "    padding: 0;\n",
              "    width: 32px;\n",
              "  }\n",
              "\n",
              "  .colab-df-quickchart:hover {\n",
              "    background-color: var(--hover-bg-color);\n",
              "    box-shadow: 0 1px 2px rgba(60, 64, 67, 0.3), 0 1px 3px 1px rgba(60, 64, 67, 0.15);\n",
              "    fill: var(--button-hover-fill-color);\n",
              "  }\n",
              "\n",
              "  .colab-df-quickchart-complete:disabled,\n",
              "  .colab-df-quickchart-complete:disabled:hover {\n",
              "    background-color: var(--disabled-bg-color);\n",
              "    fill: var(--disabled-fill-color);\n",
              "    box-shadow: none;\n",
              "  }\n",
              "\n",
              "  .colab-df-spinner {\n",
              "    border: 2px solid var(--fill-color);\n",
              "    border-color: transparent;\n",
              "    border-bottom-color: var(--fill-color);\n",
              "    animation:\n",
              "      spin 1s steps(1) infinite;\n",
              "  }\n",
              "\n",
              "  @keyframes spin {\n",
              "    0% {\n",
              "      border-color: transparent;\n",
              "      border-bottom-color: var(--fill-color);\n",
              "      border-left-color: var(--fill-color);\n",
              "    }\n",
              "    20% {\n",
              "      border-color: transparent;\n",
              "      border-left-color: var(--fill-color);\n",
              "      border-top-color: var(--fill-color);\n",
              "    }\n",
              "    30% {\n",
              "      border-color: transparent;\n",
              "      border-left-color: var(--fill-color);\n",
              "      border-top-color: var(--fill-color);\n",
              "      border-right-color: var(--fill-color);\n",
              "    }\n",
              "    40% {\n",
              "      border-color: transparent;\n",
              "      border-right-color: var(--fill-color);\n",
              "      border-top-color: var(--fill-color);\n",
              "    }\n",
              "    60% {\n",
              "      border-color: transparent;\n",
              "      border-right-color: var(--fill-color);\n",
              "    }\n",
              "    80% {\n",
              "      border-color: transparent;\n",
              "      border-right-color: var(--fill-color);\n",
              "      border-bottom-color: var(--fill-color);\n",
              "    }\n",
              "    90% {\n",
              "      border-color: transparent;\n",
              "      border-bottom-color: var(--fill-color);\n",
              "    }\n",
              "  }\n",
              "</style>\n",
              "\n",
              "      <script>\n",
              "        async function quickchart(key) {\n",
              "          const quickchartButtonEl =\n",
              "            document.querySelector('#' + key + ' button');\n",
              "          quickchartButtonEl.disabled = true;  // To prevent multiple clicks.\n",
              "          quickchartButtonEl.classList.add('colab-df-spinner');\n",
              "          try {\n",
              "            const charts = await google.colab.kernel.invokeFunction(\n",
              "                'suggestCharts', [key], {});\n",
              "          } catch (error) {\n",
              "            console.error('Error during call to suggestCharts:', error);\n",
              "          }\n",
              "          quickchartButtonEl.classList.remove('colab-df-spinner');\n",
              "          quickchartButtonEl.classList.add('colab-df-quickchart-complete');\n",
              "        }\n",
              "        (() => {\n",
              "          let quickchartButtonEl =\n",
              "            document.querySelector('#df-2af2f8ac-748b-464c-b103-e235a07f4f19 button');\n",
              "          quickchartButtonEl.style.display =\n",
              "            google.colab.kernel.accessAllowed ? 'block' : 'none';\n",
              "        })();\n",
              "      </script>\n",
              "    </div>\n",
              "\n",
              "  <div id=\"id_82cdd56f-ddc5-44f3-89bc-7ea5750432c8\">\n",
              "    <style>\n",
              "      .colab-df-generate {\n",
              "        background-color: #E8F0FE;\n",
              "        border: none;\n",
              "        border-radius: 50%;\n",
              "        cursor: pointer;\n",
              "        display: none;\n",
              "        fill: #1967D2;\n",
              "        height: 32px;\n",
              "        padding: 0 0 0 0;\n",
              "        width: 32px;\n",
              "      }\n",
              "\n",
              "      .colab-df-generate:hover {\n",
              "        background-color: #E2EBFA;\n",
              "        box-shadow: 0px 1px 2px rgba(60, 64, 67, 0.3), 0px 1px 3px 1px rgba(60, 64, 67, 0.15);\n",
              "        fill: #174EA6;\n",
              "      }\n",
              "\n",
              "      [theme=dark] .colab-df-generate {\n",
              "        background-color: #3B4455;\n",
              "        fill: #D2E3FC;\n",
              "      }\n",
              "\n",
              "      [theme=dark] .colab-df-generate:hover {\n",
              "        background-color: #434B5C;\n",
              "        box-shadow: 0px 1px 3px 1px rgba(0, 0, 0, 0.15);\n",
              "        filter: drop-shadow(0px 1px 2px rgba(0, 0, 0, 0.3));\n",
              "        fill: #FFFFFF;\n",
              "      }\n",
              "    </style>\n",
              "    <button class=\"colab-df-generate\" onclick=\"generateWithVariable('df_filled')\"\n",
              "            title=\"Generate code using this dataframe.\"\n",
              "            style=\"display:none;\">\n",
              "\n",
              "  <svg xmlns=\"http://www.w3.org/2000/svg\" height=\"24px\"viewBox=\"0 0 24 24\"\n",
              "       width=\"24px\">\n",
              "    <path d=\"M7,19H8.4L18.45,9,17,7.55,7,17.6ZM5,21V16.75L18.45,3.32a2,2,0,0,1,2.83,0l1.4,1.43a1.91,1.91,0,0,1,.58,1.4,1.91,1.91,0,0,1-.58,1.4L9.25,21ZM18.45,9,17,7.55Zm-12,3A5.31,5.31,0,0,0,4.9,8.1,5.31,5.31,0,0,0,1,6.5,5.31,5.31,0,0,0,4.9,4.9,5.31,5.31,0,0,0,6.5,1,5.31,5.31,0,0,0,8.1,4.9,5.31,5.31,0,0,0,12,6.5,5.46,5.46,0,0,0,6.5,12Z\"/>\n",
              "  </svg>\n",
              "    </button>\n",
              "    <script>\n",
              "      (() => {\n",
              "      const buttonEl =\n",
              "        document.querySelector('#id_82cdd56f-ddc5-44f3-89bc-7ea5750432c8 button.colab-df-generate');\n",
              "      buttonEl.style.display =\n",
              "        google.colab.kernel.accessAllowed ? 'block' : 'none';\n",
              "\n",
              "      buttonEl.onclick = () => {\n",
              "        google.colab.notebook.generateWithVariable('df_filled');\n",
              "      }\n",
              "      })();\n",
              "    </script>\n",
              "  </div>\n",
              "\n",
              "    </div>\n",
              "  </div>\n"
            ],
            "application/vnd.google.colaboratory.intrinsic+json": {
              "type": "dataframe",
              "variable_name": "df_filled",
              "summary": "{\n  \"name\": \"df_filled\",\n  \"rows\": 1134,\n  \"fields\": [\n    {\n      \"column\": \"Country\",\n      \"properties\": {\n        \"dtype\": \"category\",\n        \"num_unique_values\": 54,\n        \"samples\": [\n          \"Gabon\",\n          \"Togo\",\n          \"Tanzania\"\n        ],\n        \"semantic_type\": \"\",\n        \"description\": \"\"\n      }\n    },\n    {\n      \"column\": \"Sub-Region\",\n      \"properties\": {\n        \"dtype\": \"category\",\n        \"num_unique_values\": 5,\n        \"samples\": [\n          \"Middle Africa\",\n          \"Eastern Africa\",\n          \"Western Africa\"\n        ],\n        \"semantic_type\": \"\",\n        \"description\": \"\"\n      }\n    },\n    {\n      \"column\": \"Code\",\n      \"properties\": {\n        \"dtype\": \"category\",\n        \"num_unique_values\": 54,\n        \"samples\": [\n          \"GAB\",\n          \"TGO\",\n          \"TZA\"\n        ],\n        \"semantic_type\": \"\",\n        \"description\": \"\"\n      }\n    },\n    {\n      \"column\": \"Year\",\n      \"properties\": {\n        \"dtype\": \"number\",\n        \"std\": 6,\n        \"min\": 2000,\n        \"max\": 2020,\n        \"num_unique_values\": 21,\n        \"samples\": [\n          2000,\n          2017,\n          2015\n        ],\n        \"semantic_type\": \"\",\n        \"description\": \"\"\n      }\n    },\n    {\n      \"column\": \"Population\",\n      \"properties\": {\n        \"dtype\": \"number\",\n        \"std\": 28778021,\n        \"min\": 81131,\n        \"max\": 208327405,\n        \"num_unique_values\": 1134,\n        \"samples\": [\n          148294028,\n          96762,\n          1966855\n        ],\n        \"semantic_type\": \"\",\n        \"description\": \"\"\n      }\n    },\n    {\n      \"column\": \"GDP PER CAPITA (USD)\",\n      \"properties\": {\n        \"dtype\": \"number\",\n        \"std\": 2936.137466713644,\n        \"min\": 110.46,\n        \"max\": 19849.72,\n        \"num_unique_values\": 1106,\n        \"samples\": [\n          19849.72,\n          508.16,\n          1251.5\n        ],\n        \"semantic_type\": \"\",\n        \"description\": \"\"\n      }\n    },\n    {\n      \"column\": \"GDP PER CAPITA PPP (USD)\",\n      \"properties\": {\n        \"dtype\": \"number\",\n        \"std\": 5861.161035091288,\n        \"min\": 420.27,\n        \"max\": 33261.87,\n        \"num_unique_values\": 1086,\n        \"samples\": [\n          22143.83,\n          2745.86,\n          2774.65\n        ],\n        \"semantic_type\": \"\",\n        \"description\": \"\"\n      }\n    },\n    {\n      \"column\": \"Area (Km2)\",\n      \"properties\": {\n        \"dtype\": \"number\",\n        \"std\": 598382,\n        \"min\": 452,\n        \"max\": 2381741,\n        \"num_unique_values\": 54,\n        \"samples\": [\n          267668,\n          56785,\n          945087\n        ],\n        \"semantic_type\": \"\",\n        \"description\": \"\"\n      }\n    },\n    {\n      \"column\": \"Transportation (Mt)\",\n      \"properties\": {\n        \"dtype\": \"number\",\n        \"std\": 10.786445503093045,\n        \"min\": 0.01,\n        \"max\": 59.45,\n        \"num_unique_values\": 500,\n        \"samples\": [\n          18.95,\n          1.94,\n          2.05\n        ],\n        \"semantic_type\": \"\",\n        \"description\": \"\"\n      }\n    },\n    {\n      \"column\": \"Total CO2 Emission including LUCF (Mt)\",\n      \"properties\": {\n        \"dtype\": \"number\",\n        \"std\": 89.05776197446447,\n        \"min\": -10.41,\n        \"max\": 606.39,\n        \"num_unique_values\": 895,\n        \"samples\": [\n          3.84,\n          13.97,\n          1.52\n        ],\n        \"semantic_type\": \"\",\n        \"description\": \"\"\n      }\n    },\n    {\n      \"column\": \"Total CO2 Emission excluding LUCF (Mt)\",\n      \"properties\": {\n        \"dtype\": \"number\",\n        \"std\": 62.186060167565245,\n        \"min\": 0.05,\n        \"max\": 448.3,\n        \"num_unique_values\": 708,\n        \"samples\": [\n          5.02,\n          2.8,\n          14.32\n        ],\n        \"semantic_type\": \"\",\n        \"description\": \"\"\n      }\n    },\n    {\n      \"column\": \"Other Fuel Combustion (Mt)\",\n      \"properties\": {\n        \"dtype\": \"number\",\n        \"std\": 1.1840418897638736,\n        \"min\": 0.0,\n        \"max\": 8.68,\n        \"num_unique_values\": 193,\n        \"samples\": [\n          2.29,\n          4.18,\n          1.09\n        ],\n        \"semantic_type\": \"\",\n        \"description\": \"\"\n      }\n    },\n    {\n      \"column\": \"Manufacturing/Construction (Mt)\",\n      \"properties\": {\n        \"dtype\": \"number\",\n        \"std\": 7.7639105907517285,\n        \"min\": 0.0,\n        \"max\": 61.1,\n        \"num_unique_values\": 355,\n        \"samples\": [\n          1.52,\n          0.15,\n          7.25\n        ],\n        \"semantic_type\": \"\",\n        \"description\": \"\"\n      }\n    },\n    {\n      \"column\": \"Land-Use Change and Forestry (Mt)\",\n      \"properties\": {\n        \"dtype\": \"number\",\n        \"std\": 66.85978117976364,\n        \"min\": -24.95,\n        \"max\": 601.26,\n        \"num_unique_values\": 257,\n        \"samples\": [\n          8.63,\n          17.35,\n          29.87\n        ],\n        \"semantic_type\": \"\",\n        \"description\": \"\"\n      }\n    },\n    {\n      \"column\": \"Industrial Processes (Mt)\",\n      \"properties\": {\n        \"dtype\": \"number\",\n        \"std\": 2.838879700165133,\n        \"min\": 0.0,\n        \"max\": 22.82,\n        \"num_unique_values\": 272,\n        \"samples\": [\n          0.58,\n          3.29,\n          0.11\n        ],\n        \"semantic_type\": \"\",\n        \"description\": \"\"\n      }\n    },\n    {\n      \"column\": \"Energy (Mt)\",\n      \"properties\": {\n        \"dtype\": \"number\",\n        \"std\": 60.34881274665353,\n        \"min\": 0.05,\n        \"max\": 443.39,\n        \"num_unique_values\": 708,\n        \"samples\": [\n          4.62,\n          6.33,\n          18.01\n        ],\n        \"semantic_type\": \"\",\n        \"description\": \"\"\n      }\n    },\n    {\n      \"column\": \"Electricity/Heat (Mt)\",\n      \"properties\": {\n        \"dtype\": \"number\",\n        \"std\": 38.264274585898,\n        \"min\": 0.0,\n        \"max\": 311.55,\n        \"num_unique_values\": 413,\n        \"samples\": [\n          1.9,\n          1.47,\n          4.68\n        ],\n        \"semantic_type\": \"\",\n        \"description\": \"\"\n      }\n    },\n    {\n      \"column\": \"Bunker Fuels (Mt)\",\n      \"properties\": {\n        \"dtype\": \"number\",\n        \"std\": 1.8857211874367072,\n        \"min\": 0.0,\n        \"max\": 14.79,\n        \"num_unique_values\": 233,\n        \"samples\": [\n          0.74,\n          10.93,\n          0.87\n        ],\n        \"semantic_type\": \"\",\n        \"description\": \"\"\n      }\n    },\n    {\n      \"column\": \"Building (Mt)\",\n      \"properties\": {\n        \"dtype\": \"number\",\n        \"std\": 4.280751794076291,\n        \"min\": 0.0,\n        \"max\": 33.97,\n        \"num_unique_values\": 267,\n        \"samples\": [\n          0.57,\n          0.82,\n          1.06\n        ],\n        \"semantic_type\": \"\",\n        \"description\": \"\"\n      }\n    }\n  ]\n}"
            }
          },
          "metadata": {},
          "execution_count": 168
        }
      ],
      "execution_count": null
    },
    {
      "cell_type": "code",
      "source": [
        "#save a copy of the cleaned data\n",
        "df_filled.to_csv('/content/drive/My Drive/Easy_pytorch/co2_Emission_Africa_cleaned.csv', index=False)"
      ],
      "metadata": {
        "trusted": true,
        "execution": {
          "iopub.status.busy": "2025-07-15T06:22:05.208755Z",
          "iopub.execute_input": "2025-07-15T06:22:05.208971Z",
          "iopub.status.idle": "2025-07-15T06:22:05.236772Z",
          "shell.execute_reply.started": "2025-07-15T06:22:05.208952Z",
          "shell.execute_reply": "2025-07-15T06:22:05.235998Z"
        },
        "id": "yf-LSOyBtXJR"
      },
      "outputs": [],
      "execution_count": null
    },
    {
      "cell_type": "code",
      "source": [
        "#load cleaned data\n",
        "data=pd.read_csv('/content/drive/My Drive/Easy_pytorch/co2_Emission_Africa_cleaned.csv')\n",
        "data.head()"
      ],
      "metadata": {
        "trusted": true,
        "execution": {
          "iopub.status.busy": "2025-07-15T06:22:05.237606Z",
          "iopub.execute_input": "2025-07-15T06:22:05.238164Z",
          "iopub.status.idle": "2025-07-15T06:22:05.259695Z",
          "shell.execute_reply.started": "2025-07-15T06:22:05.238132Z",
          "shell.execute_reply": "2025-07-15T06:22:05.259029Z"
        },
        "colab": {
          "base_uri": "https://localhost:8080/",
          "height": 382
        },
        "id": "7iGPsKQxtXJR",
        "outputId": "79b7c859-f96e-4268-8344-41e679778846"
      },
      "outputs": [
        {
          "output_type": "execute_result",
          "data": {
            "text/plain": [
              "   Country       Sub-Region Code  Year  Population  GDP PER CAPITA (USD)  \\\n",
              "0  Algeria  Northern Africa  DZA  2000    30774621               1780.38   \n",
              "1  Algeria  Northern Africa  DZA  2001    31200985               1754.58   \n",
              "2  Algeria  Northern Africa  DZA  2002    31624696               1794.81   \n",
              "3  Algeria  Northern Africa  DZA  2003    32055883               2117.05   \n",
              "4  Algeria  Northern Africa  DZA  2004    32510186               2624.80   \n",
              "\n",
              "   GDP PER CAPITA PPP (USD)  Area (Km2)  Transportation (Mt)  \\\n",
              "0                   8510.36     2381741                16.85   \n",
              "1                   8840.67     2381741                17.04   \n",
              "2                   9354.22     2381741                19.36   \n",
              "3                  10088.09     2381741                21.76   \n",
              "4                  10653.34     2381741                22.03   \n",
              "\n",
              "   Total CO2 Emission including LUCF (Mt)  \\\n",
              "0                                   80.62   \n",
              "1                                   76.24   \n",
              "2                                   80.00   \n",
              "3                                   85.78   \n",
              "4                                   87.09   \n",
              "\n",
              "   Total CO2 Emission excluding LUCF (Mt)  Other Fuel Combustion (Mt)  \\\n",
              "0                                   80.05                         0.0   \n",
              "1                                   78.65                         0.0   \n",
              "2                                   82.40                         0.0   \n",
              "3                                   88.19                         0.0   \n",
              "4                                   89.49                         0.0   \n",
              "\n",
              "   Manufacturing/Construction (Mt)  Land-Use Change and Forestry (Mt)  \\\n",
              "0                             6.16                               0.57   \n",
              "1                             6.25                              -2.41   \n",
              "2                             6.62                              -2.41   \n",
              "3                             7.01                              -2.41   \n",
              "4                             8.09                              -2.41   \n",
              "\n",
              "   Industrial Processes (Mt)  Energy (Mt)  Electricity/Heat (Mt)  \\\n",
              "0                       3.79        76.26                  29.17   \n",
              "1                       3.77        74.88                  30.20   \n",
              "2                       4.06        78.35                  32.28   \n",
              "3                       4.03        84.16                  32.53   \n",
              "4                       4.90        84.60                  31.75   \n",
              "\n",
              "   Bunker Fuels (Mt)  Building (Mt)  \n",
              "0               1.96           9.33  \n",
              "1               1.98           9.53  \n",
              "2               2.17           9.89  \n",
              "3               1.89          10.68  \n",
              "4               2.19          11.52  "
            ],
            "text/html": [
              "\n",
              "  <div id=\"df-aaa4d8a6-d3bd-4d90-a262-aadb4de3f370\" class=\"colab-df-container\">\n",
              "    <div>\n",
              "<style scoped>\n",
              "    .dataframe tbody tr th:only-of-type {\n",
              "        vertical-align: middle;\n",
              "    }\n",
              "\n",
              "    .dataframe tbody tr th {\n",
              "        vertical-align: top;\n",
              "    }\n",
              "\n",
              "    .dataframe thead th {\n",
              "        text-align: right;\n",
              "    }\n",
              "</style>\n",
              "<table border=\"1\" class=\"dataframe\">\n",
              "  <thead>\n",
              "    <tr style=\"text-align: right;\">\n",
              "      <th></th>\n",
              "      <th>Country</th>\n",
              "      <th>Sub-Region</th>\n",
              "      <th>Code</th>\n",
              "      <th>Year</th>\n",
              "      <th>Population</th>\n",
              "      <th>GDP PER CAPITA (USD)</th>\n",
              "      <th>GDP PER CAPITA PPP (USD)</th>\n",
              "      <th>Area (Km2)</th>\n",
              "      <th>Transportation (Mt)</th>\n",
              "      <th>Total CO2 Emission including LUCF (Mt)</th>\n",
              "      <th>Total CO2 Emission excluding LUCF (Mt)</th>\n",
              "      <th>Other Fuel Combustion (Mt)</th>\n",
              "      <th>Manufacturing/Construction (Mt)</th>\n",
              "      <th>Land-Use Change and Forestry (Mt)</th>\n",
              "      <th>Industrial Processes (Mt)</th>\n",
              "      <th>Energy (Mt)</th>\n",
              "      <th>Electricity/Heat (Mt)</th>\n",
              "      <th>Bunker Fuels (Mt)</th>\n",
              "      <th>Building (Mt)</th>\n",
              "    </tr>\n",
              "  </thead>\n",
              "  <tbody>\n",
              "    <tr>\n",
              "      <th>0</th>\n",
              "      <td>Algeria</td>\n",
              "      <td>Northern Africa</td>\n",
              "      <td>DZA</td>\n",
              "      <td>2000</td>\n",
              "      <td>30774621</td>\n",
              "      <td>1780.38</td>\n",
              "      <td>8510.36</td>\n",
              "      <td>2381741</td>\n",
              "      <td>16.85</td>\n",
              "      <td>80.62</td>\n",
              "      <td>80.05</td>\n",
              "      <td>0.0</td>\n",
              "      <td>6.16</td>\n",
              "      <td>0.57</td>\n",
              "      <td>3.79</td>\n",
              "      <td>76.26</td>\n",
              "      <td>29.17</td>\n",
              "      <td>1.96</td>\n",
              "      <td>9.33</td>\n",
              "    </tr>\n",
              "    <tr>\n",
              "      <th>1</th>\n",
              "      <td>Algeria</td>\n",
              "      <td>Northern Africa</td>\n",
              "      <td>DZA</td>\n",
              "      <td>2001</td>\n",
              "      <td>31200985</td>\n",
              "      <td>1754.58</td>\n",
              "      <td>8840.67</td>\n",
              "      <td>2381741</td>\n",
              "      <td>17.04</td>\n",
              "      <td>76.24</td>\n",
              "      <td>78.65</td>\n",
              "      <td>0.0</td>\n",
              "      <td>6.25</td>\n",
              "      <td>-2.41</td>\n",
              "      <td>3.77</td>\n",
              "      <td>74.88</td>\n",
              "      <td>30.20</td>\n",
              "      <td>1.98</td>\n",
              "      <td>9.53</td>\n",
              "    </tr>\n",
              "    <tr>\n",
              "      <th>2</th>\n",
              "      <td>Algeria</td>\n",
              "      <td>Northern Africa</td>\n",
              "      <td>DZA</td>\n",
              "      <td>2002</td>\n",
              "      <td>31624696</td>\n",
              "      <td>1794.81</td>\n",
              "      <td>9354.22</td>\n",
              "      <td>2381741</td>\n",
              "      <td>19.36</td>\n",
              "      <td>80.00</td>\n",
              "      <td>82.40</td>\n",
              "      <td>0.0</td>\n",
              "      <td>6.62</td>\n",
              "      <td>-2.41</td>\n",
              "      <td>4.06</td>\n",
              "      <td>78.35</td>\n",
              "      <td>32.28</td>\n",
              "      <td>2.17</td>\n",
              "      <td>9.89</td>\n",
              "    </tr>\n",
              "    <tr>\n",
              "      <th>3</th>\n",
              "      <td>Algeria</td>\n",
              "      <td>Northern Africa</td>\n",
              "      <td>DZA</td>\n",
              "      <td>2003</td>\n",
              "      <td>32055883</td>\n",
              "      <td>2117.05</td>\n",
              "      <td>10088.09</td>\n",
              "      <td>2381741</td>\n",
              "      <td>21.76</td>\n",
              "      <td>85.78</td>\n",
              "      <td>88.19</td>\n",
              "      <td>0.0</td>\n",
              "      <td>7.01</td>\n",
              "      <td>-2.41</td>\n",
              "      <td>4.03</td>\n",
              "      <td>84.16</td>\n",
              "      <td>32.53</td>\n",
              "      <td>1.89</td>\n",
              "      <td>10.68</td>\n",
              "    </tr>\n",
              "    <tr>\n",
              "      <th>4</th>\n",
              "      <td>Algeria</td>\n",
              "      <td>Northern Africa</td>\n",
              "      <td>DZA</td>\n",
              "      <td>2004</td>\n",
              "      <td>32510186</td>\n",
              "      <td>2624.80</td>\n",
              "      <td>10653.34</td>\n",
              "      <td>2381741</td>\n",
              "      <td>22.03</td>\n",
              "      <td>87.09</td>\n",
              "      <td>89.49</td>\n",
              "      <td>0.0</td>\n",
              "      <td>8.09</td>\n",
              "      <td>-2.41</td>\n",
              "      <td>4.90</td>\n",
              "      <td>84.60</td>\n",
              "      <td>31.75</td>\n",
              "      <td>2.19</td>\n",
              "      <td>11.52</td>\n",
              "    </tr>\n",
              "  </tbody>\n",
              "</table>\n",
              "</div>\n",
              "    <div class=\"colab-df-buttons\">\n",
              "\n",
              "  <div class=\"colab-df-container\">\n",
              "    <button class=\"colab-df-convert\" onclick=\"convertToInteractive('df-aaa4d8a6-d3bd-4d90-a262-aadb4de3f370')\"\n",
              "            title=\"Convert this dataframe to an interactive table.\"\n",
              "            style=\"display:none;\">\n",
              "\n",
              "  <svg xmlns=\"http://www.w3.org/2000/svg\" height=\"24px\" viewBox=\"0 -960 960 960\">\n",
              "    <path d=\"M120-120v-720h720v720H120Zm60-500h600v-160H180v160Zm220 220h160v-160H400v160Zm0 220h160v-160H400v160ZM180-400h160v-160H180v160Zm440 0h160v-160H620v160ZM180-180h160v-160H180v160Zm440 0h160v-160H620v160Z\"/>\n",
              "  </svg>\n",
              "    </button>\n",
              "\n",
              "  <style>\n",
              "    .colab-df-container {\n",
              "      display:flex;\n",
              "      gap: 12px;\n",
              "    }\n",
              "\n",
              "    .colab-df-convert {\n",
              "      background-color: #E8F0FE;\n",
              "      border: none;\n",
              "      border-radius: 50%;\n",
              "      cursor: pointer;\n",
              "      display: none;\n",
              "      fill: #1967D2;\n",
              "      height: 32px;\n",
              "      padding: 0 0 0 0;\n",
              "      width: 32px;\n",
              "    }\n",
              "\n",
              "    .colab-df-convert:hover {\n",
              "      background-color: #E2EBFA;\n",
              "      box-shadow: 0px 1px 2px rgba(60, 64, 67, 0.3), 0px 1px 3px 1px rgba(60, 64, 67, 0.15);\n",
              "      fill: #174EA6;\n",
              "    }\n",
              "\n",
              "    .colab-df-buttons div {\n",
              "      margin-bottom: 4px;\n",
              "    }\n",
              "\n",
              "    [theme=dark] .colab-df-convert {\n",
              "      background-color: #3B4455;\n",
              "      fill: #D2E3FC;\n",
              "    }\n",
              "\n",
              "    [theme=dark] .colab-df-convert:hover {\n",
              "      background-color: #434B5C;\n",
              "      box-shadow: 0px 1px 3px 1px rgba(0, 0, 0, 0.15);\n",
              "      filter: drop-shadow(0px 1px 2px rgba(0, 0, 0, 0.3));\n",
              "      fill: #FFFFFF;\n",
              "    }\n",
              "  </style>\n",
              "\n",
              "    <script>\n",
              "      const buttonEl =\n",
              "        document.querySelector('#df-aaa4d8a6-d3bd-4d90-a262-aadb4de3f370 button.colab-df-convert');\n",
              "      buttonEl.style.display =\n",
              "        google.colab.kernel.accessAllowed ? 'block' : 'none';\n",
              "\n",
              "      async function convertToInteractive(key) {\n",
              "        const element = document.querySelector('#df-aaa4d8a6-d3bd-4d90-a262-aadb4de3f370');\n",
              "        const dataTable =\n",
              "          await google.colab.kernel.invokeFunction('convertToInteractive',\n",
              "                                                    [key], {});\n",
              "        if (!dataTable) return;\n",
              "\n",
              "        const docLinkHtml = 'Like what you see? Visit the ' +\n",
              "          '<a target=\"_blank\" href=https://colab.research.google.com/notebooks/data_table.ipynb>data table notebook</a>'\n",
              "          + ' to learn more about interactive tables.';\n",
              "        element.innerHTML = '';\n",
              "        dataTable['output_type'] = 'display_data';\n",
              "        await google.colab.output.renderOutput(dataTable, element);\n",
              "        const docLink = document.createElement('div');\n",
              "        docLink.innerHTML = docLinkHtml;\n",
              "        element.appendChild(docLink);\n",
              "      }\n",
              "    </script>\n",
              "  </div>\n",
              "\n",
              "\n",
              "    <div id=\"df-8bc3d436-146d-44c5-9e53-72a743605b5a\">\n",
              "      <button class=\"colab-df-quickchart\" onclick=\"quickchart('df-8bc3d436-146d-44c5-9e53-72a743605b5a')\"\n",
              "                title=\"Suggest charts\"\n",
              "                style=\"display:none;\">\n",
              "\n",
              "<svg xmlns=\"http://www.w3.org/2000/svg\" height=\"24px\"viewBox=\"0 0 24 24\"\n",
              "     width=\"24px\">\n",
              "    <g>\n",
              "        <path d=\"M19 3H5c-1.1 0-2 .9-2 2v14c0 1.1.9 2 2 2h14c1.1 0 2-.9 2-2V5c0-1.1-.9-2-2-2zM9 17H7v-7h2v7zm4 0h-2V7h2v10zm4 0h-2v-4h2v4z\"/>\n",
              "    </g>\n",
              "</svg>\n",
              "      </button>\n",
              "\n",
              "<style>\n",
              "  .colab-df-quickchart {\n",
              "      --bg-color: #E8F0FE;\n",
              "      --fill-color: #1967D2;\n",
              "      --hover-bg-color: #E2EBFA;\n",
              "      --hover-fill-color: #174EA6;\n",
              "      --disabled-fill-color: #AAA;\n",
              "      --disabled-bg-color: #DDD;\n",
              "  }\n",
              "\n",
              "  [theme=dark] .colab-df-quickchart {\n",
              "      --bg-color: #3B4455;\n",
              "      --fill-color: #D2E3FC;\n",
              "      --hover-bg-color: #434B5C;\n",
              "      --hover-fill-color: #FFFFFF;\n",
              "      --disabled-bg-color: #3B4455;\n",
              "      --disabled-fill-color: #666;\n",
              "  }\n",
              "\n",
              "  .colab-df-quickchart {\n",
              "    background-color: var(--bg-color);\n",
              "    border: none;\n",
              "    border-radius: 50%;\n",
              "    cursor: pointer;\n",
              "    display: none;\n",
              "    fill: var(--fill-color);\n",
              "    height: 32px;\n",
              "    padding: 0;\n",
              "    width: 32px;\n",
              "  }\n",
              "\n",
              "  .colab-df-quickchart:hover {\n",
              "    background-color: var(--hover-bg-color);\n",
              "    box-shadow: 0 1px 2px rgba(60, 64, 67, 0.3), 0 1px 3px 1px rgba(60, 64, 67, 0.15);\n",
              "    fill: var(--button-hover-fill-color);\n",
              "  }\n",
              "\n",
              "  .colab-df-quickchart-complete:disabled,\n",
              "  .colab-df-quickchart-complete:disabled:hover {\n",
              "    background-color: var(--disabled-bg-color);\n",
              "    fill: var(--disabled-fill-color);\n",
              "    box-shadow: none;\n",
              "  }\n",
              "\n",
              "  .colab-df-spinner {\n",
              "    border: 2px solid var(--fill-color);\n",
              "    border-color: transparent;\n",
              "    border-bottom-color: var(--fill-color);\n",
              "    animation:\n",
              "      spin 1s steps(1) infinite;\n",
              "  }\n",
              "\n",
              "  @keyframes spin {\n",
              "    0% {\n",
              "      border-color: transparent;\n",
              "      border-bottom-color: var(--fill-color);\n",
              "      border-left-color: var(--fill-color);\n",
              "    }\n",
              "    20% {\n",
              "      border-color: transparent;\n",
              "      border-left-color: var(--fill-color);\n",
              "      border-top-color: var(--fill-color);\n",
              "    }\n",
              "    30% {\n",
              "      border-color: transparent;\n",
              "      border-left-color: var(--fill-color);\n",
              "      border-top-color: var(--fill-color);\n",
              "      border-right-color: var(--fill-color);\n",
              "    }\n",
              "    40% {\n",
              "      border-color: transparent;\n",
              "      border-right-color: var(--fill-color);\n",
              "      border-top-color: var(--fill-color);\n",
              "    }\n",
              "    60% {\n",
              "      border-color: transparent;\n",
              "      border-right-color: var(--fill-color);\n",
              "    }\n",
              "    80% {\n",
              "      border-color: transparent;\n",
              "      border-right-color: var(--fill-color);\n",
              "      border-bottom-color: var(--fill-color);\n",
              "    }\n",
              "    90% {\n",
              "      border-color: transparent;\n",
              "      border-bottom-color: var(--fill-color);\n",
              "    }\n",
              "  }\n",
              "</style>\n",
              "\n",
              "      <script>\n",
              "        async function quickchart(key) {\n",
              "          const quickchartButtonEl =\n",
              "            document.querySelector('#' + key + ' button');\n",
              "          quickchartButtonEl.disabled = true;  // To prevent multiple clicks.\n",
              "          quickchartButtonEl.classList.add('colab-df-spinner');\n",
              "          try {\n",
              "            const charts = await google.colab.kernel.invokeFunction(\n",
              "                'suggestCharts', [key], {});\n",
              "          } catch (error) {\n",
              "            console.error('Error during call to suggestCharts:', error);\n",
              "          }\n",
              "          quickchartButtonEl.classList.remove('colab-df-spinner');\n",
              "          quickchartButtonEl.classList.add('colab-df-quickchart-complete');\n",
              "        }\n",
              "        (() => {\n",
              "          let quickchartButtonEl =\n",
              "            document.querySelector('#df-8bc3d436-146d-44c5-9e53-72a743605b5a button');\n",
              "          quickchartButtonEl.style.display =\n",
              "            google.colab.kernel.accessAllowed ? 'block' : 'none';\n",
              "        })();\n",
              "      </script>\n",
              "    </div>\n",
              "\n",
              "    </div>\n",
              "  </div>\n"
            ],
            "application/vnd.google.colaboratory.intrinsic+json": {
              "type": "dataframe",
              "variable_name": "data",
              "summary": "{\n  \"name\": \"data\",\n  \"rows\": 1134,\n  \"fields\": [\n    {\n      \"column\": \"Country\",\n      \"properties\": {\n        \"dtype\": \"category\",\n        \"num_unique_values\": 54,\n        \"samples\": [\n          \"Gabon\",\n          \"Togo\",\n          \"Tanzania\"\n        ],\n        \"semantic_type\": \"\",\n        \"description\": \"\"\n      }\n    },\n    {\n      \"column\": \"Sub-Region\",\n      \"properties\": {\n        \"dtype\": \"category\",\n        \"num_unique_values\": 5,\n        \"samples\": [\n          \"Middle Africa\",\n          \"Eastern Africa\",\n          \"Western Africa\"\n        ],\n        \"semantic_type\": \"\",\n        \"description\": \"\"\n      }\n    },\n    {\n      \"column\": \"Code\",\n      \"properties\": {\n        \"dtype\": \"category\",\n        \"num_unique_values\": 54,\n        \"samples\": [\n          \"GAB\",\n          \"TGO\",\n          \"TZA\"\n        ],\n        \"semantic_type\": \"\",\n        \"description\": \"\"\n      }\n    },\n    {\n      \"column\": \"Year\",\n      \"properties\": {\n        \"dtype\": \"number\",\n        \"std\": 6,\n        \"min\": 2000,\n        \"max\": 2020,\n        \"num_unique_values\": 21,\n        \"samples\": [\n          2000,\n          2017,\n          2015\n        ],\n        \"semantic_type\": \"\",\n        \"description\": \"\"\n      }\n    },\n    {\n      \"column\": \"Population\",\n      \"properties\": {\n        \"dtype\": \"number\",\n        \"std\": 28778021,\n        \"min\": 81131,\n        \"max\": 208327405,\n        \"num_unique_values\": 1134,\n        \"samples\": [\n          148294028,\n          96762,\n          1966855\n        ],\n        \"semantic_type\": \"\",\n        \"description\": \"\"\n      }\n    },\n    {\n      \"column\": \"GDP PER CAPITA (USD)\",\n      \"properties\": {\n        \"dtype\": \"number\",\n        \"std\": 2936.137466713644,\n        \"min\": 110.46,\n        \"max\": 19849.72,\n        \"num_unique_values\": 1106,\n        \"samples\": [\n          19849.72,\n          508.16,\n          1251.5\n        ],\n        \"semantic_type\": \"\",\n        \"description\": \"\"\n      }\n    },\n    {\n      \"column\": \"GDP PER CAPITA PPP (USD)\",\n      \"properties\": {\n        \"dtype\": \"number\",\n        \"std\": 5861.161035091288,\n        \"min\": 420.27,\n        \"max\": 33261.87,\n        \"num_unique_values\": 1086,\n        \"samples\": [\n          22143.83,\n          2745.86,\n          2774.65\n        ],\n        \"semantic_type\": \"\",\n        \"description\": \"\"\n      }\n    },\n    {\n      \"column\": \"Area (Km2)\",\n      \"properties\": {\n        \"dtype\": \"number\",\n        \"std\": 598382,\n        \"min\": 452,\n        \"max\": 2381741,\n        \"num_unique_values\": 54,\n        \"samples\": [\n          267668,\n          56785,\n          945087\n        ],\n        \"semantic_type\": \"\",\n        \"description\": \"\"\n      }\n    },\n    {\n      \"column\": \"Transportation (Mt)\",\n      \"properties\": {\n        \"dtype\": \"number\",\n        \"std\": 10.786445503093045,\n        \"min\": 0.01,\n        \"max\": 59.45,\n        \"num_unique_values\": 500,\n        \"samples\": [\n          18.95,\n          1.94,\n          2.05\n        ],\n        \"semantic_type\": \"\",\n        \"description\": \"\"\n      }\n    },\n    {\n      \"column\": \"Total CO2 Emission including LUCF (Mt)\",\n      \"properties\": {\n        \"dtype\": \"number\",\n        \"std\": 89.05776197446447,\n        \"min\": -10.41,\n        \"max\": 606.39,\n        \"num_unique_values\": 895,\n        \"samples\": [\n          3.84,\n          13.97,\n          1.52\n        ],\n        \"semantic_type\": \"\",\n        \"description\": \"\"\n      }\n    },\n    {\n      \"column\": \"Total CO2 Emission excluding LUCF (Mt)\",\n      \"properties\": {\n        \"dtype\": \"number\",\n        \"std\": 62.186060167565245,\n        \"min\": 0.05,\n        \"max\": 448.3,\n        \"num_unique_values\": 708,\n        \"samples\": [\n          5.02,\n          2.8,\n          14.32\n        ],\n        \"semantic_type\": \"\",\n        \"description\": \"\"\n      }\n    },\n    {\n      \"column\": \"Other Fuel Combustion (Mt)\",\n      \"properties\": {\n        \"dtype\": \"number\",\n        \"std\": 1.1840418897638736,\n        \"min\": 0.0,\n        \"max\": 8.68,\n        \"num_unique_values\": 193,\n        \"samples\": [\n          2.29,\n          4.18,\n          1.09\n        ],\n        \"semantic_type\": \"\",\n        \"description\": \"\"\n      }\n    },\n    {\n      \"column\": \"Manufacturing/Construction (Mt)\",\n      \"properties\": {\n        \"dtype\": \"number\",\n        \"std\": 7.7639105907517285,\n        \"min\": 0.0,\n        \"max\": 61.1,\n        \"num_unique_values\": 355,\n        \"samples\": [\n          1.52,\n          0.15,\n          7.25\n        ],\n        \"semantic_type\": \"\",\n        \"description\": \"\"\n      }\n    },\n    {\n      \"column\": \"Land-Use Change and Forestry (Mt)\",\n      \"properties\": {\n        \"dtype\": \"number\",\n        \"std\": 66.85978117976364,\n        \"min\": -24.95,\n        \"max\": 601.26,\n        \"num_unique_values\": 257,\n        \"samples\": [\n          8.63,\n          17.35,\n          29.87\n        ],\n        \"semantic_type\": \"\",\n        \"description\": \"\"\n      }\n    },\n    {\n      \"column\": \"Industrial Processes (Mt)\",\n      \"properties\": {\n        \"dtype\": \"number\",\n        \"std\": 2.838879700165133,\n        \"min\": 0.0,\n        \"max\": 22.82,\n        \"num_unique_values\": 272,\n        \"samples\": [\n          0.58,\n          3.29,\n          0.11\n        ],\n        \"semantic_type\": \"\",\n        \"description\": \"\"\n      }\n    },\n    {\n      \"column\": \"Energy (Mt)\",\n      \"properties\": {\n        \"dtype\": \"number\",\n        \"std\": 60.34881274665353,\n        \"min\": 0.05,\n        \"max\": 443.39,\n        \"num_unique_values\": 708,\n        \"samples\": [\n          4.62,\n          6.33,\n          18.01\n        ],\n        \"semantic_type\": \"\",\n        \"description\": \"\"\n      }\n    },\n    {\n      \"column\": \"Electricity/Heat (Mt)\",\n      \"properties\": {\n        \"dtype\": \"number\",\n        \"std\": 38.264274585898,\n        \"min\": 0.0,\n        \"max\": 311.55,\n        \"num_unique_values\": 413,\n        \"samples\": [\n          1.9,\n          1.47,\n          4.68\n        ],\n        \"semantic_type\": \"\",\n        \"description\": \"\"\n      }\n    },\n    {\n      \"column\": \"Bunker Fuels (Mt)\",\n      \"properties\": {\n        \"dtype\": \"number\",\n        \"std\": 1.8857211874367072,\n        \"min\": 0.0,\n        \"max\": 14.79,\n        \"num_unique_values\": 233,\n        \"samples\": [\n          0.74,\n          10.93,\n          0.87\n        ],\n        \"semantic_type\": \"\",\n        \"description\": \"\"\n      }\n    },\n    {\n      \"column\": \"Building (Mt)\",\n      \"properties\": {\n        \"dtype\": \"number\",\n        \"std\": 4.280751794076291,\n        \"min\": 0.0,\n        \"max\": 33.97,\n        \"num_unique_values\": 267,\n        \"samples\": [\n          0.57,\n          0.82,\n          1.06\n        ],\n        \"semantic_type\": \"\",\n        \"description\": \"\"\n      }\n    }\n  ]\n}"
            }
          },
          "metadata": {},
          "execution_count": 170
        }
      ],
      "execution_count": null
    },
    {
      "cell_type": "code",
      "source": [
        "# Compute correlation matrix (only numeric columns)\n",
        "corr_matrix = df.corr(numeric_only=True)\n",
        "\n",
        "#print(\"Correlation matrix:\\n\", corr_matrix)"
      ],
      "metadata": {
        "trusted": true,
        "execution": {
          "iopub.status.busy": "2025-07-15T06:22:05.260332Z",
          "iopub.execute_input": "2025-07-15T06:22:05.260524Z",
          "iopub.status.idle": "2025-07-15T06:22:05.266263Z",
          "shell.execute_reply.started": "2025-07-15T06:22:05.260507Z",
          "shell.execute_reply": "2025-07-15T06:22:05.265639Z"
        },
        "id": "wuSVgkdqtXJR"
      },
      "outputs": [],
      "execution_count": null
    },
    {
      "cell_type": "code",
      "source": [
        "#visuallise with heat map\n",
        "plt.figure(figsize=(10, 8))\n",
        "sns.heatmap(\n",
        "    corr_matrix,\n",
        "    annot=True,        # Show correlation values\n",
        "    fmt=\".2f\",         # Format floats\n",
        "    cmap='coolwarm',   # Color palette\n",
        "    square=True,\n",
        "    cbar_kws={\"shrink\": .8},\n",
        "    linewidths=0.5\n",
        ")\n",
        "plt.title('Correlation Matrix Heatmap')\n",
        "plt.show()"
      ],
      "metadata": {
        "trusted": true,
        "execution": {
          "iopub.status.busy": "2025-07-15T06:22:05.266994Z",
          "iopub.execute_input": "2025-07-15T06:22:05.267275Z",
          "iopub.status.idle": "2025-07-15T06:22:06.051032Z",
          "shell.execute_reply.started": "2025-07-15T06:22:05.267247Z",
          "shell.execute_reply": "2025-07-15T06:22:06.050182Z"
        },
        "id": "-lP4VVbAtXJR",
        "colab": {
          "base_uri": "https://localhost:8080/",
          "height": 960
        },
        "outputId": "7b2fe45a-6b7d-4918-e665-64ab88979036"
      },
      "outputs": [
        {
          "output_type": "display_data",
          "data": {
            "text/plain": [
              "<Figure size 1000x800 with 2 Axes>"
            ],
            "image/png": "[encoded data removed]"
          },
          "metadata": {}
        }
      ],
      "execution_count": null
    },
    {
      "cell_type": "code",
      "source": [
        "plt.figure(figsize=(14, 8))\n",
        "\n",
        "sns.lineplot(\n",
        "    data=df,\n",
        "    x='Year',\n",
        "    y='Total CO2 Emission excluding LUCF (Mt)',\n",
        "    hue='Country',\n",
        "    marker='o'\n",
        ")\n",
        "\n",
        "plt.title('CO₂ Emissions Over Time for All African Countries')\n",
        "plt.xlabel('Year')\n",
        "plt.ylabel('CO₂ Emission')\n",
        "plt.legend(title='Country', bbox_to_anchor=(1.05, 1), loc='upper left')\n",
        "plt.xticks(rotation=45)\n",
        "plt.tight_layout()\n",
        "plt.show()\n"
      ],
      "metadata": {
        "trusted": true,
        "execution": {
          "iopub.status.busy": "2025-07-15T06:22:06.052021Z",
          "iopub.execute_input": "2025-07-15T06:22:06.052327Z",
          "iopub.status.idle": "2025-07-15T06:22:06.971634Z",
          "shell.execute_reply.started": "2025-07-15T06:22:06.052287Z",
          "shell.execute_reply": "2025-07-15T06:22:06.970771Z"
        },
        "id": "PyefZYCytXJR",
        "colab": {
          "base_uri": "https://localhost:8080/",
          "height": 1000
        },
        "outputId": "6270f3f9-9112-46b4-e2dc-a119c6f55bcf"
      },
      "outputs": [
        {
          "output_type": "display_data",
          "data": {
            "text/plain": [
              "<Figure size 1400x800 with 1 Axes>"
            ],
            "image/png": "[encoded data removed]"
          },
          "metadata": {}
        }
      ],
      "execution_count": null
    },
    {
      "cell_type": "code",
      "source": [
        "countries = ['Kenya', 'South Africa', 'Nigeria']\n",
        "df_filtered = df[df['Country'].isin(countries)]\n",
        "#print(df_filtered.head())\n",
        "plt.figure(figsize=(12, 6))\n",
        "\n",
        "sns.lineplot(\n",
        "    data=df_filtered,\n",
        "    x='Year',\n",
        "    y='Total CO2 Emission excluding LUCF (Mt)',\n",
        "    hue='Country',\n",
        "    marker='o'\n",
        ")\n",
        "\n",
        "plt.title('CO₂ Emissions Over Time for Kenya, South Africa, and Nigeria')\n",
        "plt.xlabel('Year')\n",
        "plt.ylabel('CO₂ Emission')\n",
        "plt.legend(title='Country')\n",
        "plt.xticks(rotation=45)\n",
        "plt.tight_layout()\n",
        "plt.show()"
      ],
      "metadata": {
        "trusted": true,
        "execution": {
          "iopub.status.busy": "2025-07-15T06:22:06.972550Z",
          "iopub.execute_input": "2025-07-15T06:22:06.972829Z",
          "iopub.status.idle": "2025-07-15T06:22:07.251179Z",
          "shell.execute_reply.started": "2025-07-15T06:22:06.972801Z",
          "shell.execute_reply": "2025-07-15T06:22:07.250333Z"
        },
        "id": "Vvkizj12tXJR",
        "colab": {
          "base_uri": "https://localhost:8080/",
          "height": 607
        },
        "outputId": "f20f5451-025b-48d1-d07d-6f29295e2dc3"
      },
      "outputs": [
        {
          "output_type": "display_data",
          "data": {
            "text/plain": [
              "<Figure size 1200x600 with 1 Axes>"
            ],
            "image/png": "[encoded data removed]"
          },
          "metadata": {}
        }
      ],
      "execution_count": null
    },
    {
      "cell_type": "code",
      "source": [
        "\n",
        "#print(\"data shape before removing undefined value\", df.shape)\n",
        "#data = df[['GDP PER CAPITA (USD)', 'Total CO2 Emission excluding LUCF (Mt)']].dropna()\n",
        "#print(\"data shape after removing undefined value\", data.shape)\n",
        "X = data['Transportation (Mt)']\n",
        "y = data['Total CO2 Emission excluding LUCF (Mt)']"
      ],
      "metadata": {
        "trusted": true,
        "execution": {
          "iopub.status.busy": "2025-07-15T06:22:07.252010Z",
          "iopub.execute_input": "2025-07-15T06:22:07.252251Z",
          "iopub.status.idle": "2025-07-15T06:22:07.256622Z",
          "shell.execute_reply.started": "2025-07-15T06:22:07.252230Z",
          "shell.execute_reply": "2025-07-15T06:22:07.255685Z"
        },
        "id": "QEJqO71OtXJS"
      },
      "outputs": [],
      "execution_count": null
    },
    {
      "cell_type": "code",
      "source": [
        "# Standardization\n",
        "from sklearn.preprocessing import StandardScaler\n",
        "scaler = StandardScaler()\n",
        "#X_scaled = scaler.fit_transform(X)"
      ],
      "metadata": {
        "trusted": true,
        "execution": {
          "iopub.status.busy": "2025-07-15T06:22:07.257488Z",
          "iopub.execute_input": "2025-07-15T06:22:07.258074Z",
          "iopub.status.idle": "2025-07-15T06:22:07.269891Z",
          "shell.execute_reply.started": "2025-07-15T06:22:07.258044Z",
          "shell.execute_reply": "2025-07-15T06:22:07.269184Z"
        },
        "id": "e6O-AZXntXJS"
      },
      "outputs": [],
      "execution_count": null
    },
    {
      "cell_type": "markdown",
      "source": [
        "Hum... Something wrong. The error message warns us that `StandardScaler` requires matrices, whereas our `X` variable is a vector. We need to add a dimension and the message advises us to use `.reshape(-1,1)`. BUT `sklearn` uses numpy arrays by default, and our variable X is a dataframe. So `.reshape(-1,1)` won't work. We need to use `.values.reshape()` instead."
      ],
      "metadata": {
        "id": "iDocFj4WtXJS"
      }
    },
    {
      "cell_type": "code",
      "source": [
        "print(\"X shape:\", X.shape)\n",
        "print(\"X dimension:\", X.ndim)\n",
        "print(\"X type:\", type(X))\n",
        "\n",
        "X = X.values.reshape(-1, 1)\n",
        "\n",
        "print(\"new X shape:\", X.shape)\n",
        "print(\"new X dimension:\", X.ndim)\n",
        "print(\"new X type:\", type(X))"
      ],
      "metadata": {
        "trusted": true,
        "execution": {
          "iopub.status.busy": "2025-07-15T06:22:07.270618Z",
          "iopub.execute_input": "2025-07-15T06:22:07.270898Z",
          "iopub.status.idle": "2025-07-15T06:22:07.282034Z",
          "shell.execute_reply.started": "2025-07-15T06:22:07.270869Z",
          "shell.execute_reply": "2025-07-15T06:22:07.281340Z"
        },
        "id": "YjZ5OGqAtXJS",
        "colab": {
          "base_uri": "https://localhost:8080/"
        },
        "outputId": "678491f0-00a3-48fb-9e5a-86d37b0a7d48"
      },
      "outputs": [
        {
          "output_type": "stream",
          "name": "stdout",
          "text": [
            "X shape: (1134,)\n",
            "X dimension: 1\n",
            "X type: <class 'pandas.core.series.Series'>\n",
            "new X shape: (1134, 1)\n",
            "new X dimension: 2\n",
            "new X type: <class 'numpy.ndarray'>\n"
          ]
        }
      ],
      "execution_count": null
    },
    {
      "cell_type": "markdown",
      "source": [
        "Using `X.reshape(-1, 1)` means : \"we want to reshape X, into an array of `-1` rows and `1` column\". `-1` it the equivalent of saying \"take the dimension of the vector\" (here 1107). So now `StandardScaler()` will work."
      ],
      "metadata": {
        "id": "DkAzCSHltXJS"
      }
    },
    {
      "cell_type": "code",
      "source": [
        "X_scaled = scaler.fit_transform(X)"
      ],
      "metadata": {
        "trusted": true,
        "execution": {
          "iopub.status.busy": "2025-07-15T06:22:07.282752Z",
          "iopub.execute_input": "2025-07-15T06:22:07.282945Z",
          "iopub.status.idle": "2025-07-15T06:22:07.294140Z",
          "shell.execute_reply.started": "2025-07-15T06:22:07.282928Z",
          "shell.execute_reply": "2025-07-15T06:22:07.293516Z"
        },
        "id": "5OJb17MjtXJS"
      },
      "outputs": [],
      "execution_count": null
    },
    {
      "cell_type": "markdown",
      "source": [
        "But now `X` and `X_scaled` are numpy arrays. If you want to keep an dataframe format, you have to change the way you defines `X`."
      ],
      "metadata": {
        "id": "DG1IH6JotXJS"
      }
    },
    {
      "cell_type": "code",
      "source": [
        "# X = data['GDP PER CAPITA (USD)']  # --> Create a pandas series (1107,), thus a vector\n",
        "X = data[['GDP PER CAPITA (USD)']] # --> Create a dataframe which always a matrice\n",
        "y = data['Total CO2 Emission excluding LUCF (Mt)']\n",
        "\n",
        "print(\"X shape:\", X.shape)\n",
        "print(\"X type:\", type(X))\n",
        "\n",
        "X_scaled = scaler.fit_transform(X)\n",
        "\n",
        "print(\"new X shape:\", X_scaled.shape)\n",
        "print(\"new X type:\", type(X_scaled))"
      ],
      "metadata": {
        "trusted": true,
        "execution": {
          "iopub.status.busy": "2025-07-15T06:22:07.294867Z",
          "iopub.execute_input": "2025-07-15T06:22:07.295065Z",
          "iopub.status.idle": "2025-07-15T06:22:07.308393Z",
          "shell.execute_reply.started": "2025-07-15T06:22:07.295048Z",
          "shell.execute_reply": "2025-07-15T06:22:07.307608Z"
        },
        "id": "MF4RnmIFtXJS",
        "colab": {
          "base_uri": "https://localhost:8080/"
        },
        "outputId": "cd80b786-289c-40f7-a041-253c67a6a285"
      },
      "outputs": [
        {
          "output_type": "stream",
          "name": "stdout",
          "text": [
            "X shape: (1134, 1)\n",
            "X type: <class 'pandas.core.frame.DataFrame'>\n",
            "new X shape: (1134, 1)\n",
            "new X type: <class 'numpy.ndarray'>\n"
          ]
        }
      ],
      "execution_count": null
    },
    {
      "cell_type": "markdown",
      "source": [
        "We can compares the impact of this operation on the dataset."
      ],
      "metadata": {
        "id": "iM0uuiA0tXJS"
      }
    },
    {
      "cell_type": "code",
      "source": [
        "plt.figure()\n",
        "plt.subplot(121)\n",
        "plt.title(\"Raw data distribution\")\n",
        "plt.xlabel(\"GDP PER CAPITA (USD)\")\n",
        "plt.ylabel('Density')\n",
        "plt.hist(X, density=True, alpha=0.6, color='blue')\n",
        "plt.grid(True)\n",
        "plt.tight_layout()\n",
        "\n",
        "plt.subplot(122)\n",
        "plt.hist(X_scaled, density=True, alpha=0.6, color='blue')\n",
        "plt.title(\"Data distribution\")\n",
        "plt.xlabel(\"GDP PER CAPITA (USD)\")\n",
        "plt.ylabel(\"Density\")\n",
        "plt.grid(True)\n",
        "plt.tight_layout()\n",
        "\n",
        "plt.show()"
      ],
      "metadata": {
        "trusted": true,
        "execution": {
          "iopub.status.busy": "2025-07-15T06:22:07.309099Z",
          "iopub.execute_input": "2025-07-15T06:22:07.309383Z",
          "iopub.status.idle": "2025-07-15T06:22:07.679170Z",
          "shell.execute_reply.started": "2025-07-15T06:22:07.309357Z",
          "shell.execute_reply": "2025-07-15T06:22:07.678356Z"
        },
        "id": "aSMnnmHGtXJT",
        "colab": {
          "base_uri": "https://localhost:8080/",
          "height": 487
        },
        "outputId": "c04954ae-3b1c-43f5-d8af-778b6b0e844f"
      },
      "outputs": [
        {
          "output_type": "display_data",
          "data": {
            "text/plain": [
              "<Figure size 640x480 with 2 Axes>"
            ],
            "image/png": "[encoded data removed]"
          },
          "metadata": {}
        }
      ],
      "execution_count": null
    },
    {
      "cell_type": "code",
      "source": [
        "# Convert to numpy for plotting\n",
        "X_cpu = X_train.cpu().numpy()\n",
        "y_cpu = y_train.cpu().numpy()\n",
        "y_pred_cpu = y_pred.detach().numpy()\n",
        "\n",
        "# Plot\n",
        "plt.figure(figsize=(10, 6))\n",
        "plt.scatter(X_cpu, y_cpu, label=\"Actual\")\n",
        "plt.plot(X_cpu, y_pred_cpu, color=\"red\", label=\"Predicted\")\n",
        "plt.xlabel(\"GDP PER CAPITA (USD)\")\n",
        "plt.ylabel(\"CO₂ Emissions (Mt)\")\n",
        "plt.title(\"GDP vs CO₂ Emission Regression\")\n",
        "plt.legend()\n",
        "plt.grid(True)\n",
        "plt.show()"
      ],
      "metadata": {
        "trusted": true,
        "execution": {
          "iopub.status.busy": "2025-07-15T06:22:07.836921Z",
          "iopub.execute_input": "2025-07-15T06:22:07.837193Z",
          "iopub.status.idle": "2025-07-15T06:22:08.078525Z",
          "shell.execute_reply.started": "2025-07-15T06:22:07.837168Z",
          "shell.execute_reply": "2025-07-15T06:22:08.077727Z"
        },
        "id": "-X5YA_u7tXJU",
        "colab": {
          "base_uri": "https://localhost:8080/",
          "height": 564
        },
        "outputId": "6950ef91-52d6-478c-883e-923dbf963ac4"
      },
      "outputs": [
        {
          "output_type": "display_data",
          "data": {
            "text/plain": [
              "<Figure size 1000x600 with 1 Axes>"
            ],
            "image/png": "[encoded data removed]"
          },
          "metadata": {}
        }
      ],
      "execution_count": null
    }
  ]
}