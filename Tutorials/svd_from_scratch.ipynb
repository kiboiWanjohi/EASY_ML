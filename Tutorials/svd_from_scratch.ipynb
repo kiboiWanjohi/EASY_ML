{
  "cells": [
    {
      "cell_type": "markdown",
      "id": "4386f6c3",
      "metadata": {
        "id": "4386f6c3"
      },
      "source": [
        "# Singular Value Decomposition (SVD) from Scratch\n",
        "\n",
        "We manually compute the Singular Value Decomposition (SVD) of a 2×2 real matrix $( A )$.\n",
        "\n",
        "Let:\n",
        "\n",
        "$\n",
        "A = \\begin{pmatrix} 1 & 2 \\\\ 2 & 1 \\end{pmatrix}\n",
        "$\n",
        "\n",
        "We find matrices $( U )$, $( S )$, and  $(V)$ such that:\n",
        "\n",
        "$\n",
        "A = U S V^T\n",
        "$\n",
        "\n",
        "### SVD Breakdown\n",
        "\n",
        "1. Compute $ A^T A $\n",
        "2. Compute eigenvalues and eigenvectors of  $A^T A$\n",
        "3. Take square roots of eigenvalues to get singular values  $\\sigma_i $\n",
        "4. Construct matrix  $V$  from normalized eigenvectors (right singular vectors)\n",
        "5. Compute matrix  $U$  from  $u_i = \\frac{1}{\\sigma_i} A v_i$\n",
        "6. Reconstruct  $A $ and verify\n"
      ]
    },
    {
      "cell_type": "code",
      "execution_count": null,
      "id": "e7d83aa9",
      "metadata": {
        "colab": {
          "base_uri": "https://localhost:8080/"
        },
        "id": "e7d83aa9",
        "outputId": "d2228fbc-cdc9-4a93-c9ec-ec1878d65385"
      },
      "outputs": [
        {
          "output_type": "stream",
          "name": "stdout",
          "text": [
            "Matrix A:\n",
            "[[1. 2.]\n",
            " [2. 1.]]\n"
          ]
        }
      ],
      "source": [
        "import numpy as np\n",
        "\n",
        "# Step 0: Define matrix A\n",
        "A = np.array([[1, 2],\n",
        "              [2, 1]], dtype=float)\n",
        "print(\"Matrix A:\")\n",
        "print(A)\n"
      ]
    },
    {
      "cell_type": "code",
      "execution_count": null,
      "id": "cf44b3fe",
      "metadata": {
        "colab": {
          "base_uri": "https://localhost:8080/"
        },
        "id": "cf44b3fe",
        "outputId": "cd48defe-1738-413f-8214-25aa3073aee8"
      },
      "outputs": [
        {
          "output_type": "stream",
          "name": "stdout",
          "text": [
            "Step 1: A^T A =\n",
            "[[5. 4.]\n",
            " [4. 5.]]\n"
          ]
        }
      ],
      "source": [
        "# Step 1: Compute A^T A\n",
        "AtA = A.T @ A\n",
        "print(\"Step 1: A^T A =\")\n",
        "print(AtA)\n"
      ]
    },
    {
      "cell_type": "code",
      "execution_count": null,
      "id": "001a7bfb",
      "metadata": {
        "colab": {
          "base_uri": "https://localhost:8080/"
        },
        "id": "001a7bfb",
        "outputId": "2519738b-ce73-4ea5-b3e3-3aa1d1ae8082"
      },
      "outputs": [
        {
          "output_type": "stream",
          "name": "stdout",
          "text": [
            "Step 2: Eigenvalues:\n",
            "[9. 1.]\n",
            "Raw eigenvectors (columns of V before normalization):\n",
            "[[ 0.70710678 -0.70710678]\n",
            " [ 0.70710678  0.70710678]]\n"
          ]
        }
      ],
      "source": [
        "# Step 2: Compute eigenvalues and eigenvectors of A^T A\n",
        "\n",
        "eigvals, eigvecs = np.linalg.eig(AtA)\n",
        "\n",
        "# Sort the eigenvalues in descending order and get the corresponding indices\n",
        "idx = np.argsort(eigvals)[::-1]  # argsort returns indices that would sort the array; [::-1] reverses to descending\n",
        "\n",
        "# Reorder eigenvalues and eigenvectors using the sorted indices\n",
        "eigvals = eigvals[idx]           # sorted eigenvalues (largest to smallest)\n",
        "eigvecs = eigvecs[:, idx]        # reorder columns of eigenvectors accordingly\n",
        "\n",
        "# Display the sorted eigenvalues\n",
        "print(\"Step 2: Eigenvalues:\")\n",
        "print(eigvals)\n",
        "\n",
        "# Display the corresponding (unsanitized) eigenvectors before normalization\n",
        "print(\"Raw eigenvectors (columns of V before normalization):\")\n",
        "print(eigvecs)\n",
        "\n"
      ]
    },
    {
      "cell_type": "code",
      "execution_count": null,
      "id": "b0630cc9",
      "metadata": {
        "colab": {
          "base_uri": "https://localhost:8080/"
        },
        "id": "b0630cc9",
        "outputId": "57af7e98-76af-4db2-fb4b-317299120aac"
      },
      "outputs": [
        {
          "output_type": "stream",
          "name": "stdout",
          "text": [
            "Step 3: Singular values σ:\n",
            "[3. 1.]\n",
            "Step 4: Diagonal matrix S:\n",
            "[[3. 0.]\n",
            " [0. 1.]]\n"
          ]
        }
      ],
      "source": [
        "# Step 3: Compute singular values as the square roots of the (sorted) eigenvalues\n",
        "singular_values = np.sqrt(eigvals)  # Each σ_i = √λ_i, where λ_i is an eigenvalue of AᵗA\n",
        "\n",
        "# Construct the diagonal matrix S from the singular values\n",
        "S = np.diag(singular_values)  # Creates a diagonal matrix S with σ₁, σ₂, ..., on the diagonal\n",
        "\n",
        "# Display the singular values (σ₁ ≥ σ₂ ≥ ... ≥ 0)\n",
        "print(\"Step 3: Singular values σ:\")\n",
        "print(singular_values)\n",
        "\n",
        "# Display the diagonal matrix S used in the decomposition A = U S Vᵗ\n",
        "print(\"Step 4: Diagonal matrix S:\")\n",
        "print(S)\n",
        "\n"
      ]
    },
    {
      "cell_type": "code",
      "execution_count": null,
      "id": "c9feec95",
      "metadata": {
        "colab": {
          "base_uri": "https://localhost:8080/"
        },
        "id": "c9feec95",
        "outputId": "30681955-e625-4e2f-d4e5-9c917e70f7cc"
      },
      "outputs": [
        {
          "output_type": "stream",
          "name": "stdout",
          "text": [
            "Step 4: Normalized right singular vectors (V):\n",
            "[[ 0.70710678 -0.70710678]\n",
            " [ 0.70710678  0.70710678]]\n",
            "Check V^T V = I?\n",
            "[[ 1. -0.]\n",
            " [-0.  1.]]\n"
          ]
        }
      ],
      "source": [
        "# Step 4: Normalize eigenvectors to construct the orthonormal matrix V (right singular vectors)\n",
        "V = np.zeros_like(eigvecs)  # Initialize an empty matrix with the same shape as eigvecs\n",
        "\n",
        "# Loop over each eigenvector to normalize it (convert to unit vector)\n",
        "for i in range(eigvecs.shape[1]):\n",
        "    v = eigvecs[:, i]                     # Extract the i-th eigenvector (column)\n",
        "    V[:, i] = v / np.linalg.norm(v)      # Normalize it to unit length and store in V\n",
        "\n",
        "# Display the matrix V, whose columns are orthonormal right singular vectors\n",
        "print(\"Step 4: Normalized right singular vectors (V):\")\n",
        "print(V)\n",
        "\n",
        "# Verify that V is orthogonal: VᵗV should be (close to) the identity matrix\n",
        "print(\"Check V^T V = I?\")\n",
        "print(np.round(V.T @ V, decimals=4))  # Round to 4 decimal places for readability\n",
        "\n"
      ]
    },
    {
      "cell_type": "code",
      "execution_count": null,
      "id": "9fee8834",
      "metadata": {
        "colab": {
          "base_uri": "https://localhost:8080/"
        },
        "id": "9fee8834",
        "outputId": "2f74c939-d440-4e65-b9f1-5b5760a28eeb"
      },
      "outputs": [
        {
          "output_type": "stream",
          "name": "stdout",
          "text": [
            "Step 5: Left singular vectors (U):\n",
            "[[ 0.70710678  0.70710678]\n",
            " [ 0.70710678 -0.70710678]]\n",
            "Check U^T U = I?\n",
            "[[1. 0.]\n",
            " [0. 1.]]\n"
          ]
        }
      ],
      "source": [
        "# Step 5: Compute the left singular vectors U using uᵢ = (1/σᵢ) * A vᵢ\n",
        "U = np.zeros_like(A)  # Initialize U with the same shape as A (since U is m×m)\n",
        "\n",
        "# Loop through each singular value/vector pair\n",
        "for i in range(len(singular_values)):\n",
        "    sigma = singular_values[i]                # Current singular value σᵢ\n",
        "    if sigma > 1e-10:                          # Avoid division by zero or near-zero σᵢ\n",
        "        U[:, i] = (A @ V[:, i]) / sigma        # Compute uᵢ = (1/σᵢ) A vᵢ\n",
        "\n",
        "# Ensure each column of U is a unit vector (numerical safety)\n",
        "for i in range(U.shape[1]):\n",
        "    U[:, i] /= np.linalg.norm(U[:, i])         # Normalize uᵢ to ensure orthonormality\n",
        "\n",
        "# Display the left singular vectors U (columns of U)\n",
        "print(\"Step 5: Left singular vectors (U):\")\n",
        "print(U)\n",
        "\n",
        "# Verify orthogonality: UᵗU should be the identity matrix\n",
        "print(\"Check U^T U = I?\")\n",
        "print(np.round(U.T @ U, decimals=4))           # Round for better readability of numerical results\n",
        "\n"
      ]
    },
    {
      "cell_type": "code",
      "execution_count": null,
      "id": "73af85da",
      "metadata": {
        "colab": {
          "base_uri": "https://localhost:8080/"
        },
        "id": "73af85da",
        "outputId": "ee31f265-fbbd-487a-ad74-56cf18e94d26"
      },
      "outputs": [
        {
          "output_type": "stream",
          "name": "stdout",
          "text": [
            "Step 6: Reconstructed A:\n",
            "[[1. 2.]\n",
            " [2. 1.]]\n",
            "Difference A - USV^T:\n",
            "[[-0. -0.]\n",
            " [-0. -0.]]\n"
          ]
        }
      ],
      "source": [
        "# Step 6: Reconstruct A using the SVD components: A ≈ U S Vᵗ\n",
        "A_reconstructed = U @ S @ V.T  # Matrix multiplication: U * S * Vᵗ\n",
        "\n",
        "# Display the reconstructed matrix A from its SVD form\n",
        "print(\"Step 6: Reconstructed A:\")\n",
        "print(np.round(A_reconstructed, decimals=5))  # Rounded for cleaner output\n",
        "\n",
        "# Compute and display the difference between the original A and the reconstructed version\n",
        "print(\"Difference A - USV^T:\")\n",
        "print(np.round(A - A_reconstructed, decimals=5))  # This should be close to zero if SVD was accurate\n",
        "\n"
      ]
    }
  ],
  "metadata": {
    "kernelspec": {
      "display_name": "pyts",
      "language": "python",
      "name": "python3"
    },
    "language_info": {
      "codemirror_mode": {
        "name": "ipython",
        "version": 3
      },
      "file_extension": ".py",
      "mimetype": "text/x-python",
      "name": "python",
      "nbconvert_exporter": "python",
      "pygments_lexer": "ipython3",
      "version": "3.8.20"
    },
    "colab": {
      "provenance": []
    }
  },
  "nbformat": 4,
  "nbformat_minor": 5
}